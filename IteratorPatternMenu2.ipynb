{
 "cells": [
  {
   "cell_type": "markdown",
   "metadata": {},
   "source": [
    "# Exemple Iterator Pattern : Restaurant Menus 2"
   ]
  },
  {
   "cell_type": "markdown",
   "metadata": {},
   "source": [
    "__Dans le 1ere exemple, la serveuse doit savoir comment itérer dans chacun des menus. Ici elle utilise des itérateurs et n'a pas besoin de savoir comment sont implémentées les différents menus et comment on navigue dedans, tout ce qu'elle sait est qu'ils sont itérables.__"
   ]
  },
  {
   "cell_type": "code",
   "execution_count": 6,
   "metadata": {},
   "outputs": [],
   "source": [
    "from __future__ import annotations\n",
    "from collections.abc import Iterable, Iterator"
   ]
  },
  {
   "cell_type": "markdown",
   "metadata": {},
   "source": [
    "## Menu Item"
   ]
  },
  {
   "cell_type": "code",
   "execution_count": 7,
   "metadata": {},
   "outputs": [],
   "source": [
    "class MenuItem:\n",
    "\n",
    "    name: str\n",
    "    description: str\n",
    "    vegetarian: bool\n",
    "    price: float\n",
    "\n",
    "    def __init__(self, name: str, description: str, vegetarian: bool, price: float):\n",
    "        self.name = name\n",
    "        self.description = description\n",
    "        self.vegetarian = vegetarian\n",
    "        self.price = float"
   ]
  },
  {
   "cell_type": "markdown",
   "metadata": {},
   "source": [
    "## Menus"
   ]
  },
  {
   "cell_type": "code",
   "execution_count": 8,
   "metadata": {},
   "outputs": [],
   "source": [
    "class PancakeHouseMenu:\n",
    "    \n",
    "    def __init__(self) -> None:\n",
    "        self.menuItems=[]\n",
    "        self.addItem(\"K&B's Pancake Breakfast\", \"Pancakes with scrambled eggs, and toast\", True, 2.99)\n",
    "        self.addItem(\"Regular Pancake Breakfast\", \"Pancakes with fried eggs, sausage\", False, 2.99)\n",
    "        self.addItem(\"Blueberry Pancake\", \"Pancakes made with fresh blueberries\", True, 3.49)\n",
    "        self.addItem(\"Waffles\", \"Waffles, with your choice of blueberries or strawberries\", True, 3.59)\n",
    "        \n",
    "    def addItem(self, name:str, description:str, vegetarian:bool, price:float) -> None:\n",
    "        self.menuItem = MenuItem(name, description, vegetarian, price)\n",
    "        self.menuItems.append(self.menuItem)\n",
    "        \n",
    "    def createIterator(self):\n",
    "        return PancakeHouseMenuIterator(self.menuItems)"
   ]
  },
  {
   "cell_type": "code",
   "execution_count": 9,
   "metadata": {},
   "outputs": [],
   "source": [
    "class DinerMenu():\n",
    "    MAX_ITEMS: int = 6\n",
    "    numberOfItems: int = 0\n",
    "    \n",
    "    def __init__(self):\n",
    "        self.menuItems=[None]*self.MAX_ITEMS\n",
    "        self.addItem(\"Vegetarian BLT\",\"(Fakin') Bacon with Lettuce & tomato on whole wheat\", True, 2.99)\n",
    "        self.addItem(\"BLT\",\"Bacon with Lettuce & tomato on whole wheat\", False, 2.99)\n",
    "        self.addItem(\"Soup of the day\",\"Soup of the day with a side of potato salad\", False, 3.29)\n",
    "        self.addItem(\"Hotdog\",\"Soup of the day with a side of potato salad\", False, 3.29)\n",
    "        \n",
    "    def addItem(self, name:str, description:str, vegetarian:bool, price:float) -> None:\n",
    "        self.menuItem = MenuItem(name, description, vegetarian, price)\n",
    "        if self.numberOfItems >= self.MAX_ITEMS:\n",
    "            print(\"Sorry, menu is full! Can't add item to menu.\")\n",
    "        else:\n",
    "            self.menuItems[self.numberOfItems] = self.menuItem;\n",
    "            self.numberOfItems += 1\n",
    "        \n",
    "    def createIterator(self):\n",
    "        return DinerMenuIterator(self.menuItems)"
   ]
  },
  {
   "cell_type": "markdown",
   "metadata": {},
   "source": [
    "## Iterators\n",
    "On utilise l'interface iterator de Python, que les menus vont implémenter. Cette classe dispose de :\n",
    "\n",
    "* 2 attributs :  \n",
    "    * ___position__ : entier représentant la position actuelle de l'item (HAP : utile dans notre cas ?!)\n",
    "    * ___reverse__ : booleen indiquant le sens de parcours de la collection\n",
    "    \n",
    "    \n",
    "* 2 méthodes :\n",
    "    * __\\_\\_init\\_\\___ : set la collection dans laquelle itérer, le sens et l'incrément d'itération.\n",
    "    * __\\_\\_next\\_\\___ : méthode renvoyant l'item suivant d'une séquence ou lève une erreur si fin de la séquence"
   ]
  },
  {
   "cell_type": "code",
   "execution_count": 10,
   "metadata": {},
   "outputs": [],
   "source": [
    "class DinerMenuIterator(Iterator):\n",
    "    _position: int = None\n",
    "    _reverse: bool = False\n",
    "        \n",
    "    def __init__(self, collection:[], reverse: bool = False) -> None:\n",
    "        self._collection = collection\n",
    "        self._reverse = reverse\n",
    "        self._position = -1 if reverse else 0\n",
    "\n",
    "    def __next__(self):\n",
    "        try:\n",
    "            value = self._collection[self._position]\n",
    "            self._position += -1 if self._reverse else 1\n",
    "        except IndexError:\n",
    "            raise StopIteration()\n",
    "            \n",
    "        return value"
   ]
  },
  {
   "cell_type": "code",
   "execution_count": 11,
   "metadata": {},
   "outputs": [],
   "source": [
    "class PancakeHouseMenuIterator(Iterator):\n",
    "    _position: int = None\n",
    "    _reverse: bool = False\n",
    "        \n",
    "    def __init__(self, collection:[], reverse: bool = False) -> None:\n",
    "        self._collection = collection\n",
    "        self._reverse = reverse\n",
    "        self._position = -1 if reverse else 0\n",
    "\n",
    "    def __next__(self):\n",
    "        try:\n",
    "            value = self._collection[self._position]\n",
    "            self._position += -1 if self._reverse else 1\n",
    "        except IndexError:\n",
    "            raise StopIteration()\n",
    "            \n",
    "        return value"
   ]
  },
  {
   "cell_type": "markdown",
   "metadata": {},
   "source": [
    "## Serveuse"
   ]
  },
  {
   "cell_type": "markdown",
   "metadata": {},
   "source": [
    "NB : il faut créer l'itérateur à chaque fois qu'on a besoin de l'utiliser!"
   ]
  },
  {
   "cell_type": "code",
   "execution_count": 28,
   "metadata": {},
   "outputs": [],
   "source": [
    "class Waitress:\n",
    "    dM = DinerMenu()\n",
    "    pHM = PancakeHouseMenu()\n",
    "    \n",
    "    def printMenu(self):\n",
    "        self.dinerIterator = self.dM.createIterator()\n",
    "        self.breakfastIterator = self.pHM.createIterator()\n",
    "        print(\"Impression du menu du breakfast via iterateur :\")\n",
    "        self.printingMenu(self.breakfastIterator)\n",
    "        print(\"\\nImpression du menu du diner via iterateur :\")\n",
    "        self.printingMenu(self.dinerIterator)\n",
    "        \n",
    "    def printBreakfastMenu(self):\n",
    "        self.breakfastIterator = self.pHM.createIterator()\n",
    "        print(\"Impression du menu du breakfast via iterateur :\")\n",
    "        self.printingMenu(self.breakfastIterator)\n",
    "        \n",
    "    def printVegetarianMenu(self):\n",
    "        self.dinerIterator = self.dM.createIterator()\n",
    "        self.breakfastIterator = self.pHM.createIterator()\n",
    "        print(\"Impression du menu du breakfast via iterateur :\")\n",
    "    \n",
    "    def printingMenu(self, iterator):\n",
    "        for menuItem in iterator:\n",
    "            try:\n",
    "                print(menuItem.name)\n",
    "            except:\n",
    "                pass"
   ]
  },
  {
   "cell_type": "code",
   "execution_count": 29,
   "metadata": {},
   "outputs": [],
   "source": [
    "Mary = Waitress()"
   ]
  },
  {
   "cell_type": "code",
   "execution_count": 30,
   "metadata": {},
   "outputs": [
    {
     "name": "stdout",
     "output_type": "stream",
     "text": [
      "Impression du menu du breakfast via iterateur :\n",
      "K&B's Pancake Breakfast\n",
      "Regular Pancake Breakfast\n",
      "Blueberry Pancake\n",
      "Waffles\n",
      "\n",
      "Impression du menu du diner via iterateur :\n",
      "Vegetarian BLT\n",
      "BLT\n",
      "Soup of the day\n",
      "Hotdog\n"
     ]
    }
   ],
   "source": [
    "Mary.printMenu()"
   ]
  },
  {
   "cell_type": "code",
   "execution_count": 31,
   "metadata": {},
   "outputs": [
    {
     "name": "stdout",
     "output_type": "stream",
     "text": [
      "Impression du menu du breakfast via iterateur :\n",
      "K&B's Pancake Breakfast\n",
      "Regular Pancake Breakfast\n",
      "Blueberry Pancake\n",
      "Waffles\n"
     ]
    }
   ],
   "source": [
    "Mary.printBreakfastMenu()"
   ]
  },
  {
   "cell_type": "code",
   "execution_count": null,
   "metadata": {},
   "outputs": [],
   "source": []
  }
 ],
 "metadata": {
  "kernelspec": {
   "display_name": "Python 3",
   "language": "python",
   "name": "python3"
  },
  "language_info": {
   "codemirror_mode": {
    "name": "ipython",
    "version": 3
   },
   "file_extension": ".py",
   "mimetype": "text/x-python",
   "name": "python",
   "nbconvert_exporter": "python",
   "pygments_lexer": "ipython3",
   "version": "3.7.1"
  }
 },
 "nbformat": 4,
 "nbformat_minor": 2
}
