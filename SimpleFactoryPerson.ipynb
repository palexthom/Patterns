{
 "cells": [
  {
   "cell_type": "markdown",
   "metadata": {},
   "source": [
    "# Exemple de simple Factory"
   ]
  },
  {
   "cell_type": "markdown",
   "metadata": {},
   "source": [
    "Exemple repris depuis https://medium.com/@hardikpatel_6314/design-patterns-in-python-factory-c728b88603eb"
   ]
  },
  {
   "cell_type": "code",
   "execution_count": 1,
   "metadata": {},
   "outputs": [],
   "source": [
    "from abc import ABCMeta, abstractmethod"
   ]
  },
  {
   "cell_type": "markdown",
   "metadata": {},
   "source": [
    "## Classes produit"
   ]
  },
  {
   "cell_type": "markdown",
   "metadata": {},
   "source": [
    "Le produit sera des personnes, définies par la classa abstraite personne.  \n",
    "La factory va créer et renvoyer des personnes."
   ]
  },
  {
   "cell_type": "markdown",
   "metadata": {},
   "source": [
    "### Classe abstraite"
   ]
  },
  {
   "cell_type": "code",
   "execution_count": 2,
   "metadata": {},
   "outputs": [],
   "source": [
    "class Person(metaclass=ABCMeta):\n",
    "    @abstractmethod\n",
    "    def create(self):\n",
    "        pass"
   ]
  },
  {
   "cell_type": "markdown",
   "metadata": {},
   "source": [
    "### Classes concrètes"
   ]
  },
  {
   "cell_type": "code",
   "execution_count": 3,
   "metadata": {},
   "outputs": [],
   "source": [
    "class HR(Person):\n",
    "    def create(self, name):\n",
    "        print(f\"HR {name} is created\")"
   ]
  },
  {
   "cell_type": "code",
   "execution_count": 4,
   "metadata": {},
   "outputs": [],
   "source": [
    "class Engineer(Person):\n",
    "    def create(self, name):\n",
    "        print(f\"Engineer {name} is created\")"
   ]
  },
  {
   "cell_type": "markdown",
   "metadata": {},
   "source": [
    "## Classe Factory"
   ]
  },
  {
   "cell_type": "code",
   "execution_count": 5,
   "metadata": {},
   "outputs": [],
   "source": [
    "class PersonFactory(object):\n",
    "    @classmethod\n",
    "    def createPerson(cls, designation, name):\n",
    "        eval(designation)().create(name)\n",
    "        # eval() permet d'évaluer le contenu de la parenthèse comme du code Python"
   ]
  },
  {
   "cell_type": "markdown",
   "metadata": {},
   "source": [
    "## Code test / client"
   ]
  },
  {
   "cell_type": "markdown",
   "metadata": {},
   "source": [
    "On appelle la classe factory pour procéder à la création des personnes.  \n",
    "Ici dans cet exemple très simple on a une méthode de classe donc on instancie même pas la factory. La méthode de classe createPerson instancie une des deux classes concrètes et passe en paramètre le nom donné.  \n",
    "On n'a même pas de \"return\" donc on ne renvoie même âs d'objet!"
   ]
  },
  {
   "cell_type": "code",
   "execution_count": 6,
   "metadata": {},
   "outputs": [
    {
     "name": "stdout",
     "output_type": "stream",
     "text": [
      "Engineer Pierre is created\n"
     ]
    }
   ],
   "source": [
    "PersonFactory.createPerson(\"Engineer\", \"Pierre\")"
   ]
  },
  {
   "cell_type": "markdown",
   "metadata": {},
   "source": [
    "Intérêt ici : on a délégué à PersonFactory et il est possible d'ajouter des types de personnes à l'avenir, qu'on saura créer à l'aide de cette factory."
   ]
  },
  {
   "cell_type": "markdown",
   "metadata": {},
   "source": [
    "## Code initial complet de l'exemple :"
   ]
  },
  {
   "cell_type": "markdown",
   "metadata": {},
   "source": [
    "```\n",
    "\"\"\"\n",
    "Learn how to create simple factory which helps to hide\n",
    "logic of creating objects.\n",
    "\"\"\"\n",
    "\n",
    "from abc import ABCMeta, abstractmethod\n",
    "\n",
    "class Person(metaclass=ABCMeta):\n",
    "    @abstractmethod\n",
    "    def create(self):\n",
    "        pass\n",
    "\n",
    "class HR(Person):\n",
    "    def create(self, name):\n",
    "        print(f\"HR {name} is created\")\n",
    "\n",
    "class Engineer(Person):\n",
    "    def create(self, name):\n",
    "        print(f\"Engineer {name} is created\")\n",
    "\n",
    "class PersonFactory(object):\n",
    "    @classmethod\n",
    "    def createPerson(cls, designation, name):\n",
    "        eval(designation)().create(name)\n",
    "\n",
    "\n",
    "if __name__ == \"__main__\":\n",
    "    designation = input(\"Please enter the designation - \")\n",
    "    name = input(\"Please enter the person's name - \")\n",
    "    PersonFactory.createPerson(designation, name)\n",
    "```"
   ]
  }
 ],
 "metadata": {
  "kernelspec": {
   "display_name": "Python 3",
   "language": "python",
   "name": "python3"
  },
  "language_info": {
   "codemirror_mode": {
    "name": "ipython",
    "version": 3
   },
   "file_extension": ".py",
   "mimetype": "text/x-python",
   "name": "python",
   "nbconvert_exporter": "python",
   "pygments_lexer": "ipython3",
   "version": "3.7.6"
  }
 },
 "nbformat": 4,
 "nbformat_minor": 2
}
