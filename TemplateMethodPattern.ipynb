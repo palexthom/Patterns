{
 "cells": [
  {
   "cell_type": "markdown",
   "metadata": {},
   "source": [
    "# Template Method Pattern\n",
    "\n",
    "Code repris et commenté depuis : https://refactoring.guru/design-patterns/template-method"
   ]
  },
  {
   "cell_type": "markdown",
   "metadata": {},
   "source": [
    "## Structure du Pattern"
   ]
  },
  {
   "cell_type": "markdown",
   "metadata": {},
   "source": [
    "![Pattern description](Images/TemplateMethodPattern.PNG)"
   ]
  },
  {
   "cell_type": "markdown",
   "metadata": {},
   "source": [
    "## Exemple"
   ]
  },
  {
   "cell_type": "markdown",
   "metadata": {},
   "source": [
    "Définition d'une classe abstraite, contenant une méthode \"template\" qui définit le squelette d'un algorithme. La classe contient ensuite les méthodes correspondant aux différents steps de l'algorithme, certaines étant implémentées, d'autres non."
   ]
  },
  {
   "cell_type": "markdown",
   "metadata": {},
   "source": [
    "![Diagramme de classe exemple template pattern](Images/TemplateMethodPatternClass.PNG)"
   ]
  },
  {
   "cell_type": "code",
   "execution_count": 1,
   "metadata": {},
   "outputs": [],
   "source": [
    "from abc import ABC, abstractmethod"
   ]
  },
  {
   "cell_type": "code",
   "execution_count": 8,
   "metadata": {},
   "outputs": [],
   "source": [
    "class AbstractClass(ABC):\n",
    "\n",
    "    def template_method(self) -> None:\n",
    "        # Définition d'une structure d'algorithme\n",
    "        self.base_operation1()\n",
    "        self.required_operations1()\n",
    "        self.base_operation2()\n",
    "        self.hook1()\n",
    "        self.required_operations2()\n",
    "        self.base_operation3()\n",
    "        self.hook2()\n",
    "\n",
    "    # On implémente certaines méthodes\n",
    "\n",
    "    def base_operation1(self) -> None:\n",
    "        print(\"AbstractClass says: I am doing the bulk of the work\")\n",
    "\n",
    "    def base_operation2(self) -> None:\n",
    "        print(\"AbstractClass says: But I let subclasses override some operations\")\n",
    "\n",
    "    def base_operation3(self) -> None:\n",
    "        print(\"AbstractClass says: But I am doing the bulk of the work anyway\")\n",
    "\n",
    "    # D'autres méthodes seront implémentées par les subclasses\n",
    "\n",
    "    @abstractmethod\n",
    "    def required_operations1(self) -> None:\n",
    "        pass\n",
    "\n",
    "    @abstractmethod\n",
    "    def required_operations2(self) -> None:\n",
    "        pass\n",
    "    \n",
    "    # Les \"hooks\" ont pour comportement par défaut de ne rien faire.\n",
    "    # Ils peuvent être surchargées par les subclasses, mais ce n'est pas obligatoire.\n",
    "\n",
    "    def hook1(self) -> None:\n",
    "        pass\n",
    "\n",
    "    def hook2(self) -> None:\n",
    "        pass"
   ]
  },
  {
   "cell_type": "markdown",
   "metadata": {},
   "source": [
    "### Classes concrètes"
   ]
  },
  {
   "cell_type": "markdown",
   "metadata": {},
   "source": [
    "Elles :  \n",
    "* Implémentent la classe abstraite\n",
    "* Ne touchent pas à la méthode template\n",
    "* Implémentent les méthodes abstraites\n",
    "* Peuvent implémenter les hooks"
   ]
  },
  {
   "cell_type": "code",
   "execution_count": 9,
   "metadata": {},
   "outputs": [],
   "source": [
    "class ConcreteClass1(AbstractClass):\n",
    "\n",
    "    def required_operations1(self) -> None:\n",
    "        print(\"ConcreteClass1 says: Implemented Operation1\")\n",
    "\n",
    "    def required_operations2(self) -> None:\n",
    "        print(\"ConcreteClass1 says: Implemented Operation2\")"
   ]
  },
  {
   "cell_type": "code",
   "execution_count": 10,
   "metadata": {},
   "outputs": [],
   "source": [
    "class ConcreteClass2(AbstractClass):\n",
    "\n",
    "    def required_operations1(self) -> None:\n",
    "        print(\"ConcreteClass2 says: Implemented Operation1\")\n",
    "\n",
    "    def required_operations2(self) -> None:\n",
    "        print(\"ConcreteClass2 says: Implemented Operation2\")\n",
    "\n",
    "    def hook1(self) -> None:\n",
    "        print(\"ConcreteClass2 says: Overridden Hook1\")"
   ]
  },
  {
   "cell_type": "markdown",
   "metadata": {},
   "source": [
    "### Code client"
   ]
  },
  {
   "cell_type": "markdown",
   "metadata": {},
   "source": [
    "Appelle la méthode template pour exécuter l'algorithme.  \n",
    "Le code client n'a pas besoin de connaître les détails de l'implémentation, tant qu'il travaille avec des objets en utilisant l'interface de leur classe de base.  \n",
    "  \n",
    "(Ici on passe en paramètre de la méthode la classe à exécuter, en utilisant bien le type de la classe de base)."
   ]
  },
  {
   "cell_type": "code",
   "execution_count": 12,
   "metadata": {},
   "outputs": [],
   "source": [
    "def client_code(abstract_class: AbstractClass) -> None:\n",
    "    # ...\n",
    "    abstract_class.template_method()\n",
    "    # ..."
   ]
  },
  {
   "cell_type": "code",
   "execution_count": 13,
   "metadata": {},
   "outputs": [
    {
     "name": "stdout",
     "output_type": "stream",
     "text": [
      "Same client code can work with different subclasses:\n",
      "AbstractClass says: I am doing the bulk of the work\n",
      "ConcreteClass1 says: Implemented Operation1\n",
      "AbstractClass says: But I let subclasses override some operations\n",
      "ConcreteClass1 says: Implemented Operation2\n",
      "AbstractClass says: But I am doing the bulk of the work anyway\n",
      "\n",
      "Same client code can work with different subclasses:\n",
      "AbstractClass says: I am doing the bulk of the work\n",
      "ConcreteClass2 says: Implemented Operation1\n",
      "AbstractClass says: But I let subclasses override some operations\n",
      "ConcreteClass2 says: Overridden Hook1\n",
      "ConcreteClass2 says: Implemented Operation2\n",
      "AbstractClass says: But I am doing the bulk of the work anyway\n"
     ]
    }
   ],
   "source": [
    "print(\"Same client code can work with different subclasses:\")\n",
    "client_code(ConcreteClass1())\n",
    "print(\"\")\n",
    "\n",
    "print(\"Same client code can work with different subclasses:\")\n",
    "client_code(ConcreteClass2())"
   ]
  },
  {
   "cell_type": "markdown",
   "metadata": {},
   "source": [
    "## Code complet"
   ]
  },
  {
   "cell_type": "markdown",
   "metadata": {},
   "source": [
    "```python\n",
    "from abc import ABC, abstractmethod\n",
    "\n",
    "\n",
    "class AbstractClass(ABC):\n",
    "    \"\"\"\n",
    "    The Abstract Class defines a template method that contains a skeleton of\n",
    "    some algorithm, composed of calls to (usually) abstract primitive\n",
    "    operations.\n",
    "\n",
    "    Concrete subclasses should implement these operations, but leave the\n",
    "    template method itself intact.\n",
    "    \"\"\"\n",
    "\n",
    "    def template_method(self) -> None:\n",
    "        \"\"\"\n",
    "        The template method defines the skeleton of an algorithm.\n",
    "        \"\"\"\n",
    "\n",
    "        self.base_operation1()\n",
    "        self.required_operations1()\n",
    "        self.base_operation2()\n",
    "        self.hook1()\n",
    "        self.required_operations2()\n",
    "        self.base_operation3()\n",
    "        self.hook2()\n",
    "\n",
    "    # These operations already have implementations.\n",
    "\n",
    "    def base_operation1(self) -> None:\n",
    "        print(\"AbstractClass says: I am doing the bulk of the work\")\n",
    "\n",
    "    def base_operation2(self) -> None:\n",
    "        print(\"AbstractClass says: But I let subclasses override some operations\")\n",
    "\n",
    "    def base_operation3(self) -> None:\n",
    "        print(\"AbstractClass says: But I am doing the bulk of the work anyway\")\n",
    "\n",
    "    # These operations have to be implemented in subclasses.\n",
    "\n",
    "    @abstractmethod\n",
    "    def required_operations1(self) -> None:\n",
    "        pass\n",
    "\n",
    "    @abstractmethod\n",
    "    def required_operations2(self) -> None:\n",
    "        pass\n",
    "\n",
    "    # These are \"hooks.\" Subclasses may override them, but it's not mandatory\n",
    "    # since the hooks already have default (but empty) implementation. Hooks\n",
    "    # provide additional extension points in some crucial places of the\n",
    "    # algorithm.\n",
    "\n",
    "    def hook1(self) -> None:\n",
    "        pass\n",
    "\n",
    "    def hook2(self) -> None:\n",
    "        pass\n",
    "\n",
    "\n",
    "class ConcreteClass1(AbstractClass):\n",
    "    \"\"\"\n",
    "    Concrete classes have to implement all abstract operations of the base\n",
    "    class. They can also override some operations with a default implementation.\n",
    "    \"\"\"\n",
    "\n",
    "    def required_operations1(self) -> None:\n",
    "        print(\"ConcreteClass1 says: Implemented Operation1\")\n",
    "\n",
    "    def required_operations2(self) -> None:\n",
    "        print(\"ConcreteClass1 says: Implemented Operation2\")\n",
    "\n",
    "\n",
    "class ConcreteClass2(AbstractClass):\n",
    "    \"\"\"\n",
    "    Usually, concrete classes override only a fraction of base class'\n",
    "    operations.\n",
    "    \"\"\"\n",
    "\n",
    "    def required_operations1(self) -> None:\n",
    "        print(\"ConcreteClass2 says: Implemented Operation1\")\n",
    "\n",
    "    def required_operations2(self) -> None:\n",
    "        print(\"ConcreteClass2 says: Implemented Operation2\")\n",
    "\n",
    "    def hook1(self) -> None:\n",
    "        print(\"ConcreteClass2 says: Overridden Hook1\")\n",
    "\n",
    "\n",
    "def client_code(abstract_class: AbstractClass) -> None:\n",
    "    \"\"\"\n",
    "    The client code calls the template method to execute the algorithm. Client\n",
    "    code does not have to know the concrete class of an object it works with, as\n",
    "    long as it works with objects through the interface of their base class.\n",
    "    \"\"\"\n",
    "\n",
    "    # ...\n",
    "    abstract_class.template_method()\n",
    "    # ...\n",
    "\n",
    "\n",
    "if __name__ == \"__main__\":\n",
    "    print(\"Same client code can work with different subclasses:\")\n",
    "    client_code(ConcreteClass1())\n",
    "    print(\"\")\n",
    "\n",
    "    print(\"Same client code can work with different subclasses:\")\n",
    "    client_code(ConcreteClass2())\n",
    "```"
   ]
  }
 ],
 "metadata": {
  "kernelspec": {
   "display_name": "Python 3",
   "language": "python",
   "name": "python3"
  },
  "language_info": {
   "codemirror_mode": {
    "name": "ipython",
    "version": 3
   },
   "file_extension": ".py",
   "mimetype": "text/x-python",
   "name": "python",
   "nbconvert_exporter": "python",
   "pygments_lexer": "ipython3",
   "version": "3.7.1"
  }
 },
 "nbformat": 4,
 "nbformat_minor": 2
}
