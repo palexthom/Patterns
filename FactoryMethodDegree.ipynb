{
 "cells": [
  {
   "cell_type": "markdown",
   "metadata": {},
   "source": [
    "# Exemple de Factory Method"
   ]
  },
  {
   "cell_type": "markdown",
   "metadata": {},
   "source": [
    "Exemple repris et commenté depuis : https://medium.com/@hardikpatel_6314/design-patterns-in-python-factory-c728b88603eb"
   ]
  },
  {
   "cell_type": "code",
   "execution_count": 1,
   "metadata": {},
   "outputs": [],
   "source": [
    "from abc import ABCMeta, abstractmethod"
   ]
  },
  {
   "cell_type": "markdown",
   "metadata": {},
   "source": [
    "# Classes Degrees"
   ]
  },
  {
   "cell_type": "markdown",
   "metadata": {},
   "source": [
    "On définit ici des diplômes, qui sont ensuite utilisés dans nos profils créés ci-dessous."
   ]
  },
  {
   "cell_type": "markdown",
   "metadata": {},
   "source": [
    "## Classe abstraite"
   ]
  },
  {
   "cell_type": "code",
   "execution_count": 2,
   "metadata": {},
   "outputs": [],
   "source": [
    "class AbstractDegree(metaclass=ABCMeta):\n",
    "    @abstractmethod\n",
    "    def info(self):\n",
    "        pass"
   ]
  },
  {
   "cell_type": "markdown",
   "metadata": {},
   "source": [
    "## Classes concrètes"
   ]
  },
  {
   "cell_type": "markdown",
   "metadata": {},
   "source": [
    "Chaque classe implémente la méthode abstraite info et définit la méthode \\_\\_str\\_\\_"
   ]
  },
  {
   "cell_type": "code",
   "execution_count": 3,
   "metadata": {},
   "outputs": [],
   "source": [
    "class BE(AbstractDegree):\n",
    "    def info(self):\n",
    "        print(\"Classe BE : Je suis un Bachelor of engineering\")\n",
    "\n",
    "    def __str__(self):\n",
    "        return \"Bachelor of engineering\""
   ]
  },
  {
   "cell_type": "code",
   "execution_count": 4,
   "metadata": {},
   "outputs": [],
   "source": [
    "class ME(AbstractDegree):\n",
    "    def info(self):\n",
    "        print(\"Classe ME : je suis un Master of engineering\")\n",
    "\n",
    "    def __str__(self):\n",
    "        return \"Master of engineering\""
   ]
  },
  {
   "cell_type": "code",
   "execution_count": 5,
   "metadata": {},
   "outputs": [],
   "source": [
    "class MBA(AbstractDegree):\n",
    "    def info(self):\n",
    "        print(\"Class MBA : Je suis un Master of business administration\")\n",
    "\n",
    "    def __str__(self):\n",
    "        return \"Master of business administration\""
   ]
  },
  {
   "cell_type": "markdown",
   "metadata": {},
   "source": [
    "# Classes Profiles"
   ]
  },
  {
   "cell_type": "markdown",
   "metadata": {},
   "source": [
    "On va définir des profils de postes, qui auront :\n",
    "* une liste de diplômes (propriété \\__degreees_ initialisée dans le constructeur)  \n",
    "* une méthode abstraite _createProfile_ qui devra être implémentée par les classes concrètes.\n",
    "* une méthode _addDegree_ pour ajouter des diplômes\n",
    "* une méthode _getDegrees_ pour récupérer la liste des diplômes\n"
   ]
  },
  {
   "cell_type": "markdown",
   "metadata": {},
   "source": [
    "__Ce que renvoit une factory est une liste de diplômes__  \n",
    "(C'est cette liste d'objets diplômes le produit de la factory, qui n'est pas la même en fonction de la factory)"
   ]
  },
  {
   "cell_type": "markdown",
   "metadata": {},
   "source": [
    "## Classe abstraite Profile"
   ]
  },
  {
   "cell_type": "code",
   "execution_count": 6,
   "metadata": {},
   "outputs": [],
   "source": [
    "class ProfileAbstractFactory(object):\n",
    "    def __init__(self):\n",
    "        self._degrees = []\n",
    "\n",
    "    @abstractmethod\n",
    "    def createProfile(self):\n",
    "        pass\n",
    "\n",
    "    def addDegree(self, degree):\n",
    "        self._degrees.append(degree)\n",
    "\n",
    "    def getDegrees(self):\n",
    "        return self._degrees"
   ]
  },
  {
   "cell_type": "markdown",
   "metadata": {},
   "source": [
    "## Classes concrètes"
   ]
  },
  {
   "cell_type": "markdown",
   "metadata": {},
   "source": [
    "Les classes concrètes implémentent _createProfile_ en spécifiant une liste de diplôme correspondant au types de profil.  \n",
    "Ainsi un manager aura un Bachelor of Engineering et un un MBA."
   ]
  },
  {
   "cell_type": "code",
   "execution_count": 7,
   "metadata": {},
   "outputs": [],
   "source": [
    "class ManagerFactory(ProfileAbstractFactory):\n",
    "    def createProfile(self):\n",
    "        print (\"Manager Factory : j'ajoute des diplômes à ma liste et je renvoie celle-ci!\")\n",
    "        self.addDegree(BE())\n",
    "        self.addDegree(MBA())\n",
    "        return self._degrees\n",
    "    \n",
    "    def __str__(self):\n",
    "        return \"ManagerFactory\""
   ]
  },
  {
   "cell_type": "code",
   "execution_count": 8,
   "metadata": {},
   "outputs": [],
   "source": [
    "class EngineerFactory(ProfileAbstractFactory):\n",
    "    def createProfile(self):\n",
    "        print (\"Engineer Factory : j'ajoute des diplômes à ma liste et je renvoie celle-ci!\")\n",
    "        self.addDegree(BE())\n",
    "        self.addDegree(ME())\n",
    "        return self._degrees\n",
    "    \n",
    "    def __str__(self):\n",
    "        return \"EngineerFactory\""
   ]
  },
  {
   "cell_type": "markdown",
   "metadata": {},
   "source": [
    "# Classe factory"
   ]
  },
  {
   "cell_type": "markdown",
   "metadata": {},
   "source": [
    "C'est cette classe qui renvoie la lsite de diplômes d'un \"profil\", en lui passant en paramètre la factory à utiliser."
   ]
  },
  {
   "cell_type": "code",
   "execution_count": 9,
   "metadata": {},
   "outputs": [],
   "source": [
    "class ProfileFactory(object):\n",
    "    def getProfile(self, factory:ProfileAbstractFactory):\n",
    "        print(f\"Classe Factory : j'appelle la factory {factory}\")\n",
    "        print(f\"Classe Factory : c'est {factory.__str__()} qui renvoie la liste de diplômes.\")\n",
    "        return factory.createProfile()"
   ]
  },
  {
   "cell_type": "markdown",
   "metadata": {},
   "source": [
    "## Code test"
   ]
  },
  {
   "cell_type": "markdown",
   "metadata": {},
   "source": [
    "Ce code renvoie bien une liste d'objet \"Degree\", en appelant la factory et en lui passant en paramètre la factory à utiliser."
   ]
  },
  {
   "cell_type": "code",
   "execution_count": 10,
   "metadata": {},
   "outputs": [
    {
     "name": "stdout",
     "output_type": "stream",
     "text": [
      "Classe Factory : j'appelle la factory ManagerFactory\n",
      "Classe Factory : c'est ManagerFactory qui renvoie la liste de diplômes.\n",
      "Manager Factory : j'ajoute des diplômes à ma liste et je renvoie celle-ci!\n",
      "[<__main__.BE object at 0x0000025512F1A488>, <__main__.MBA object at 0x0000025512F214C8>]\n"
     ]
    }
   ],
   "source": [
    "pf = ProfileFactory().getProfile(ManagerFactory())\n",
    "print(pf)"
   ]
  },
  {
   "cell_type": "markdown",
   "metadata": {},
   "source": [
    "### Notes HAP"
   ]
  },
  {
   "cell_type": "markdown",
   "metadata": {},
   "source": [
    "Dans les autres exemples vus, le code client a une référence à une factory, qu'on affecte par exemple à l'initialisation.  \n",
    "Ensuite dans le code on fait appel à cette factory pour récupérer un objet d'un certain type, et le manipuler comme on le souhaite."
   ]
  },
  {
   "cell_type": "code",
   "execution_count": 11,
   "metadata": {},
   "outputs": [],
   "source": [
    "class Client():\n",
    "    _factory: ProfileFactory = None\n",
    "        \n",
    "    def __init__ (self, factory:ProfileAbstractFactory):\n",
    "        self._factory = factory\n",
    "        \n",
    "    def manipProduit(self, nomProfil:str) -> None :\n",
    "        profil: ProfileAbstractFactory = None\n",
    "        print (\"Classe cliente : je manipule un Profil mais je ne sais pas lequel\")\n",
    "        print(f\"Classe cliente : je demande la creation d'un profil {nomProfil}\")\n",
    "        profil = self._factory.getProfile(eval(nomProfil)())\n",
    "        print(f\"Classe cliente : j'ai récupéré une liste de diplômes :\")\n",
    "        print (profil)\n",
    "        #Create Profile renvoie la liste de diplomes, pas un objet profil à manipuler\n",
    "        print(f\"Classe cliente : je demande à chaque diplome de la liste ses infos :\")\n",
    "        for i in profil:\n",
    "            i.info()"
   ]
  },
  {
   "cell_type": "code",
   "execution_count": 12,
   "metadata": {},
   "outputs": [],
   "source": [
    "a = Client(ProfileFactory())"
   ]
  },
  {
   "cell_type": "code",
   "execution_count": 13,
   "metadata": {},
   "outputs": [
    {
     "name": "stdout",
     "output_type": "stream",
     "text": [
      "Classe cliente : je manipule un Profil mais je ne sais pas lequel\n",
      "Classe cliente : je demande la creation d'un profil EngineerFactory\n",
      "Classe Factory : j'appelle la factory EngineerFactory\n",
      "Classe Factory : c'est EngineerFactory qui renvoie la liste de diplômes.\n",
      "Engineer Factory : j'ajoute des diplômes à ma liste et je renvoie celle-ci!\n",
      "Classe cliente : j'ai récupéré une liste de diplômes :\n",
      "[<__main__.BE object at 0x0000025510F61C88>, <__main__.ME object at 0x0000025512DCC388>]\n",
      "Classe cliente : je demande à chaque diplome de la liste ses infos :\n",
      "Classe BE : Je suis un Bachelor of engineering\n",
      "Classe ME : je suis un Master of engineering\n"
     ]
    }
   ],
   "source": [
    "a.manipProduit(\"EngineerFactory\")"
   ]
  },
  {
   "cell_type": "markdown",
   "metadata": {},
   "source": [
    "## Factory Method - Code exemple initial complet"
   ]
  },
  {
   "cell_type": "markdown",
   "metadata": {},
   "source": [
    "```\n",
    "\"\"\"\n",
    "Learn how to create simple factory which helps to hide\n",
    "logic of creating objects.\n",
    "\"\"\"\n",
    "\n",
    "from abc import ABCMeta, abstractmethod\n",
    "\n",
    "class AbstractDegree(metaclass=ABCMeta):\n",
    "    @abstractmethod\n",
    "    def info(self):\n",
    "        pass\n",
    "\n",
    "\n",
    "class BE(AbstractDegree):\n",
    "    def info(self):\n",
    "        print(\"Bachelor of engineering\")\n",
    "\n",
    "    def __str__(self):\n",
    "        return \"Bachelor of engineering\"\n",
    "\n",
    "class ME(AbstractDegree):\n",
    "    def info(self):\n",
    "        print(\"Master of engineering\")\n",
    "\n",
    "    def __str__(self):\n",
    "        return \"Master of engineering\"\n",
    "\n",
    "\n",
    "class MBA(AbstractDegree):\n",
    "    def info(self):\n",
    "        print(\"Master of business administration\")\n",
    "\n",
    "    def __str__(self):\n",
    "        return \"Master of business administration\"\n",
    "\n",
    "\n",
    "class ProfileAbstractFactory(object):\n",
    "    def __init__(self):\n",
    "        self._degrees = []\n",
    "\n",
    "    @abstractmethod\n",
    "    def createProfile(self):\n",
    "        pass\n",
    "\n",
    "    def addDegree(self, degree):\n",
    "        self._degrees.append(degree)\n",
    "\n",
    "    def getDegrees(self):\n",
    "        return self._degrees\n",
    "\n",
    "\n",
    "class ManagerFactory(ProfileAbstractFactory):\n",
    "    def createProfile(self):\n",
    "        self.addDegree(BE())\n",
    "        self.addDegree(MBA())\n",
    "        return self._degrees\n",
    "\n",
    "class EngineerFactory(ProfileAbstractFactory):\n",
    "    def createProfile(self):\n",
    "        self.addDegree(BE())\n",
    "        self.addDegree(ME())\n",
    "        return self._degrees\n",
    "\n",
    "class ProfileFactory(object):\n",
    "    def getProfile(self, factory):\n",
    "        return factory.createProfile()\n",
    "\n",
    "    \n",
    "\n",
    "if __name__ == \"__main__\":\n",
    "    pf = ProfileFactory().getProfile(ManagerFactory())\n",
    "    print(pf)\n",
    "```"
   ]
  }
 ],
 "metadata": {
  "kernelspec": {
   "display_name": "Python 3",
   "language": "python",
   "name": "python3"
  },
  "language_info": {
   "codemirror_mode": {
    "name": "ipython",
    "version": 3
   },
   "file_extension": ".py",
   "mimetype": "text/x-python",
   "name": "python",
   "nbconvert_exporter": "python",
   "pygments_lexer": "ipython3",
   "version": "3.7.6"
  }
 },
 "nbformat": 4,
 "nbformat_minor": 2
}
