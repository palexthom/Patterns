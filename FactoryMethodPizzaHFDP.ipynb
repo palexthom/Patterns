{
 "cells": [
  {
   "cell_type": "markdown",
   "metadata": {},
   "source": [
    "# Factory Method Pizza HFDP"
   ]
  },
  {
   "cell_type": "markdown",
   "metadata": {},
   "source": [
    "Exemple de base repris depuis https://refactoring.guru/design-patterns/factory-method/python/example"
   ]
  },
  {
   "cell_type": "markdown",
   "metadata": {},
   "source": [
    "Mise en place l'exemple de factoryMethod proposé dans HFDP (proche de implémentation en Java dans le livre, par rapport à l'autre exemple que j'ai fait plus librement en exercice). Peu de commentaires ici, voir éventuellement dans l'autre exemple pour plus d'infos."
   ]
  },
  {
   "cell_type": "code",
   "execution_count": 53,
   "metadata": {},
   "outputs": [],
   "source": [
    "# Import de annotation des méthodes abstraites\n",
    "from __future__ import annotations\n",
    "from abc import ABC, abstractmethod"
   ]
  },
  {
   "cell_type": "markdown",
   "metadata": {},
   "source": [
    "# Classes Pizza (produit)"
   ]
  },
  {
   "cell_type": "markdown",
   "metadata": {},
   "source": [
    "* La classe Pizza définit le produit, et est l'interface qui sera implémentée par les différentes Pizzas (produits concrets).\n",
    "* La classe Pizza a des attributs et des méthodes permettant de se fabriquer, partagés par toutes les pizzas.  \n",
    "* Les pizzas au fromage newyorkaises et de chicago ne sont pas exactement les mêmes, mais ont les mêmes attributs et méthodes. (La méthode getName est la même pour les deux pizza mais c'est pour le plaisir d'avoir une méthode abstraite).  "
   ]
  },
  {
   "cell_type": "code",
   "execution_count": 54,
   "metadata": {},
   "outputs": [],
   "source": [
    "class Pizza(ABC):\n",
    "\n",
    "    name:str = None\n",
    "    dough:str = None\n",
    "    sauce:str = None\n",
    "    toppings:[str] = None\n",
    "    \n",
    "    def prepare(self) -> str:\n",
    "        print (f\"Objet Pizza : Prépare une pizza {self.name}.\")\n",
    "        print(\"Tossing dough...\")\n",
    "        print(\"Adding sauce...\")\n",
    "        print(\"Adding toppings...\")\n",
    "        for i in self.toppings:\n",
    "            print(f\"   -{i}\")\n",
    "        \n",
    "    def bake(self) -> str:\n",
    "        print (\"Objet Pizza : Cuisson de la pizza\")\n",
    "    \n",
    "    def cut(self) -> str:\n",
    "        print (\"Objet Pizza : Découpe de la pizza\")\n",
    "    \n",
    "    def box(self) -> str:\n",
    "        print (\"Objet Pizza : Emballage de la pizza\")\n",
    "    \n",
    "    def getName(self) -> str:\n",
    "        return self.name"
   ]
  },
  {
   "cell_type": "markdown",
   "metadata": {},
   "source": [
    "### Définition de pizzas concrètes"
   ]
  },
  {
   "cell_type": "code",
   "execution_count": 55,
   "metadata": {},
   "outputs": [],
   "source": [
    "class NYStyleCheesePizza(Pizza):\n",
    "    name = \"Pizza au fromage de style NewYorkais\"\n",
    "    dough = \"Pâte fine\"\n",
    "    sauce = \"Tomate\"\n",
    "    toppings = [\"basilic\",\"mozza\",\"olives\"]"
   ]
  },
  {
   "cell_type": "code",
   "execution_count": 56,
   "metadata": {},
   "outputs": [],
   "source": [
    "class NYStyleVeggiePizza(Pizza):\n",
    "    name = \"Pizza végé de style NewYorkais\"\n",
    "    dough = \"Pâte fine\"\n",
    "    sauce = \"Tomate\"\n",
    "    toppings = [\"basilic\",\"Végémozza\",\"olives\"]"
   ]
  },
  {
   "cell_type": "code",
   "execution_count": 57,
   "metadata": {},
   "outputs": [],
   "source": [
    "class ChicagoStyleCheesePizza(Pizza):\n",
    "    name = \"Pizza au fromage de style Chicago\"\n",
    "    dough = \"Pâte épaisse\"\n",
    "    sauce = \"Tomate\"\n",
    "    toppings = [\"basilic\",\"mozza\",\"olives\",\"chicago spice\"]\n",
    "        \n",
    "    def cut(self) -> str:\n",
    "        print (\"Objet Pizza : Découpe de la pizza façon Chicago!!\") "
   ]
  },
  {
   "cell_type": "code",
   "execution_count": 58,
   "metadata": {},
   "outputs": [],
   "source": [
    "class ChicagoStyleVeghiePizza(Pizza):\n",
    "    name = \"Pizza végé de style Chicago\"\n",
    "    dough = \"Pâte épaisse\"\n",
    "    sauce = \"Tomate\"\n",
    "    toppings = [\"basilic\",\"Végémozza\",\"olives\",\"Végé chicago spice\"]\n",
    "        \n",
    "    def cut(self) -> str:\n",
    "        print (\"Objet Pizza : Découpe de la pizza façon Chicago!!\") "
   ]
  },
  {
   "cell_type": "markdown",
   "metadata": {},
   "source": [
    "### Tests de la classe NYStyleCheesePizza"
   ]
  },
  {
   "cell_type": "code",
   "execution_count": 59,
   "metadata": {},
   "outputs": [
    {
     "name": "stdout",
     "output_type": "stream",
     "text": [
      "Pizza au fromage de style NewYorkais\n",
      "Gartniture :\n",
      "   -basilic\n",
      "   -mozza\n",
      "   -olives\n"
     ]
    }
   ],
   "source": [
    "pizza1 = NYStyleCheesePizza()\n",
    "print(pizza1.name)\n",
    "print(\"Gartniture :\")\n",
    "for i in pizza1.toppings:\n",
    "    print (f\"   -{i}\")"
   ]
  },
  {
   "cell_type": "markdown",
   "metadata": {},
   "source": [
    "# Classe Pizza Store (factory)"
   ]
  },
  {
   "cell_type": "code",
   "execution_count": 60,
   "metadata": {},
   "outputs": [],
   "source": [
    "class PizzaStore(ABC):\n",
    "\n",
    "    @abstractmethod\n",
    "    def createPizza(self):\n",
    "        pass\n",
    "\n",
    "    def orderPizza(self, typePizza: str) -> Pizza:\n",
    "        print(\"FactoryModel : on m'a demandé un objet Pizza, je le crée via ma methode createPizza()\")\n",
    "        # Appelle createPizza (factory method) pour créer un objet Pizza (produit)\n",
    "        pizza = self.createPizza(typePizza)\n",
    "        # Utilise les méthodes de Pizza\n",
    "        pizza.prepare()\n",
    "        pizza.bake()\n",
    "        pizza.cut()\n",
    "        pizza.box()\n",
    "        # Renvoie la pizza\n",
    "        return pizza"
   ]
  },
  {
   "cell_type": "markdown",
   "metadata": {},
   "source": [
    "### Classes Pizza Stores concrètes"
   ]
  },
  {
   "cell_type": "markdown",
   "metadata": {},
   "source": [
    "Classes concrètes, qui vont créer des pizzas au style newYorkais ou de Chicago.  \n",
    "\n",
    "(NB : On verra dans l'exemple de abstract Factory comment créer des familles de produit, puisqu'effectivement les pizzas de style NYC et Chicago ont des choses en commun qui pourraient être réunies)  \n",
    "\n",
    "La façon de commander une pizza est identique quelle que soit la ville, donc on n'a pas besoin de changer orderPizza.  \n",
    "\n",
    "La méthode orderPizza() appelle :\n",
    "* d'abord la creation d'une Pizza, qui sera différente en fonction de la Factory passée en paramètre à l'instanciation, \n",
    "* ensuite les différentes méthodes Pizza (NB : on pourrait définir dans PizzaStore des méthodes manipulant la pizza et uniquement faire appel aux méthodes de Pizza)"
   ]
  },
  {
   "cell_type": "code",
   "execution_count": 69,
   "metadata": {},
   "outputs": [],
   "source": [
    "class NYPizzaStore(PizzaStore):\n",
    "\n",
    "    def createPizza(self, typePizza: str) -> Pizza:\n",
    "        print(\"NYPizzaStore factory : c'est MOI qui crée l\\'objet Pizza!\")\n",
    "        if typePizza == \"Cheese\":\n",
    "            return NYStyleCheesePizza()\n",
    "        elif typePizza ==\"Veggie\":\n",
    "            return NYStyleVeggiePizza()"
   ]
  },
  {
   "cell_type": "markdown",
   "metadata": {},
   "source": [
    "NB : ici on ne l'a pas fait, mais l'intérêt pourrait aussi être d'avoir des stores qui ne fabriquent pas forcément les deux des pizzas au fromage ou végé, mais aussi des pizzas locales. Ils renverront de toutes façons des objets Pizza à la fin, qui auront les mêmes propriées (celles de Pizza) et seront fabriquées pareil (les méthodes de Pizza)."
   ]
  },
  {
   "cell_type": "code",
   "execution_count": 70,
   "metadata": {},
   "outputs": [],
   "source": [
    "class ChicagoPizzaStore(PizzaStore):\n",
    "\n",
    "    def createPizza(self, typePizza: str) -> Pizza:\n",
    "        print(\"ChicagoStore factory : c'est MOI qui crée l\\'objet Pizza!\")\n",
    "        if typePizza == \"Cheese\":\n",
    "            return ChicagoStyleCheesePizza()\n",
    "        elif typePizza ==\"Veggie\":\n",
    "            return ChicagoStyleVeggiePizza()     "
   ]
  },
  {
   "cell_type": "markdown",
   "metadata": {},
   "source": [
    "### Test de nos PizzaStores"
   ]
  },
  {
   "cell_type": "code",
   "execution_count": 71,
   "metadata": {},
   "outputs": [
    {
     "name": "stdout",
     "output_type": "stream",
     "text": [
      "FactoryModel : on m'a demandé un objet Pizza, je le crée via ma methode createPizza()\n",
      "NYPizzaStore factory : c'est MOI qui crée l'objet Pizza!\n",
      "Objet Pizza : Prépare une pizza Pizza végé de style NewYorkais.\n",
      "Tossing dough...\n",
      "Adding sauce...\n",
      "Adding toppings...\n",
      "   -basilic\n",
      "   -Végémozza\n",
      "   -olives\n",
      "Objet Pizza : Cuisson de la pizza\n",
      "Objet Pizza : Découpe de la pizza\n",
      "Objet Pizza : Emballage de la pizza\n",
      "Ethan a commandé une pizza Pizza végé de style NewYorkais\n",
      "\n",
      "FactoryModel : on m'a demandé un objet Pizza, je le crée via ma methode createPizza()\n",
      "ChicagoStore factory : c'est MOI qui crée l'objet Pizza!\n",
      "Objet Pizza : Prépare une pizza Pizza au fromage de style Chicago.\n",
      "Tossing dough...\n",
      "Adding sauce...\n",
      "Adding toppings...\n",
      "   -basilic\n",
      "   -mozza\n",
      "   -olives\n",
      "   -chicago spice\n",
      "Objet Pizza : Cuisson de la pizza\n",
      "Objet Pizza : Découpe de la pizza façon Chicago!!\n",
      "Objet Pizza : Emballage de la pizza\n",
      "Joel a commandé une pizza Pizza au fromage de style Chicago\n",
      "\n"
     ]
    }
   ],
   "source": [
    "#Création de magasins de Pizzas  :\n",
    "nyStore = NYPizzaStore()\n",
    "chicagoStore = ChicagoPizzaStore()\n",
    "#Commande de pizzas\n",
    "pizza1 = nyStore.orderPizza(\"Veggie\")\n",
    "print(f\"Ethan a commandé une pizza {pizza1.getName()}\\n\")\n",
    "pizza2 = chicagoStore.orderPizza(\"Cheese\")\n",
    "print(f\"Joel a commandé une pizza {pizza2.getName()}\\n\")"
   ]
  }
 ],
 "metadata": {
  "kernelspec": {
   "display_name": "Python 3",
   "language": "python",
   "name": "python3"
  },
  "language_info": {
   "codemirror_mode": {
    "name": "ipython",
    "version": 3
   },
   "file_extension": ".py",
   "mimetype": "text/x-python",
   "name": "python",
   "nbconvert_exporter": "python",
   "pygments_lexer": "ipython3",
   "version": "3.7.6"
  }
 },
 "nbformat": 4,
 "nbformat_minor": 2
}
