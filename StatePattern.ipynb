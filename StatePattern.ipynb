{
 "cells": [
  {
   "cell_type": "markdown",
   "metadata": {},
   "source": [
    "# State Pattern"
   ]
  },
  {
   "cell_type": "markdown",
   "metadata": {},
   "source": [
    "Code repris et commenté depuis https://refactoring.guru/design-patterns/state/python/example"
   ]
  },
  {
   "cell_type": "markdown",
   "metadata": {},
   "source": [
    "# Structure du Pattern"
   ]
  },
  {
   "cell_type": "markdown",
   "metadata": {},
   "source": [
    "![Structure du pattern State](Images/StatePattern.PNG)"
   ]
  },
  {
   "cell_type": "markdown",
   "metadata": {},
   "source": [
    "Assez similaire à Stratégie : le Context manipule différents états qui changent au runtime et basés sur une interface.  \n",
    "Nuance : les états concrets sont en mesure de changer l'état connu par le contexte!"
   ]
  },
  {
   "cell_type": "markdown",
   "metadata": {},
   "source": [
    "## Structure de l'exemple "
   ]
  },
  {
   "cell_type": "markdown",
   "metadata": {},
   "source": [
    "![State Pattern Example Diagram Class](Images/StatePatternClass.PNG)"
   ]
  },
  {
   "cell_type": "markdown",
   "metadata": {},
   "source": [
    "On instancie le contexte, en lui passant un état (pour l'initialiser). Ensuite en appelant l'une ou l'autre des requêtes, l'état va changer dans le contexte, et donc la façon de répondre aux requêtes va également changer."
   ]
  },
  {
   "cell_type": "code",
   "execution_count": 1,
   "metadata": {},
   "outputs": [],
   "source": [
    "from __future__ import annotations\n",
    "from abc import ABC, abstractmethod"
   ]
  },
  {
   "cell_type": "code",
   "execution_count": 2,
   "metadata": {},
   "outputs": [],
   "source": [
    "class Context(ABC):\n",
    "\n",
    "    _state = None\n",
    "\n",
    "    def __init__(self, state: State) -> None:\n",
    "        self.transition_to(state)\n",
    "\n",
    "    def transition_to(self, state: State):\n",
    "        print(f\"Context: Transition to {type(state).__name__}\")\n",
    "        self._state = state\n",
    "        self._state.context = self\n",
    "\n",
    "    def request1(self):\n",
    "        self._state.handle1()\n",
    "\n",
    "    def request2(self):\n",
    "        self._state.handle2()"
   ]
  },
  {
   "cell_type": "code",
   "execution_count": 3,
   "metadata": {},
   "outputs": [],
   "source": [
    "class State(ABC):\n",
    "\n",
    "    @property\n",
    "    def context(self) -> Context:\n",
    "        return self._context\n",
    "\n",
    "    @context.setter\n",
    "    def context(self, context: Context) -> None:\n",
    "        self._context = context\n",
    "\n",
    "    @abstractmethod\n",
    "    def handle1(self) -> None:\n",
    "        pass\n",
    "\n",
    "    @abstractmethod\n",
    "    def handle2(self) -> None:\n",
    "        pass"
   ]
  },
  {
   "cell_type": "code",
   "execution_count": 4,
   "metadata": {},
   "outputs": [],
   "source": [
    "class ConcreteStateA(State):\n",
    "    def handle1(self) -> None:\n",
    "        print(\"ConcreteStateA handles request1.\")\n",
    "        print(\"ConcreteStateA wants to change the state of the context.\")\n",
    "        self.context.transition_to(ConcreteStateB())\n",
    "\n",
    "    def handle2(self) -> None:\n",
    "        print(\"ConcreteStateA handles request2.\")\n"
   ]
  },
  {
   "cell_type": "code",
   "execution_count": 5,
   "metadata": {},
   "outputs": [],
   "source": [
    "class ConcreteStateB(State):\n",
    "    def handle1(self) -> None:\n",
    "        print(\"ConcreteStateB handles request1.\")\n",
    "\n",
    "    def handle2(self) -> None:\n",
    "        print(\"ConcreteStateB handles request2.\")\n",
    "        print(\"ConcreteStateB wants to change the state of the context.\")\n",
    "        self.context.transition_to(ConcreteStateA())"
   ]
  },
  {
   "cell_type": "code",
   "execution_count": 6,
   "metadata": {},
   "outputs": [
    {
     "name": "stdout",
     "output_type": "stream",
     "text": [
      "Context: Transition to ConcreteStateA\n",
      "ConcreteStateA handles request1.\n",
      "ConcreteStateA wants to change the state of the context.\n",
      "Context: Transition to ConcreteStateB\n",
      "ConcreteStateB handles request2.\n",
      "ConcreteStateB wants to change the state of the context.\n",
      "Context: Transition to ConcreteStateA\n"
     ]
    }
   ],
   "source": [
    "class Client():\n",
    "\n",
    "    if __name__ == \"__main__\" :\n",
    "        context = Context(ConcreteStateA())\n",
    "        context.request1()\n",
    "        context.request2()"
   ]
  },
  {
   "cell_type": "markdown",
   "metadata": {},
   "source": [
    "# Code complet"
   ]
  },
  {
   "cell_type": "markdown",
   "metadata": {},
   "source": [
    "```python\n",
    "from __future__ import annotations\n",
    "from abc import ABC, abstractmethod\n",
    "\n",
    "\n",
    "class Context(ABC):\n",
    "    \"\"\"\n",
    "    The Context defines the interface of interest to clients. It also maintains\n",
    "    a reference to an instance of a State subclass, which represents the current\n",
    "    state of the Context.\n",
    "    \"\"\"\n",
    "\n",
    "    _state = None\n",
    "    \"\"\"\n",
    "    A reference to the current state of the Context.\n",
    "    \"\"\"\n",
    "\n",
    "    def __init__(self, state: State) -> None:\n",
    "        self.transition_to(state)\n",
    "\n",
    "    def transition_to(self, state: State):\n",
    "        \"\"\"\n",
    "        The Context allows changing the State object at runtime.\n",
    "        \"\"\"\n",
    "\n",
    "        print(f\"Context: Transition to {type(state).__name__}\")\n",
    "        self._state = state\n",
    "        self._state.context = self\n",
    "\n",
    "    \"\"\"\n",
    "    The Context delegates part of its behavior to the current State object.\n",
    "    \"\"\"\n",
    "\n",
    "    def request1(self):\n",
    "        self._state.handle1()\n",
    "\n",
    "    def request2(self):\n",
    "        self._state.handle2()\n",
    "\n",
    "\n",
    "class State(ABC):\n",
    "    \"\"\"\n",
    "    The base State class declares methods that all Concrete State should\n",
    "    implement and also provides a backreference to the Context object,\n",
    "    associated with the State. This backreference can be used by States to\n",
    "    transition the Context to another State.\n",
    "    \"\"\"\n",
    "\n",
    "    @property\n",
    "    def context(self) -> Context:\n",
    "        return self._context\n",
    "\n",
    "    @context.setter\n",
    "    def context(self, context: Context) -> None:\n",
    "        self._context = context\n",
    "\n",
    "    @abstractmethod\n",
    "    def handle1(self) -> None:\n",
    "        pass\n",
    "\n",
    "    @abstractmethod\n",
    "    def handle2(self) -> None:\n",
    "        pass\n",
    "\n",
    "\n",
    "\"\"\"\n",
    "Concrete States implement various behaviors, associated with a state of the\n",
    "Context.\n",
    "\"\"\"\n",
    "\n",
    "\n",
    "class ConcreteStateA(State):\n",
    "    def handle1(self) -> None:\n",
    "        print(\"ConcreteStateA handles request1.\")\n",
    "        print(\"ConcreteStateA wants to change the state of the context.\")\n",
    "        self.context.transition_to(ConcreteStateB())\n",
    "\n",
    "    def handle2(self) -> None:\n",
    "        print(\"ConcreteStateA handles request2.\")\n",
    "\n",
    "\n",
    "class ConcreteStateB(State):\n",
    "    def handle1(self) -> None:\n",
    "        print(\"ConcreteStateB handles request1.\")\n",
    "\n",
    "    def handle2(self) -> None:\n",
    "        print(\"ConcreteStateB handles request2.\")\n",
    "        print(\"ConcreteStateB wants to change the state of the context.\")\n",
    "        self.context.transition_to(ConcreteStateA())\n",
    "\n",
    "\n",
    "if __name__ == \"__main__\":\n",
    "    # The client code.\n",
    "\n",
    "    context = Context(ConcreteStateA())\n",
    "    context.request1()\n",
    "    context.request2()\n",
    "```"
   ]
  },
  {
   "cell_type": "code",
   "execution_count": null,
   "metadata": {},
   "outputs": [],
   "source": []
  }
 ],
 "metadata": {
  "kernelspec": {
   "display_name": "Python 3",
   "language": "python",
   "name": "python3"
  },
  "language_info": {
   "codemirror_mode": {
    "name": "ipython",
    "version": 3
   },
   "file_extension": ".py",
   "mimetype": "text/x-python",
   "name": "python",
   "nbconvert_exporter": "python",
   "pygments_lexer": "ipython3",
   "version": "3.7.1"
  }
 },
 "nbformat": 4,
 "nbformat_minor": 2
}
