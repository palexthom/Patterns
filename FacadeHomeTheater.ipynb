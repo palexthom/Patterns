{
 "cells": [
  {
   "cell_type": "markdown",
   "metadata": {},
   "source": [
    "# Facade Pattern Example : Home Theater"
   ]
  },
  {
   "cell_type": "markdown",
   "metadata": {},
   "source": [
    "Exemple de la mise en oeuvre du design pattern \"Facade\" pour le cas d'un Home Cinema dans lequel on souhaite contrôler simplement les différents appareils impliqués, disposant chacun d'interfaces proposées par leurs fabricants."
   ]
  },
  {
   "cell_type": "markdown",
   "metadata": {},
   "source": [
    "![Image UML Facade Pattern Home Cinema](Images/FacadeHomeTheater.PNG)"
   ]
  },
  {
   "cell_type": "markdown",
   "metadata": {},
   "source": [
    "On définit les classes que l'on va contrôler avec notre interface.  \n",
    "NB : on ne définit que les méthodes que l'on va employer ensuite dans les exemples."
   ]
  },
  {
   "cell_type": "code",
   "execution_count": 15,
   "metadata": {},
   "outputs": [],
   "source": [
    "class Amplifier:\n",
    "    \n",
    "    def __init__(self):\n",
    "        tuner : Tuner = None\n",
    "        dvdPlayer : dvdPlayer = None\n",
    "        cdPlayer : dvdPlayer = None\n",
    "        \n",
    "    def on(self) -> None:\n",
    "        print(\"Ampli : je suis en marche.\")\n",
    "    \n",
    "    def off(self) -> None:\n",
    "        print(\"Ampli : je suis éteint.\")\n",
    "    \n",
    "    def setCD(self, cd:str) -> None:\n",
    "        print(f\"Ampli : le CD choisi est {cd}\")\n",
    "    \n",
    "    def setDVD(self, dvd:str) -> None:\n",
    "        print(f\"Ampli : le DVD choisi est {dvd}\")\n",
    "    \n",
    "    def setStereoSound(self) -> None:\n",
    "        pass\n",
    "    \n",
    "    def setSurroundSound(self) -> None:\n",
    "        pass\n",
    "    \n",
    "    def setTuner(self) -> None:\n",
    "        pass\n",
    "    \n",
    "    def setVolume(self, volume:int) -> None:\n",
    "        pass"
   ]
  },
  {
   "cell_type": "code",
   "execution_count": 16,
   "metadata": {},
   "outputs": [],
   "source": [
    "class Tuner:\n",
    "    \n",
    "    def __init__(self):\n",
    "        amplifier : Amplifier\n",
    "    \n",
    "    def on(self):\n",
    "        pass\n",
    "    \n",
    "    def off(self):\n",
    "        pass\n",
    "    \n",
    "    def setAM(self) -> None:\n",
    "        pass\n",
    "    \n",
    "    def setFM(self) -> None:\n",
    "        pass\n",
    "    \n",
    "    def setFrequency(self, freq:int) -> None:\n",
    "        pass"
   ]
  },
  {
   "cell_type": "code",
   "execution_count": 17,
   "metadata": {},
   "outputs": [],
   "source": [
    "class CdPlayer:\n",
    "    \n",
    "    def __init__(self):\n",
    "        amplifier : Amplifier\n",
    "    \n",
    "    def on(self):\n",
    "        pass\n",
    "    \n",
    "    def off(self):\n",
    "        pass\n",
    "    \n",
    "    def eject(self):\n",
    "        pass\n",
    "    \n",
    "    def pause(self):\n",
    "        pass\n",
    "    \n",
    "    def play(self):\n",
    "        pass\n",
    "    \n",
    "    def stop(self):\n",
    "        pass"
   ]
  },
  {
   "cell_type": "code",
   "execution_count": 45,
   "metadata": {},
   "outputs": [],
   "source": [
    "class DvdPlayer:\n",
    "    \n",
    "    def __init__(self):\n",
    "        amplifier : Amplifier\n",
    "    \n",
    "    def on(self):\n",
    "        print(\"DVD Player : je suis allumé\")\n",
    "    \n",
    "    def off(self):\n",
    "        print(\"DVD Player : je suis éteint\")\n",
    "    \n",
    "    def eject(self):\n",
    "        print(\"DVD Player : j'éjecte le DVD\")\n",
    "    \n",
    "    def pause(self):\n",
    "        print(\"DVD Player : lecture du DVD en pause\")\n",
    "    \n",
    "    def play(self):\n",
    "        print(\"DVD Player : je lance la lecture du DVD\")\n",
    "    \n",
    "    def stop(self):\n",
    "        print(\"DVD Player : arrêt de lecture du DVD\")"
   ]
  },
  {
   "cell_type": "code",
   "execution_count": 46,
   "metadata": {},
   "outputs": [],
   "source": [
    "class Projector:\n",
    "    dvdPlayer : DvdPlayer = None\n",
    "    \n",
    "    def on(self):\n",
    "        print(\"Projecteur : je suis en marche.\")\n",
    "    \n",
    "    def off(self):\n",
    "        print(\"Projecteur : je suis éteint.\")\n",
    "    \n",
    "    def wideScreenMode(self):\n",
    "        print(\"Projecteur : je suis réglé sur 'wide screen'\")"
   ]
  },
  {
   "cell_type": "code",
   "execution_count": 47,
   "metadata": {},
   "outputs": [],
   "source": [
    "class TheaterLights:\n",
    "    intensity:int = None\n",
    "    \n",
    "    def on(self):\n",
    "        print(\"Lumière : je suis allumée.\")\n",
    "    \n",
    "    def off(self):\n",
    "        print(\"Lumière : je suis éteinte\")\n",
    "    \n",
    "    def dim(self, intensity:int):\n",
    "        self.intensity = intensity\n",
    "        print(f\"Lumière tamisée à {intensity} %.\")"
   ]
  },
  {
   "cell_type": "code",
   "execution_count": 48,
   "metadata": {},
   "outputs": [],
   "source": [
    "class Screen:\n",
    "    def up(self):\n",
    "        print(\"Ecran : je suis remonté\")\n",
    "    \n",
    "    def down(self):\n",
    "        print(\"Ecran : je suis baissé\")"
   ]
  },
  {
   "cell_type": "code",
   "execution_count": 49,
   "metadata": {},
   "outputs": [],
   "source": [
    "class PopcornPopper:\n",
    "    def on(self) -> None:\n",
    "        print(\"Popper : je suis allumé\")\n",
    "    \n",
    "    def off(self) -> None:\n",
    "        print(\"Popper : je suis éteint.\")\n",
    "    \n",
    "    def pop(self) -> None:\n",
    "        print(\"Popper : je pop du pop corn.\")"
   ]
  },
  {
   "cell_type": "code",
   "execution_count": 50,
   "metadata": {
    "scrolled": true
   },
   "outputs": [],
   "source": [
    "class HomeTheaterFacade:\n",
    "    \n",
    "    amp: Amplifier = None\n",
    "    tuner : Tuner = None\n",
    "    dvd : DvdPlayer = None\n",
    "    cd : CdPlayer = None\n",
    "    projector : Projector = None\n",
    "    lights : TheaterLights = None\n",
    "    screen : Screen = None\n",
    "    popper : PopcornPopper = None\n",
    "        \n",
    "    def __init__ (self,amp: Amplifier, tuner: Tuner, dvd:DvdPlayer, cd: CdPlayer, \\\n",
    "                  projector: Projector, screen:Screen, lights: TheaterLights, \\\n",
    "                  popper:PopcornPopper) -> None :\n",
    "        self.amp = amp\n",
    "        self.tuner = tuner\n",
    "        self.dvd = dvd\n",
    "        self.cd = cd\n",
    "        self.projector = projector\n",
    "        self.lights = lights\n",
    "        self.screen = screen\n",
    "        self.popper = popper\n",
    "        \n",
    "    def watchMovie(self, movie:str) -> None:\n",
    "        print(\"Preparons nous à regarder un film !\")\n",
    "        self.popper.on()\n",
    "        self.popper.pop()\n",
    "        self.lights.dim(10)\n",
    "        self.screen.down()\n",
    "        self.projector.on()\n",
    "        self.projector.wideScreenMode()\n",
    "        self.amp.on()\n",
    "        self.amp.setDVD(\"Les aventuriers de l'arche perdue.\")\n",
    "        self.amp.setSurroundSound()\n",
    "        self.amp.setVolume(5)\n",
    "        dvd.on()\n",
    "        dvd.play()\n",
    "    \n",
    "    def endMovie(self) -> None:\n",
    "        print(\"Merci d'avoir regardé un film avec nous.\")\n",
    "        self.popper.off()\n",
    "        self.lights.on()\n",
    "        self.screen.up()\n",
    "        self.projector.off()\n",
    "        self.amp.off()\n",
    "        self.dvd.stop()\n",
    "        self.dvd.eject()\n",
    "        self.dvd.off()\n",
    "    \n",
    "    def listenToCd(self) -> None:\n",
    "        pass\n",
    "    \n",
    "    def endCd(self) -> None:\n",
    "        pass\n",
    "    \n",
    "    def listenToRadio(self) -> None:\n",
    "        pass\n",
    "    \n",
    "    def endRadio(self) -> None:\n",
    "        pass"
   ]
  },
  {
   "cell_type": "markdown",
   "metadata": {},
   "source": [
    "## Code Test"
   ]
  },
  {
   "cell_type": "code",
   "execution_count": 51,
   "metadata": {},
   "outputs": [],
   "source": [
    "amp = Amplifier()\n",
    "tuner = Tuner()\n",
    "dvd = DvdPlayer()\n",
    "cd = CdPlayer()\n",
    "projector = Projector()\n",
    "lights = TheaterLights()\n",
    "screen = Screen()\n",
    "popper = PopcornPopper()"
   ]
  },
  {
   "cell_type": "code",
   "execution_count": 52,
   "metadata": {},
   "outputs": [],
   "source": [
    "homeTheater = HomeTheaterFacade(amp,tuner,dvd,cd,projector,screen,lights,popper)"
   ]
  },
  {
   "cell_type": "code",
   "execution_count": 53,
   "metadata": {},
   "outputs": [
    {
     "name": "stdout",
     "output_type": "stream",
     "text": [
      "Preparons nous à regarder un film !\n",
      "Popper : je suis allumé\n",
      "Popper : je pop du pop corn.\n",
      "Lumière tamisée à 10 %.\n",
      "Ecran : je suis baissé\n",
      "Projecteur : je suis en marche.\n",
      "Projecteur : je suis réglé sur 'wide screen'\n",
      "Ampli : je suis en marche.\n",
      "Ampli : le DVD choisi est Les aventuriers de l'arche perdue.\n",
      "DVD Player : je suis allumé\n",
      "DVD Player : je lance la lecture du DVD\n"
     ]
    }
   ],
   "source": [
    "homeTheater.watchMovie(\"Les aventuriers de l'arche perdue.\")"
   ]
  },
  {
   "cell_type": "code",
   "execution_count": 54,
   "metadata": {},
   "outputs": [
    {
     "name": "stdout",
     "output_type": "stream",
     "text": [
      "Merci d'avoir regardé un film avec nous.\n",
      "Popper : je suis éteint.\n",
      "Lumière : je suis allumée.\n",
      "Ecran : je suis remonté\n",
      "Projecteur : je suis éteint.\n",
      "Ampli : je suis éteint.\n",
      "DVD Player : arrêt de lecture du DVD\n",
      "DVD Player : j'éjecte le DVD\n",
      "DVD Player : je suis éteint\n"
     ]
    }
   ],
   "source": [
    "homeTheater.endMovie()"
   ]
  }
 ],
 "metadata": {
  "kernelspec": {
   "display_name": "Python 3",
   "language": "python",
   "name": "python3"
  },
  "language_info": {
   "codemirror_mode": {
    "name": "ipython",
    "version": 3
   },
   "file_extension": ".py",
   "mimetype": "text/x-python",
   "name": "python",
   "nbconvert_exporter": "python",
   "pygments_lexer": "ipython3",
   "version": "3.7.1"
  }
 },
 "nbformat": 4,
 "nbformat_minor": 2
}
