{
 "cells": [
  {
   "cell_type": "markdown",
   "metadata": {},
   "source": [
    "# Factory Method Pizza"
   ]
  },
  {
   "cell_type": "markdown",
   "metadata": {},
   "source": [
    "Exemple de base repris depuis https://refactoring.guru/design-patterns/factory-method/python/example"
   ]
  },
  {
   "cell_type": "markdown",
   "metadata": {},
   "source": [
    "Mise en place l'exemple de factoryMethod proposé dans HFDP. Mise en oeuvre libre faite sous forme d'exercice par HAP. Autre exemple disponible en suivant exactement l'exemple Java de HFDP."
   ]
  },
  {
   "cell_type": "code",
   "execution_count": 1,
   "metadata": {},
   "outputs": [],
   "source": [
    "# Import de annotation des méthodes abstraites\n",
    "from __future__ import annotations\n",
    "from abc import ABC, abstractmethod"
   ]
  },
  {
   "cell_type": "markdown",
   "metadata": {},
   "source": [
    "# Classes Pizza (produit) et ses classes concrètes"
   ]
  },
  {
   "cell_type": "markdown",
   "metadata": {},
   "source": [
    "* La classe Pizza définit le produit, et est l'interface qui sera implémentée par les différentes Pizzas (produits concrets).\n",
    "* La classe Pizza a des attributs et des méthodes permettant de se fabriquer, partagés par toutes les pizzas.  \n",
    "* Les pizzas au fromage newyorkaises et de chicago ne sont pas exactement les mêmes, mais ont les mêmes attributs et méthodes. (La méthode getName est la même pour les deux pizza mais c'est pour le plaisir d'avoir une méthode abstraite).  "
   ]
  },
  {
   "cell_type": "code",
   "execution_count": 2,
   "metadata": {},
   "outputs": [],
   "source": [
    "class Pizza(ABC):\n",
    "\n",
    "    name:str = None\n",
    "    dough:str = None\n",
    "    sauce:str = None\n",
    "    toppings:[str] = None\n",
    "    \n",
    "    def prepare(self) -> str:\n",
    "        print (\"Objet Pizza : Préparation de la pizza\")\n",
    "    \n",
    "    def bake(self) -> str:\n",
    "        print (\"Objet Pizza : Cuisson de la pizza\")\n",
    "    \n",
    "    def cut(self) -> str:\n",
    "        print (\"Objet Pizza : Découpe de la pizza\")\n",
    "    \n",
    "    def box(self) -> str:\n",
    "        print (\"Objet Pizza : Emballage de la pizza\")\n",
    "    \n",
    "    @abstractmethod\n",
    "    def getName(self) -> str:\n",
    "        pass"
   ]
  },
  {
   "cell_type": "code",
   "execution_count": 3,
   "metadata": {},
   "outputs": [],
   "source": [
    "class NYStyleCheesePizza(Pizza):\n",
    "    name = \"Pizza au fromage de style NewYorkais\"\n",
    "    dough = \"Pâte fine\"\n",
    "    sauce = \"Tomate\"\n",
    "    toppings = [\"basilic\",\"mozza\",\"olives\"]\n",
    "    \n",
    "    def getName(self) -> str:\n",
    "        print(name)"
   ]
  },
  {
   "cell_type": "code",
   "execution_count": 4,
   "metadata": {},
   "outputs": [],
   "source": [
    "class ChicagoStyleCheesePizza(Pizza):\n",
    "    name = \"Pizza au fromage de style Chicago\"\n",
    "    dough = \"Pâte épaisse\"\n",
    "    sauce = \"Tomate\"\n",
    "    toppings = [\"basilic\",\"mozza\",\"olives\",\"chicago spice\"]\n",
    "    \n",
    "    def getName(self) -> str:\n",
    "        print(name)\n",
    "        \n",
    "    def cut(self) -> str:\n",
    "        print (\"Objet Pizza : Découpe de la pizza façon Chicago!!\") "
   ]
  },
  {
   "cell_type": "markdown",
   "metadata": {},
   "source": [
    "### Tests de la classe NYStyleCheesePizza"
   ]
  },
  {
   "cell_type": "code",
   "execution_count": 5,
   "metadata": {},
   "outputs": [
    {
     "name": "stdout",
     "output_type": "stream",
     "text": [
      "Pizza au fromage de style NewYorkais\n",
      "Gartniture :\n",
      "   -basilic\n",
      "   -mozza\n",
      "   -olives\n"
     ]
    }
   ],
   "source": [
    "pizza1 = NYStyleCheesePizza()\n",
    "print(pizza1.name)\n",
    "print(\"Gartniture :\")\n",
    "for i in pizza1.toppings:\n",
    "    print (f\"   -{i}\")"
   ]
  },
  {
   "cell_type": "markdown",
   "metadata": {},
   "source": [
    "# Classe Pizza Store (factory) et ses factory concrètes"
   ]
  },
  {
   "cell_type": "code",
   "execution_count": 6,
   "metadata": {},
   "outputs": [],
   "source": [
    "class PizzaStore(ABC):\n",
    "\n",
    "    @abstractmethod\n",
    "    def createPizza(self):\n",
    "        pass\n",
    "\n",
    "    def orderPizza(self) -> Pizza:\n",
    "        print(\"FactoryModel : on m'a demandé un objet Pizza, je le crée via ma methode createPizza()\")\n",
    "        # Appelle createPizza (factory method) pour créer un objet Pizza (produit)\n",
    "        pizza = self.createPizza()\n",
    "\n",
    "        # Now, use the product.\n",
    "        pizza.prepare()\n",
    "        pizza.bake()\n",
    "        pizza.cut()\n",
    "        pizza.box()\n",
    "        return pizza"
   ]
  },
  {
   "cell_type": "markdown",
   "metadata": {},
   "source": [
    "### Classes Pizza Stores par villes"
   ]
  },
  {
   "cell_type": "markdown",
   "metadata": {},
   "source": [
    "Ces classes sont les FactoryConcrètes, qui vont créer des pizzas au formaga au style newYorkais ou de Chicago.\n",
    "La façon de commander une pizza est identique quelle que soit la ville, donc on n'a pas besoin de changer orderPizza.  \n",
    "\n",
    "La méthode orderPizza() appelle :\n",
    "* d'abord la creation d'une Pizza, qui sera différente en fonction de la Factory passée en paramètre à l'instanciation, \n",
    "* ensuite les différentes méthodes Pizza (NB : on pourrait définir dans PizzaStore des méthodes manipulant la pizza et uniquement faire appel aux méthodes de Pizza)"
   ]
  },
  {
   "cell_type": "code",
   "execution_count": 7,
   "metadata": {},
   "outputs": [],
   "source": [
    "class NYPizzaStore(PizzaStore):\n",
    "\n",
    "    def createPizza(self) -> Pizza:\n",
    "        print(\"NYPizzaStore factory : c'est MOI qui crée l\\'objet Pizza!\")\n",
    "        return NYStyleCheesePizza()"
   ]
  },
  {
   "cell_type": "code",
   "execution_count": 8,
   "metadata": {},
   "outputs": [],
   "source": [
    "class ChicagoPizzaStore(PizzaStore):\n",
    "\n",
    "    def createPizza(self) -> Pizza:\n",
    "        print(\"ChicagoStore factory : c'est MOI qui crée l\\'objet Pizza!\")\n",
    "        return ChicagoStyleCheesePizza()"
   ]
  },
  {
   "cell_type": "markdown",
   "metadata": {},
   "source": [
    "### Test de NYPizzaStore"
   ]
  },
  {
   "cell_type": "code",
   "execution_count": 9,
   "metadata": {},
   "outputs": [
    {
     "name": "stdout",
     "output_type": "stream",
     "text": [
      "FactoryModel : on m'a demandé un objet Pizza, je le crée via ma methode createPizza()\n",
      "NYPizzaStore factory : c'est MOI qui crée l'objet Pizza!\n",
      "Objet Pizza : Préparation de la pizza\n",
      "Objet Pizza : Cuisson de la pizza\n",
      "Objet Pizza : Découpe de la pizza\n",
      "Objet Pizza : Emballage de la pizza\n"
     ]
    }
   ],
   "source": [
    "#Création d'un magasin capable de faire des pizzas NewYorkaises :\n",
    "nyStore = NYPizzaStore()\n",
    "#Commande d'une pizza\n",
    "pizza1 = nyStore.orderPizza()"
   ]
  },
  {
   "cell_type": "markdown",
   "metadata": {},
   "source": [
    "### Création d'une classe cliente"
   ]
  },
  {
   "cell_type": "markdown",
   "metadata": {},
   "source": [
    "Je veux pouvoir créer des franchises de variante NYC ou Chicago à qui je puisse passer des commandes de pizzas :  \n",
    "```strasbourg = nouvelleFranchise(NYPizzaStore())\n",
    "Strasbourg.orderPizza()```"
   ]
  },
  {
   "cell_type": "code",
   "execution_count": 10,
   "metadata": {},
   "outputs": [],
   "source": [
    "class nouvelleFranchise:\n",
    "    \n",
    "    _factory:Factory = None\n",
    "    \n",
    "    def __init__(self, pizzaStore: PizzaStore) -> None:\n",
    "        self._factory = pizzaStore\n",
    "        print(f\"Une nouvelle franchise a été créé de type {pizzaStore.__class__.__name__}.\")\n",
    "        \n",
    "    def orderPizza(self) -> Pizza:\n",
    "        print(\"Franchise : je ne sais pas à laquelle, mais je délègue la commande de pizza à la Factory passée en param.\")\n",
    "        return self._factory.orderPizza()"
   ]
  },
  {
   "cell_type": "code",
   "execution_count": 11,
   "metadata": {},
   "outputs": [
    {
     "name": "stdout",
     "output_type": "stream",
     "text": [
      "Une nouvelle franchise a été créé de type NYPizzaStore.\n",
      "Franchise : je ne sais pas à laquelle, mais je délègue la commande de pizza à la Factory passée en param.\n",
      "FactoryModel : on m'a demandé un objet Pizza, je le crée via ma methode createPizza()\n",
      "NYPizzaStore factory : c'est MOI qui crée l'objet Pizza!\n",
      "Objet Pizza : Préparation de la pizza\n",
      "Objet Pizza : Cuisson de la pizza\n",
      "Objet Pizza : Découpe de la pizza\n",
      "Objet Pizza : Emballage de la pizza\n"
     ]
    }
   ],
   "source": [
    "MagasinStrasbourg = nouvelleFranchise(NYPizzaStore())\n",
    "pizza = MagasinStrasbourg.orderPizza()"
   ]
  },
  {
   "cell_type": "code",
   "execution_count": 12,
   "metadata": {},
   "outputs": [
    {
     "name": "stdout",
     "output_type": "stream",
     "text": [
      "Pizza au fromage de style NewYorkais\n",
      "Gartniture :\n",
      "   -basilic\n",
      "   -mozza\n",
      "   -olives\n"
     ]
    }
   ],
   "source": [
    "print(pizza.name)\n",
    "print(\"Gartniture :\")\n",
    "for i in pizza1.toppings:\n",
    "    print (f\"   -{i}\")"
   ]
  },
  {
   "cell_type": "markdown",
   "metadata": {},
   "source": [
    "Commande d'une autre Pizza :"
   ]
  },
  {
   "cell_type": "code",
   "execution_count": 13,
   "metadata": {},
   "outputs": [
    {
     "name": "stdout",
     "output_type": "stream",
     "text": [
      "Franchise : je ne sais pas à laquelle, mais je délègue la commande de pizza à la Factory passée en param.\n",
      "FactoryModel : on m'a demandé un objet Pizza, je le crée via ma methode createPizza()\n",
      "NYPizzaStore factory : c'est MOI qui crée l'objet Pizza!\n",
      "Objet Pizza : Préparation de la pizza\n",
      "Objet Pizza : Cuisson de la pizza\n",
      "Objet Pizza : Découpe de la pizza\n",
      "Objet Pizza : Emballage de la pizza\n"
     ]
    }
   ],
   "source": [
    "pizza2 = MagasinStrasbourg.orderPizza()"
   ]
  },
  {
   "cell_type": "markdown",
   "metadata": {},
   "source": [
    "## Création d'une autre franchise et commande de pizza"
   ]
  },
  {
   "cell_type": "code",
   "execution_count": 14,
   "metadata": {},
   "outputs": [
    {
     "name": "stdout",
     "output_type": "stream",
     "text": [
      "Une nouvelle franchise a été créé de type ChicagoPizzaStore.\n"
     ]
    }
   ],
   "source": [
    "MagasinNancy = nouvelleFranchise(ChicagoPizzaStore())"
   ]
  },
  {
   "cell_type": "code",
   "execution_count": 15,
   "metadata": {},
   "outputs": [
    {
     "name": "stdout",
     "output_type": "stream",
     "text": [
      "Franchise : je ne sais pas à laquelle, mais je délègue la commande de pizza à la Factory passée en param.\n",
      "FactoryModel : on m'a demandé un objet Pizza, je le crée via ma methode createPizza()\n",
      "ChicagoStore factory : c'est MOI qui crée l'objet Pizza!\n",
      "Objet Pizza : Préparation de la pizza\n",
      "Objet Pizza : Cuisson de la pizza\n",
      "Objet Pizza : Découpe de la pizza façon Chicago!!\n",
      "Objet Pizza : Emballage de la pizza\n"
     ]
    }
   ],
   "source": [
    "pizza = MagasinNancy.orderPizza()"
   ]
  }
 ],
 "metadata": {
  "kernelspec": {
   "display_name": "Python 3",
   "language": "python",
   "name": "python3"
  },
  "language_info": {
   "codemirror_mode": {
    "name": "ipython",
    "version": 3
   },
   "file_extension": ".py",
   "mimetype": "text/x-python",
   "name": "python",
   "nbconvert_exporter": "python",
   "pygments_lexer": "ipython3",
   "version": "3.7.6"
  }
 },
 "nbformat": 4,
 "nbformat_minor": 2
}
