{
 "cells": [
  {
   "cell_type": "markdown",
   "metadata": {},
   "source": [
    "# Pattern Observer - Exemple Python\n",
    "Source : https://refactoring.guru/design-patterns/observer/python/example"
   ]
  },
  {
   "cell_type": "code",
   "execution_count": 1,
   "metadata": {},
   "outputs": [],
   "source": [
    "from __future__ import annotations\n",
    "from abc import ABC, abstractmethod\n",
    "from random import randrange\n",
    "from typing import List"
   ]
  },
  {
   "cell_type": "markdown",
   "metadata": {},
   "source": [
    "### Classe Sujet"
   ]
  },
  {
   "cell_type": "code",
   "execution_count": 2,
   "metadata": {},
   "outputs": [],
   "source": [
    "class Subject(ABC):\n",
    "    \"\"\"\n",
    "    The Subject interface declares a set of methods for managing subscribers.\n",
    "    \"\"\"\n",
    "\n",
    "    @abstractmethod\n",
    "    def attach(self, observer: Observer) -> None:\n",
    "        \"\"\"\n",
    "        Attach an observer to the subject.\n",
    "        \"\"\"\n",
    "        pass\n",
    "\n",
    "    @abstractmethod\n",
    "    def detach(self, observer: Observer) -> None:\n",
    "        \"\"\"\n",
    "        Detach an observer from the subject.\n",
    "        \"\"\"\n",
    "        pass\n",
    "\n",
    "    @abstractmethod\n",
    "    def notify(self) -> None:\n",
    "        \"\"\"\n",
    "        Notify all observers about an event.\n",
    "        \"\"\"\n",
    "        pass"
   ]
  },
  {
   "cell_type": "markdown",
   "metadata": {},
   "source": [
    "### Classe sujet concrete"
   ]
  },
  {
   "cell_type": "code",
   "execution_count": 3,
   "metadata": {},
   "outputs": [],
   "source": [
    "class ConcreteSubject(Subject):\n",
    "    \"\"\"\n",
    "    The Subject owns some important state and notifies observers when the state\n",
    "    changes.\n",
    "    \"\"\"\n",
    "\n",
    "    _state: int = None\n",
    "    \"\"\"\n",
    "    For the sake of simplicity, the Subject's state, essential to all\n",
    "    subscribers, is stored in this variable.\n",
    "    \"\"\"\n",
    "\n",
    "    _observers: List[Observer] = []\n",
    "    \"\"\"\n",
    "    List of subscribers. In real life, the list of subscribers can be stored\n",
    "    more comprehensively (categorized by event type, etc.).\n",
    "    \"\"\"\n",
    "\n",
    "    def attach(self, observer: Observer) -> None:\n",
    "        print(\"Subject: Attached an observer.\")\n",
    "        self._observers.append(observer)\n",
    "\n",
    "    def detach(self, observer: Observer) -> None:\n",
    "        self._observers.remove(observer)\n",
    "\n",
    "    \"\"\"\n",
    "    The subscription management methods.\n",
    "    \"\"\"\n",
    "\n",
    "    def notify(self) -> None:\n",
    "        \"\"\"\n",
    "        Trigger an update in each subscriber.\n",
    "        \"\"\"\n",
    "\n",
    "        print(\"Subject: Notifying observers...\")\n",
    "        for observer in self._observers:\n",
    "            observer.update(self)\n",
    "\n",
    "    def some_business_logic(self) -> None:\n",
    "        \"\"\"\n",
    "        Usually, the subscription logic is only a fraction of what a Subject can\n",
    "        really do. Subjects commonly hold some important business logic, that\n",
    "        triggers a notification method whenever something important is about to\n",
    "        happen (or after it).\n",
    "        \"\"\"\n",
    "\n",
    "        print(\"\\nSubject: I'm doing something important.\")\n",
    "        self._state = randrange(0, 10)\n",
    "\n",
    "        print(f\"Subject: My state has just changed to: {self._state}\")\n",
    "        self.notify()\n"
   ]
  },
  {
   "cell_type": "markdown",
   "metadata": {},
   "source": [
    "### Classe Observer"
   ]
  },
  {
   "cell_type": "code",
   "execution_count": 5,
   "metadata": {},
   "outputs": [],
   "source": [
    "class Observer(ABC):\n",
    "    \"\"\"\n",
    "    The Observer interface declares the update method, used by subjects.\n",
    "    \"\"\"\n",
    "\n",
    "    @abstractmethod\n",
    "    def update(self, subject: Subject) -> None:\n",
    "        \"\"\"\n",
    "        Receive update from subject.\n",
    "        \"\"\"\n",
    "        pass\n",
    "\n",
    "\n",
    "    \"\"\"\n",
    "    Concrete Observers react to the updates issued by the Subject they had been\n",
    "    attached to.\n",
    "    \"\"\""
   ]
  },
  {
   "cell_type": "markdown",
   "metadata": {},
   "source": [
    "### Classes Observer Concrètes"
   ]
  },
  {
   "cell_type": "code",
   "execution_count": 6,
   "metadata": {},
   "outputs": [],
   "source": [
    "class ConcreteObserverA(Observer):\n",
    "    def update(self, subject: Subject) -> None:\n",
    "        if subject._state < 3:\n",
    "            print(\"ConcreteObserverA: Reacted to the event\")\n",
    "\n",
    "\n",
    "class ConcreteObserverB(Observer):\n",
    "    def update(self, subject: Subject) -> None:\n",
    "        if subject._state == 0 or subject._state >= 2:\n",
    "            print(\"ConcreteObserverB: Reacted to the event\")"
   ]
  },
  {
   "cell_type": "markdown",
   "metadata": {},
   "source": [
    "## Code test"
   ]
  },
  {
   "cell_type": "code",
   "execution_count": 7,
   "metadata": {},
   "outputs": [],
   "source": [
    "subject = ConcreteSubject()"
   ]
  },
  {
   "cell_type": "code",
   "execution_count": 8,
   "metadata": {},
   "outputs": [
    {
     "name": "stdout",
     "output_type": "stream",
     "text": [
      "Subject: Attached an observer.\n"
     ]
    }
   ],
   "source": [
    "observer_a = ConcreteObserverA()\n",
    "subject.attach(observer_a)"
   ]
  },
  {
   "cell_type": "code",
   "execution_count": 9,
   "metadata": {},
   "outputs": [
    {
     "name": "stdout",
     "output_type": "stream",
     "text": [
      "Subject: Attached an observer.\n"
     ]
    }
   ],
   "source": [
    "observer_b = ConcreteObserverB()\n",
    "subject.attach(observer_b)"
   ]
  },
  {
   "cell_type": "code",
   "execution_count": 10,
   "metadata": {},
   "outputs": [
    {
     "name": "stdout",
     "output_type": "stream",
     "text": [
      "\n",
      "Subject: I'm doing something important.\n",
      "Subject: My state has just changed to: 7\n",
      "Subject: Notifying observers...\n",
      "ConcreteObserverB: Reacted to the event\n"
     ]
    }
   ],
   "source": [
    "subject.some_business_logic()"
   ]
  },
  {
   "cell_type": "code",
   "execution_count": 11,
   "metadata": {},
   "outputs": [
    {
     "name": "stdout",
     "output_type": "stream",
     "text": [
      "\n",
      "Subject: I'm doing something important.\n",
      "Subject: My state has just changed to: 2\n",
      "Subject: Notifying observers...\n",
      "ConcreteObserverA: Reacted to the event\n",
      "ConcreteObserverB: Reacted to the event\n"
     ]
    }
   ],
   "source": [
    "subject.some_business_logic()"
   ]
  },
  {
   "cell_type": "code",
   "execution_count": 12,
   "metadata": {},
   "outputs": [
    {
     "name": "stdout",
     "output_type": "stream",
     "text": [
      "\n",
      "Subject: I'm doing something important.\n",
      "Subject: My state has just changed to: 1\n",
      "Subject: Notifying observers...\n"
     ]
    }
   ],
   "source": [
    "subject.detach(observer_a)\n",
    "subject.some_business_logic()"
   ]
  },
  {
   "cell_type": "markdown",
   "metadata": {},
   "source": [
    "# Code Complet"
   ]
  },
  {
   "cell_type": "raw",
   "metadata": {},
   "source": [
    "from __future__ import annotations\n",
    "from abc import ABC, abstractmethod\n",
    "from random import randrange\n",
    "from typing import List\n",
    "\n",
    "\n",
    "class Subject(ABC):\n",
    "    \"\"\"\n",
    "    The Subject interface declares a set of methods for managing subscribers.\n",
    "    \"\"\"\n",
    "\n",
    "    @abstractmethod\n",
    "    def attach(self, observer: Observer) -> None:\n",
    "        \"\"\"\n",
    "        Attach an observer to the subject.\n",
    "        \"\"\"\n",
    "        pass\n",
    "\n",
    "    @abstractmethod\n",
    "    def detach(self, observer: Observer) -> None:\n",
    "        \"\"\"\n",
    "        Detach an observer from the subject.\n",
    "        \"\"\"\n",
    "        pass\n",
    "\n",
    "    @abstractmethod\n",
    "    def notify(self) -> None:\n",
    "        \"\"\"\n",
    "        Notify all observers about an event.\n",
    "        \"\"\"\n",
    "        pass\n",
    "\n",
    "\n",
    "class ConcreteSubject(Subject):\n",
    "    \"\"\"\n",
    "    The Subject owns some important state and notifies observers when the state\n",
    "    changes.\n",
    "    \"\"\"\n",
    "\n",
    "    _state: int = None\n",
    "    \"\"\"\n",
    "    For the sake of simplicity, the Subject's state, essential to all\n",
    "    subscribers, is stored in this variable.\n",
    "    \"\"\"\n",
    "\n",
    "    _observers: List[Observer] = []\n",
    "    \"\"\"\n",
    "    List of subscribers. In real life, the list of subscribers can be stored\n",
    "    more comprehensively (categorized by event type, etc.).\n",
    "    \"\"\"\n",
    "\n",
    "    def attach(self, observer: Observer) -> None:\n",
    "        print(\"Subject: Attached an observer.\")\n",
    "        self._observers.append(observer)\n",
    "\n",
    "    def detach(self, observer: Observer) -> None:\n",
    "        self._observers.remove(observer)\n",
    "\n",
    "    \"\"\"\n",
    "    The subscription management methods.\n",
    "    \"\"\"\n",
    "\n",
    "    def notify(self) -> None:\n",
    "        \"\"\"\n",
    "        Trigger an update in each subscriber.\n",
    "        \"\"\"\n",
    "\n",
    "        print(\"Subject: Notifying observers...\")\n",
    "        for observer in self._observers:\n",
    "            observer.update(self)\n",
    "\n",
    "    def some_business_logic(self) -> None:\n",
    "        \"\"\"\n",
    "        Usually, the subscription logic is only a fraction of what a Subject can\n",
    "        really do. Subjects commonly hold some important business logic, that\n",
    "        triggers a notification method whenever something important is about to\n",
    "        happen (or after it).\n",
    "        \"\"\"\n",
    "\n",
    "        print(\"\\nSubject: I'm doing something important.\")\n",
    "        self._state = randrange(0, 10)\n",
    "\n",
    "        print(f\"Subject: My state has just changed to: {self._state}\")\n",
    "        self.notify()\n",
    "\n",
    "\n",
    "class Observer(ABC):\n",
    "    \"\"\"\n",
    "    The Observer interface declares the update method, used by subjects.\n",
    "    \"\"\"\n",
    "\n",
    "    @abstractmethod\n",
    "    def update(self, subject: Subject) -> None:\n",
    "        \"\"\"\n",
    "        Receive update from subject.\n",
    "        \"\"\"\n",
    "        pass\n",
    "\n",
    "\n",
    "\"\"\"\n",
    "Concrete Observers react to the updates issued by the Subject they had been\n",
    "attached to.\n",
    "\"\"\"\n",
    "\n",
    "\n",
    "class ConcreteObserverA(Observer):\n",
    "    def update(self, subject: Subject) -> None:\n",
    "        if subject._state < 3:\n",
    "            print(\"ConcreteObserverA: Reacted to the event\")\n",
    "\n",
    "\n",
    "class ConcreteObserverB(Observer):\n",
    "    def update(self, subject: Subject) -> None:\n",
    "        if subject._state == 0 or subject._state >= 2:\n",
    "            print(\"ConcreteObserverB: Reacted to the event\")\n",
    "\n",
    "\n",
    "if __name__ == \"__main__\":\n",
    "    # The client code.\n",
    "\n",
    "    subject = ConcreteSubject()\n",
    "\n",
    "    observer_a = ConcreteObserverA()\n",
    "    subject.attach(observer_a)\n",
    "\n",
    "    observer_b = ConcreteObserverB()\n",
    "    subject.attach(observer_b)\n",
    "\n",
    "    subject.some_business_logic()\n",
    "    subject.some_business_logic()\n",
    "\n",
    "    subject.detach(observer_a)\n",
    "\n",
    "    subject.some_business_logic()"
   ]
  }
 ],
 "metadata": {
  "kernelspec": {
   "display_name": "Python 3",
   "language": "python",
   "name": "python3"
  },
  "language_info": {
   "codemirror_mode": {
    "name": "ipython",
    "version": 3
   },
   "file_extension": ".py",
   "mimetype": "text/x-python",
   "name": "python",
   "nbconvert_exporter": "python",
   "pygments_lexer": "ipython3",
   "version": "3.7.1"
  }
 },
 "nbformat": 4,
 "nbformat_minor": 2
}
