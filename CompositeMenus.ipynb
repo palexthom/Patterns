{
 "cells": [
  {
   "cell_type": "markdown",
   "metadata": {},
   "source": [
    "# Pattern Composite : Menus 3"
   ]
  },
  {
   "cell_type": "markdown",
   "metadata": {},
   "source": [
    "Reprise de l'exemple des menus de restaurant précédents mais en utilisant le pattern composite pour naviguer dans des menus, sous menus et plats de la même façon que l'on parcourrait un abre et toutes ses ramification."
   ]
  },
  {
   "cell_type": "markdown",
   "metadata": {},
   "source": [
    "## Diagramme de classe"
   ]
  },
  {
   "cell_type": "markdown",
   "metadata": {},
   "source": [
    "![Diagramme de classe de l'exemple](Images/CompositeMenu.png)"
   ]
  },
  {
   "cell_type": "code",
   "execution_count": 1,
   "metadata": {},
   "outputs": [],
   "source": [
    "from __future__ import annotations\n",
    "from abc import ABC, abstractmethod\n",
    "from typing import List"
   ]
  },
  {
   "cell_type": "code",
   "execution_count": 2,
   "metadata": {},
   "outputs": [],
   "source": [
    "class MenuComponent(ABC):\n",
    "    \n",
    "    # Note : pour mieux faire, défninir une exception de type \n",
    "    # 'UsupportedOperationException'\n",
    "\n",
    "    # COMPOSITE METHODS\n",
    "    def add(self, component: Component) -> None:\n",
    "        pass\n",
    "\n",
    "    def remove(self, component: Component) -> None:\n",
    "        pass\n",
    "    \n",
    "    def getChild(self):\n",
    "        pass\n",
    "    \n",
    "    # OPERATION METHODS used by MenuItems (but also by Menus)\n",
    "    def getName():\n",
    "        pass\n",
    "    \n",
    "    def getDescription():\n",
    "        pass\n",
    "    \n",
    "    def getPrice():\n",
    "        pass\n",
    "    \n",
    "    def isVegetarian():\n",
    "        pass\n",
    "    \n",
    "    def operation():\n",
    "        pass"
   ]
  },
  {
   "cell_type": "code",
   "execution_count": 3,
   "metadata": {},
   "outputs": [],
   "source": [
    "class MenuItem(MenuComponent):\n",
    "    # Leaf\n",
    "    \n",
    "    def __init__(self, name: str, description: str, vegetarian: bool, price: float):\n",
    "        self._name = name\n",
    "        self._description = description\n",
    "        self._vegetarian = vegetarian\n",
    "        self._price = price\n",
    "    \n",
    "    def getName(self):\n",
    "        return self._name\n",
    "    \n",
    "    def getDescription(self):\n",
    "        return self._description\n",
    "    \n",
    "    def getPrice(self):\n",
    "        return self._price\n",
    "    \n",
    "    def isVegetarian(self):\n",
    "        return self._vegetarian\n",
    "    \n",
    "    def operation(self) -> str:\n",
    "        chaine = []\n",
    "        chaine.append(self.getName())\n",
    "        if self._vegetarian:\n",
    "            chaine.append('(v)')\n",
    "        chaine.append(str(self.getPrice()))\n",
    "        chaine.append(self.getDescription())\n",
    "        print(','.join(chaine))"
   ]
  },
  {
   "cell_type": "code",
   "execution_count": 4,
   "metadata": {},
   "outputs": [],
   "source": [
    "class Menu(MenuComponent):\n",
    "    # Composant complexe pouvant avoir plusieurs enfants (leaf ou composite)\n",
    "    # Délègue le travail aux enfants, compile et retourne le résultat.\n",
    "\n",
    "    def __init__(self, name:str, description: str) -> None:\n",
    "        self._name = name\n",
    "        self._description = description\n",
    "        self._menuComponents: List[Component] = []\n",
    "    \n",
    "    def add(self, component: Component) -> None:\n",
    "        self._menuComponents.append(component)\n",
    "\n",
    "    def remove(self, component: Component) -> None:\n",
    "        pass\n",
    "    \n",
    "    def getChild(self, i:int):\n",
    "        return self._menuComponents[i]\n",
    "\n",
    "    def getName(self):\n",
    "        return self._name\n",
    "    \n",
    "    def getDescription(self):\n",
    "        return self._description\n",
    "\n",
    "    def operation(self) -> str:\n",
    "        # Appel récursif parmi ses enfants (Composites ou Leaf)\n",
    "        print(f'\\n {self.getName()}, {self.getDescription()}')\n",
    "        print('----------------------')\n",
    "        \n",
    "        for compo in self._menuComponents:\n",
    "            compo.operation()"
   ]
  },
  {
   "cell_type": "code",
   "execution_count": 5,
   "metadata": {},
   "outputs": [],
   "source": [
    "class Waitress:\n",
    "    allMenus: MenuComponent = None\n",
    "        \n",
    "    def __init__(self, allMenus: MenuComponent):\n",
    "        self.allMenus = allMenus\n",
    "        \n",
    "    def printMenu(self):\n",
    "        self.allMenus.operation()"
   ]
  },
  {
   "cell_type": "code",
   "execution_count": 8,
   "metadata": {},
   "outputs": [
    {
     "name": "stdout",
     "output_type": "stream",
     "text": [
      "\n",
      " ALL MENUS, All menus combined\n",
      "----------------------\n",
      "\n",
      " PANCAKE HOUSE MENU, Breakfast\n",
      "----------------------\n",
      "K&B's Pancake Breakfast,(v),2.99,Pancakes with scrambled eggs, and toast\n",
      "Regular Pancake Breakfast,2.99,Pancakes with fried eggs, sausage\n",
      "Blueberry Pancake,(v),3.49,Pancakes made with fresh blueberries\n",
      "Waffles,(v),3.59,Waffles, with your choice of blueberries or strawberries\n",
      "\n",
      " DINER MENU, Lunch\n",
      "----------------------\n",
      "Vegetarian BLT,(v),2.99,(Fakin') Bacon with Lettuce & tomato on whole wheat\n",
      "BLT,2.99,Bacon with Lettuce & tomato on whole wheat\n",
      "Soup of the day,3.29,Soup of the day with a side of potato salad\n",
      "Hotdog,3.29,Soup of the day with a side of potato salad\n",
      "\n",
      " DESSERT MENU, Dessert of course!\n",
      "----------------------\n",
      "Apple Pie,(v),1.59,Apple pie with a flakey crust, topped with vanilla icecream\n"
     ]
    }
   ],
   "source": [
    "class MenuTestDrive():\n",
    "    \n",
    "    if __name__ == \"__main__\":\n",
    "        #Creation de menus\n",
    "        pancakeHouseMenu = Menu(\"PANCAKE HOUSE MENU\", \"Breakfast\")\n",
    "        dinerMenu = Menu(\"DINER MENU\", \"Lunch\")\n",
    "        cafeMenu = Menu(\"CAFE MENU\", \"Dinner\")\n",
    "        dessertMenu = Menu(\"DESSERT MENU\", \"Dessert of course!\")\n",
    "\n",
    "        #Création de la structure\n",
    "        allMenus = Menu(\"ALL MENUS\", \"All menus combined\")\n",
    "        allMenus.add(pancakeHouseMenu)\n",
    "        allMenus.add(dinerMenu)\n",
    "\n",
    "        #Ajout des items aux menus\n",
    "        pancakeHouseMenu.add(MenuItem(\"K&B's Pancake Breakfast\", \"Pancakes with scrambled eggs, and toast\", True, 2.99))\n",
    "        pancakeHouseMenu.add(MenuItem(\"Regular Pancake Breakfast\", \"Pancakes with fried eggs, sausage\", False, 2.99))\n",
    "        pancakeHouseMenu.add(MenuItem(\"Blueberry Pancake\", \"Pancakes made with fresh blueberries\", True, 3.49))\n",
    "        pancakeHouseMenu.add(MenuItem(\"Waffles\", \"Waffles, with your choice of blueberries or strawberries\", True, 3.59))\n",
    "\n",
    "        dinerMenu.add(MenuItem(\"Vegetarian BLT\",\"(Fakin') Bacon with Lettuce & tomato on whole wheat\", True, 2.99))\n",
    "        dinerMenu.add(MenuItem(\"BLT\",\"Bacon with Lettuce & tomato on whole wheat\", False, 2.99))\n",
    "        dinerMenu.add(MenuItem(\"Soup of the day\",\"Soup of the day with a side of potato salad\", False, 3.29))\n",
    "        dinerMenu.add(MenuItem(\"Hotdog\",\"Soup of the day with a side of potato salad\", False, 3.29))\n",
    "\n",
    "        dessertMenu.add(MenuItem(\"Apple Pie\", \"Apple pie with a flakey crust, topped with vanilla icecream\", True, 1.59))\n",
    "        dinerMenu.add(dessertMenu)\n",
    "        \n",
    "        Maria = Waitress(allMenus)\n",
    "        Maria.printMenu()"
   ]
  }
 ],
 "metadata": {
  "kernelspec": {
   "display_name": "Python 3",
   "language": "python",
   "name": "python3"
  },
  "language_info": {
   "codemirror_mode": {
    "name": "ipython",
    "version": 3
   },
   "file_extension": ".py",
   "mimetype": "text/x-python",
   "name": "python",
   "nbconvert_exporter": "python",
   "pygments_lexer": "ipython3",
   "version": "3.7.6"
  }
 },
 "nbformat": 4,
 "nbformat_minor": 4
}
