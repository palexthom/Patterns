{
 "cells": [
  {
   "cell_type": "markdown",
   "metadata": {},
   "source": [
    "# (Naive) Singleton Pattern"
   ]
  },
  {
   "cell_type": "markdown",
   "metadata": {},
   "source": [
    "Naive Singleton, au sens où il n'est pas \"thread safe\".  \n",
    "Adapté et commenté depuis https://refactoring.guru/design-patterns/singleton/python/example#example-0"
   ]
  },
  {
   "cell_type": "markdown",
   "metadata": {},
   "source": [
    "![Diagramme de classe Singleton](Images/SingletonPattern.PNG)"
   ]
  },
  {
   "cell_type": "markdown",
   "metadata": {},
   "source": [
    "Plusieurs façon d'implémenter le singleton en Python. Ici fonctionnement avec une metaclasse."
   ]
  },
  {
   "cell_type": "code",
   "execution_count": 1,
   "metadata": {},
   "outputs": [],
   "source": [
    "class SingletonMeta(type):\n",
    "\n",
    "    _instances = {}\n",
    "\n",
    "    def __call__(cls, *args, **kwargs):\n",
    "        \"\"\"\n",
    "        Possible changes to the value of the `__init__` argument do not affect\n",
    "        the returned instance.\n",
    "        \"\"\"\n",
    "        if cls not in cls._instances:\n",
    "            instance = super().__call__(*args, **kwargs)\n",
    "            cls._instances[cls] = instance\n",
    "        return cls._instances[cls]"
   ]
  },
  {
   "cell_type": "code",
   "execution_count": 2,
   "metadata": {},
   "outputs": [],
   "source": [
    "class Singleton(metaclass=SingletonMeta):\n",
    "    def some_business_logic(self):\n",
    "        \"\"\"\n",
    "        Finally, any singleton should define some business logic, which can be\n",
    "        executed on its instance.\n",
    "        \"\"\"\n",
    "\n",
    "        # ..."
   ]
  },
  {
   "cell_type": "code",
   "execution_count": 3,
   "metadata": {},
   "outputs": [
    {
     "name": "stdout",
     "output_type": "stream",
     "text": [
      "Singleton works, both variables contain the same instance.\n"
     ]
    }
   ],
   "source": [
    "s1 = Singleton()\n",
    "s2 = Singleton()\n",
    "\n",
    "if id(s1) == id(s2):\n",
    "    print(\"Singleton works, both variables contain the same instance.\")\n",
    "else:\n",
    "    print(\"Singleton failed, variables contain different instances.\")"
   ]
  },
  {
   "cell_type": "markdown",
   "metadata": {},
   "source": [
    "Dans notre cas, le code __call__ s'execute dans Singleton, et donc ce qui est passé pour cls est bien Singleton. Si pas d'instance de Singleton dans la liste \\_instances de SingletonMeta, on crée cette instance de Singleton et on l'ajoute à la liste. Si existe déjà, c'est cette instance qu'on renvoie."
   ]
  },
  {
   "cell_type": "markdown",
   "metadata": {},
   "source": [
    "#### Différence entre init et call : \n",
    "* __init__ est utilisé pour initialiser une instance de la classe\n",
    "* __call__ permet d'appeler la classe comme si elle était une fonction\n",
    "\n",
    "_Exemple :_ \n",
    "Dans notre cas, Singleton implémente SingletonMeta, et donc dispose de cette méthode __call__ egalement.\n",
    "Ainsi, lorsqu' l'on appelle Singleton() c'est cette méthode qui est exécutée et qui retourne l'instance existante ou une nouvelle instance."
   ]
  },
  {
   "cell_type": "markdown",
   "metadata": {},
   "source": [
    "# Code d'origine complet"
   ]
  },
  {
   "cell_type": "markdown",
   "metadata": {},
   "source": [
    "```python\n",
    "class SingletonMeta(type):\n",
    "    \"\"\"\n",
    "    The Singleton class can be implemented in different ways in Python. Some\n",
    "    possible methods include: base class, decorator, metaclass. We will use the\n",
    "    metaclass because it is best suited for this purpose.\n",
    "    \"\"\"\n",
    "\n",
    "    _instances = {}\n",
    "\n",
    "    def __call__(cls, *args, **kwargs):\n",
    "        \"\"\"\n",
    "        Possible changes to the value of the `__init__` argument do not affect\n",
    "        the returned instance.\n",
    "        \"\"\"\n",
    "        if cls not in cls._instances:\n",
    "            instance = super().__call__(*args, **kwargs)\n",
    "            cls._instances[cls] = instance\n",
    "        return cls._instances[cls]\n",
    "\n",
    "\n",
    "class Singleton(metaclass=SingletonMeta):\n",
    "    def some_business_logic(self):\n",
    "        \"\"\"\n",
    "        Finally, any singleton should define some business logic, which can be\n",
    "        executed on its instance.\n",
    "        \"\"\"\n",
    "\n",
    "        # ...\n",
    "\n",
    "\n",
    "if __name__ == \"__main__\":\n",
    "    # The client code.\n",
    "\n",
    "    s1 = Singleton()\n",
    "    s2 = Singleton()\n",
    "\n",
    "    if id(s1) == id(s2):\n",
    "        print(\"Singleton works, both variables contain the same instance.\")\n",
    "    else:\n",
    "        print(\"Singleton failed, variables contain different instances.\")\n",
    "```"
   ]
  }
 ],
 "metadata": {
  "kernelspec": {
   "display_name": "Python 3",
   "language": "python",
   "name": "python3"
  },
  "language_info": {
   "codemirror_mode": {
    "name": "ipython",
    "version": 3
   },
   "file_extension": ".py",
   "mimetype": "text/x-python",
   "name": "python",
   "nbconvert_exporter": "python",
   "pygments_lexer": "ipython3",
   "version": "3.7.6"
  }
 },
 "nbformat": 4,
 "nbformat_minor": 2
}
