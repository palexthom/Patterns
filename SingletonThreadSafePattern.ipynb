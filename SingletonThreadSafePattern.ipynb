{
 "cells": [
  {
   "cell_type": "markdown",
   "metadata": {},
   "source": [
    "# (Thread Safe) Singleton Pattern"
   ]
  },
  {
   "cell_type": "markdown",
   "metadata": {},
   "source": [
    "Version \"thread safe\" du SingletonPattern.  \n",
    "Adapté et commenté depuis https://refactoring.guru/design-patterns/singleton/python/example#example-0"
   ]
  },
  {
   "cell_type": "markdown",
   "metadata": {},
   "source": [
    "![Diagramme de classe Singleton](Images/SingletonPattern.PNG)"
   ]
  },
  {
   "cell_type": "markdown",
   "metadata": {},
   "source": [
    "Plusieurs façon d'implémenter le singleton en Python. Ici fonctionnement avec une metaclasse."
   ]
  },
  {
   "cell_type": "code",
   "execution_count": 1,
   "metadata": {},
   "outputs": [],
   "source": [
    "from threading import Lock, Thread"
   ]
  },
  {
   "cell_type": "code",
   "execution_count": 2,
   "metadata": {},
   "outputs": [],
   "source": [
    "class SingletonMeta(type):\n",
    "\n",
    "    _instances = {}\n",
    "\n",
    "    _lock: Lock = Lock()\n",
    "    \"\"\"\n",
    "    We now have a lock object that will be used to synchronize threads during\n",
    "    first access to the Singleton.\n",
    "    \"\"\"\n",
    "\n",
    "    def __call__(cls, *args, **kwargs):\n",
    "        \"\"\"\n",
    "        Possible changes to the value of the `__init__` argument do not affect\n",
    "        the returned instance.\n",
    "        \"\"\"\n",
    "        # Now, imagine that the program has just been launched. Since there's no\n",
    "        # Singleton instance yet, multiple threads can simultaneously pass the\n",
    "        # previous conditional and reach this point almost at the same time. The\n",
    "        # first of them will acquire lock and will proceed further, while the\n",
    "        # rest will wait here.\n",
    "        with cls._lock:\n",
    "            # The first thread to acquire the lock, reaches this conditional,\n",
    "            # goes inside and creates the Singleton instance. Once it leaves the\n",
    "            # lock block, a thread that might have been waiting for the lock\n",
    "            # release may then enter this section. But since the Singleton field\n",
    "            # is already initialized, the thread won't create a new object.\n",
    "            if cls not in cls._instances:\n",
    "                instance = super().__call__(*args, **kwargs)\n",
    "                cls._instances[cls] = instance\n",
    "        return cls._instances[cls]"
   ]
  },
  {
   "cell_type": "code",
   "execution_count": 3,
   "metadata": {},
   "outputs": [],
   "source": [
    "class Singleton(metaclass=SingletonMeta):\n",
    "    value: str = None\n",
    "    \"\"\"\n",
    "    We'll use this property to prove that our Singleton really works.\n",
    "    \"\"\"\n",
    "\n",
    "    def __init__(self, value: str) -> None:\n",
    "        self.value = value\n",
    "\n",
    "    def some_business_logic(self):\n",
    "        \"\"\"\n",
    "        Finally, any singleton should define some business logic, which can be\n",
    "        executed on its instance.\n",
    "        \"\"\""
   ]
  },
  {
   "cell_type": "code",
   "execution_count": 4,
   "metadata": {},
   "outputs": [],
   "source": [
    "def test_singleton(value: str) -> None:\n",
    "    singleton = Singleton(value)\n",
    "    print(singleton.value)"
   ]
  },
  {
   "cell_type": "code",
   "execution_count": 5,
   "metadata": {},
   "outputs": [
    {
     "name": "stdout",
     "output_type": "stream",
     "text": [
      "If you see the same value, then singleton was reused (yay!)\n",
      "If you see different values, then 2 singletons were created (booo!!)\n",
      "\n",
      "\n"
     ]
    }
   ],
   "source": [
    "print(\"If you see the same value, then singleton was reused (yay!)\\n\"\n",
    "          \"If you see different values, \"\n",
    "          \"then 2 singletons were created (booo!!)\\n\\n\")"
   ]
  },
  {
   "cell_type": "code",
   "execution_count": 6,
   "metadata": {},
   "outputs": [
    {
     "name": "stdout",
     "output_type": "stream",
     "text": [
      "FOO\n",
      "FOO\n"
     ]
    }
   ],
   "source": [
    "process1 = Thread(target=test_singleton, args=(\"FOO\",))\n",
    "process2 = Thread(target=test_singleton, args=(\"BAR\",))\n",
    "process1.start()\n",
    "process2.start()"
   ]
  },
  {
   "cell_type": "markdown",
   "metadata": {},
   "source": [
    "# Code d'origine complet"
   ]
  },
  {
   "cell_type": "markdown",
   "metadata": {},
   "source": [
    "```python\n",
    "from threading import Lock, Thread\n",
    "\n",
    "\n",
    "class SingletonMeta(type):\n",
    "    \"\"\"\n",
    "    This is a thread-safe implementation of Singleton.\n",
    "    \"\"\"\n",
    "\n",
    "    _instances = {}\n",
    "\n",
    "    _lock: Lock = Lock()\n",
    "    \"\"\"\n",
    "    We now have a lock object that will be used to synchronize threads during\n",
    "    first access to the Singleton.\n",
    "    \"\"\"\n",
    "\n",
    "    def __call__(cls, *args, **kwargs):\n",
    "        \"\"\"\n",
    "        Possible changes to the value of the `__init__` argument do not affect\n",
    "        the returned instance.\n",
    "        \"\"\"\n",
    "        # Now, imagine that the program has just been launched. Since there's no\n",
    "        # Singleton instance yet, multiple threads can simultaneously pass the\n",
    "        # previous conditional and reach this point almost at the same time. The\n",
    "        # first of them will acquire lock and will proceed further, while the\n",
    "        # rest will wait here.\n",
    "        with cls._lock:\n",
    "            # The first thread to acquire the lock, reaches this conditional,\n",
    "            # goes inside and creates the Singleton instance. Once it leaves the\n",
    "            # lock block, a thread that might have been waiting for the lock\n",
    "            # release may then enter this section. But since the Singleton field\n",
    "            # is already initialized, the thread won't create a new object.\n",
    "            if cls not in cls._instances:\n",
    "                instance = super().__call__(*args, **kwargs)\n",
    "                cls._instances[cls] = instance\n",
    "        return cls._instances[cls]\n",
    "\n",
    "\n",
    "class Singleton(metaclass=SingletonMeta):\n",
    "    value: str = None\n",
    "    \"\"\"\n",
    "    We'll use this property to prove that our Singleton really works.\n",
    "    \"\"\"\n",
    "\n",
    "    def __init__(self, value: str) -> None:\n",
    "        self.value = value\n",
    "\n",
    "    def some_business_logic(self):\n",
    "        \"\"\"\n",
    "        Finally, any singleton should define some business logic, which can be\n",
    "        executed on its instance.\n",
    "        \"\"\"\n",
    "\n",
    "\n",
    "def test_singleton(value: str) -> None:\n",
    "    singleton = Singleton(value)\n",
    "    print(singleton.value)\n",
    "\n",
    "\n",
    "if __name__ == \"__main__\":\n",
    "    # The client code.\n",
    "\n",
    "    print(\"If you see the same value, then singleton was reused (yay!)\\n\"\n",
    "          \"If you see different values, \"\n",
    "          \"then 2 singletons were created (booo!!)\\n\\n\"\n",
    "          \"RESULT:\\n\")\n",
    "\n",
    "    process1 = Thread(target=test_singleton, args=(\"FOO\",))\n",
    "    process2 = Thread(target=test_singleton, args=(\"BAR\",))\n",
    "    process1.start()\n",
    "    process2.start()\n",
    "```"
   ]
  }
 ],
 "metadata": {
  "kernelspec": {
   "display_name": "Python 3",
   "language": "python",
   "name": "python3"
  },
  "language_info": {
   "codemirror_mode": {
    "name": "ipython",
    "version": 3
   },
   "file_extension": ".py",
   "mimetype": "text/x-python",
   "name": "python",
   "nbconvert_exporter": "python",
   "pygments_lexer": "ipython3",
   "version": "3.7.6"
  }
 },
 "nbformat": 4,
 "nbformat_minor": 2
}
