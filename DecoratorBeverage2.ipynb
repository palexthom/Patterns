{
 "cells": [
  {
   "cell_type": "markdown",
   "metadata": {},
   "source": [
    "# Exemple d'utilisation du pattern Decorator"
   ]
  },
  {
   "cell_type": "markdown",
   "metadata": {},
   "source": [
    "Code de base du pattern décorateur repris depuis : https://refactoring.guru/design-patterns/decorator/python/example"
   ]
  },
  {
   "cell_type": "markdown",
   "metadata": {},
   "source": [
    "Mise en oeuvre de l'exemple donné en Java dans HeadFirstDesignPatterns"
   ]
  },
  {
   "cell_type": "markdown",
   "metadata": {},
   "source": [
    "Dans cette implémentation, on suit l'exemple (voir code complet en bas de page) en déclarant l'attriut décoré dans le décorateur abstrait."
   ]
  },
  {
   "cell_type": "markdown",
   "metadata": {},
   "source": [
    "![Image du pattern](Images/Decorator.png)"
   ]
  },
  {
   "cell_type": "code",
   "execution_count": 1,
   "metadata": {},
   "outputs": [],
   "source": [
    "class Beverage():\n",
    "\n",
    "    _description: str = \"Unknown Beverage\"\n",
    "    \n",
    "    def getDescription(self) -> str:\n",
    "        return self._description\n",
    "    \n",
    "    def cost(self) -> float:\n",
    "        pass"
   ]
  },
  {
   "cell_type": "code",
   "execution_count": 2,
   "metadata": {},
   "outputs": [],
   "source": [
    "class Espresso(Beverage):\n",
    "    \n",
    "    def __init__(self) -> None:\n",
    "        self._description = \"Espresso\"\n",
    "\n",
    "    def cost(self) -> float:\n",
    "        return 1.99"
   ]
  },
  {
   "cell_type": "code",
   "execution_count": 3,
   "metadata": {},
   "outputs": [],
   "source": [
    "class HouseBlend(Beverage):\n",
    "\n",
    "    def __init__(self) -> None:\n",
    "        self._description = \"House Blend Coffee\"\n",
    "    \n",
    "    def cost(self) -> float:\n",
    "        return 0.89"
   ]
  },
  {
   "cell_type": "code",
   "execution_count": 4,
   "metadata": {},
   "outputs": [],
   "source": [
    "class CondimentDecorator(Beverage):\n",
    "    \n",
    "    _beverage: Beverage = None\n",
    "\n",
    "    def __init__(self, beverage: Beverage) -> None:\n",
    "        self._beverage = beverage  \n",
    "        \n",
    "    @property\n",
    "    def beverage(self) -> str:\n",
    "        return self._beverage\n",
    "     \n",
    "    def cost() -> float:\n",
    "        return self._beverage.cost()\n",
    "        \n",
    "    def getDescription(self) -> str:\n",
    "        return self._beverage.getDescription()"
   ]
  },
  {
   "cell_type": "code",
   "execution_count": 5,
   "metadata": {},
   "outputs": [],
   "source": [
    "class Mocha(CondimentDecorator):\n",
    "        \n",
    "    def getDescription(self) -> str:\n",
    "        return self.beverage.getDescription() + \", Mocha\"\n",
    "    \n",
    "    def cost(self) -> float:\n",
    "        return self.beverage.cost() + 0.2"
   ]
  },
  {
   "cell_type": "code",
   "execution_count": 6,
   "metadata": {},
   "outputs": [],
   "source": [
    "class Soy(CondimentDecorator):\n",
    "\n",
    "    def getDescription(self) -> str:\n",
    "        return self.beverage.getDescription() + \", Soy\"\n",
    "    \n",
    "    def cost(self) -> float:\n",
    "        return self.beverage.cost() + 0.5"
   ]
  },
  {
   "cell_type": "markdown",
   "metadata": {},
   "source": [
    "### Code test"
   ]
  },
  {
   "cell_type": "code",
   "execution_count": 7,
   "metadata": {},
   "outputs": [],
   "source": [
    "commande = Espresso()"
   ]
  },
  {
   "cell_type": "code",
   "execution_count": 8,
   "metadata": {},
   "outputs": [
    {
     "name": "stdout",
     "output_type": "stream",
     "text": [
      "Espresso $1.99\n"
     ]
    }
   ],
   "source": [
    "print(f\"{commande.getDescription()} ${commande.cost()}\")"
   ]
  },
  {
   "cell_type": "code",
   "execution_count": 9,
   "metadata": {},
   "outputs": [],
   "source": [
    "commande2 = HouseBlend()"
   ]
  },
  {
   "cell_type": "code",
   "execution_count": 10,
   "metadata": {},
   "outputs": [
    {
     "name": "stdout",
     "output_type": "stream",
     "text": [
      "House Blend Coffee $0.89\n"
     ]
    }
   ],
   "source": [
    "print(f\"{commande2.getDescription()} ${commande2.cost()}\")"
   ]
  },
  {
   "cell_type": "code",
   "execution_count": 11,
   "metadata": {},
   "outputs": [],
   "source": [
    "commande2 = Mocha(commande2)"
   ]
  },
  {
   "cell_type": "code",
   "execution_count": 12,
   "metadata": {},
   "outputs": [
    {
     "name": "stdout",
     "output_type": "stream",
     "text": [
      "House Blend Coffee, Mocha $1.09\n"
     ]
    }
   ],
   "source": [
    "print(f\"{commande2.getDescription()} ${commande2.cost()}\")"
   ]
  },
  {
   "cell_type": "code",
   "execution_count": 13,
   "metadata": {},
   "outputs": [],
   "source": [
    "commande2 = Soy(commande2)"
   ]
  },
  {
   "cell_type": "code",
   "execution_count": 14,
   "metadata": {},
   "outputs": [
    {
     "name": "stdout",
     "output_type": "stream",
     "text": [
      "House Blend Coffee, Mocha, Soy $1.59\n"
     ]
    }
   ],
   "source": [
    "print(f\"{commande2.getDescription()} ${commande2.cost()}\")"
   ]
  },
  {
   "cell_type": "code",
   "execution_count": 16,
   "metadata": {},
   "outputs": [
    {
     "name": "stdout",
     "output_type": "stream",
     "text": [
      "House Blend Coffee, Mocha, Soy $1.59\n"
     ]
    }
   ],
   "source": [
    "commande3 = Soy(Mocha(HouseBlend()))\n",
    "print(f\"{commande3.getDescription()} ${commande3.cost()}\")"
   ]
  },
  {
   "cell_type": "markdown",
   "metadata": {},
   "source": [
    "## Code complet original"
   ]
  },
  {
   "cell_type": "raw",
   "metadata": {},
   "source": [
    "class Component():\n",
    "    \"\"\"\n",
    "    The base Component interface defines operations that can be altered by\n",
    "    decorators.\n",
    "    \"\"\"\n",
    "\n",
    "    def operation(self) -> str:\n",
    "        pass\n",
    "\n",
    "\n",
    "class ConcreteComponent(Component):\n",
    "    \"\"\"\n",
    "    Concrete Components provide default implementations of the operations. There\n",
    "    might be several variations of these classes.\n",
    "    \"\"\"\n",
    "\n",
    "    def operation(self) -> str:\n",
    "        return \"ConcreteComponent\"\n",
    "\n",
    "\n",
    "class Decorator(Component):\n",
    "    \"\"\"\n",
    "    The base Decorator class follows the same interface as the other components.\n",
    "    The primary purpose of this class is to define the wrapping interface for\n",
    "    all concrete decorators. The default implementation of the wrapping code\n",
    "    might include a field for storing a wrapped component and the means to\n",
    "    initialize it.\n",
    "    \"\"\"\n",
    "\n",
    "    _component: Component = None\n",
    "\n",
    "    def __init__(self, component: Component) -> None:\n",
    "        self._component = component\n",
    "\n",
    "    @property\n",
    "    def component(self) -> str:\n",
    "        \"\"\"\n",
    "        The Decorator delegates all work to the wrapped component.\n",
    "        \"\"\"\n",
    "\n",
    "        return self._component\n",
    "\n",
    "    def operation(self) -> str:\n",
    "        return self._component.operation()\n",
    "\n",
    "\n",
    "class ConcreteDecoratorA(Decorator):\n",
    "    \"\"\"\n",
    "    Concrete Decorators call the wrapped object and alter its result in some\n",
    "    way.\n",
    "    \"\"\"\n",
    "\n",
    "    def operation(self) -> str:\n",
    "        \"\"\"\n",
    "        Decorators may call parent implementation of the operation, instead of\n",
    "        calling the wrapped object directly. This approach simplifies extension\n",
    "        of decorator classes.\n",
    "        \"\"\"\n",
    "        return f\"ConcreteDecoratorA({self.component.operation()})\"\n",
    "\n",
    "\n",
    "class ConcreteDecoratorB(Decorator):\n",
    "    \"\"\"\n",
    "    Decorators can execute their behavior either before or after the call to a\n",
    "    wrapped object.\n",
    "    \"\"\"\n",
    "\n",
    "    def operation(self) -> str:\n",
    "        return f\"ConcreteDecoratorB({self.component.operation()})\"\n",
    "\n",
    "\n",
    "def client_code(component: Component) -> None:\n",
    "    \"\"\"\n",
    "    The client code works with all objects using the Component interface. This\n",
    "    way it can stay independent of the concrete classes of components it works\n",
    "    with.\n",
    "    \"\"\"\n",
    "\n",
    "    # ...\n",
    "\n",
    "    print(f\"RESULT: {component.operation()}\", end=\"\")\n",
    "\n",
    "    # ...\n",
    "\n",
    "\n",
    "if __name__ == \"__main__\":\n",
    "    # This way the client code can support both simple components...\n",
    "    simple = ConcreteComponent()\n",
    "    print(\"Client: I've got a simple component:\")\n",
    "    client_code(simple)\n",
    "    print(\"\\n\")\n",
    "\n",
    "    # ...as well as decorated ones.\n",
    "    #\n",
    "    # Note how decorators can wrap not only simple components but the other\n",
    "    # decorators as well.\n",
    "    decorator1 = ConcreteDecoratorA(simple)\n",
    "    decorator2 = ConcreteDecoratorB(decorator1)\n",
    "    print(\"Client: Now I've got a decorated component:\")\n",
    "    client_code(decorator2)"
   ]
  }
 ],
 "metadata": {
  "kernelspec": {
   "display_name": "Python 3",
   "language": "python",
   "name": "python3"
  },
  "language_info": {
   "codemirror_mode": {
    "name": "ipython",
    "version": 3
   },
   "file_extension": ".py",
   "mimetype": "text/x-python",
   "name": "python",
   "nbconvert_exporter": "python",
   "pygments_lexer": "ipython3",
   "version": "3.7.6"
  }
 },
 "nbformat": 4,
 "nbformat_minor": 4
}
