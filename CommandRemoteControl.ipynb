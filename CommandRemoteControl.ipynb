{
 "cells": [
  {
   "cell_type": "markdown",
   "metadata": {},
   "source": [
    "# CommandRemoteControl"
   ]
  },
  {
   "cell_type": "markdown",
   "metadata": {},
   "source": [
    "Mise en oeuvre du design pattern \"Command\" en suivant l'exemple de la télécommande donné dans HFDP. The remote control has 7 slots that it can drive with on/off, there's also a \"undo\" button that we want to implement."
   ]
  },
  {
   "cell_type": "markdown",
   "metadata": {},
   "source": [
    "Intérêt du Pattern : chaque appareil que l'on veut commander peut être livré avec un API, que l'on connaît mais sur laquelle on n'a pas de maîtrise, et qui n'aurai pas forcément spécifiquement de bouton on/off. De plus on ne sait pas ce qu'on aura à contrôler dans le futur --> intéressant de pouvoir disposer d'une façon de contrôler tout ça. La télécommande ne doit à aucun moment savoir ce qu'elle contrôle."
   ]
  },
  {
   "cell_type": "code",
   "execution_count": 1,
   "metadata": {},
   "outputs": [],
   "source": [
    "# Import de annotation des méthodes abstraites\n",
    "from __future__ import annotations\n",
    "from abc import ABC, abstractmethod"
   ]
  },
  {
   "cell_type": "code",
   "execution_count": 2,
   "metadata": {},
   "outputs": [],
   "source": [
    "class Command(ABC):\n",
    "    \n",
    "    def execute() -> None:\n",
    "        pass\n",
    "    \n",
    "    def undo() -> None:\n",
    "        pass"
   ]
  },
  {
   "cell_type": "code",
   "execution_count": 3,
   "metadata": {},
   "outputs": [],
   "source": [
    "class Light():\n",
    "    \n",
    "    name: str = None\n",
    "        \n",
    "    def __init__(self, name:str):\n",
    "        self.name = name\n",
    "        \n",
    "    def getName(self) -> str:\n",
    "        return self.name\n",
    "    \n",
    "    def on(self) -> None:\n",
    "        print(f'Light {self.name} is On')\n",
    "        \n",
    "    def off(self) -> None:\n",
    "        print(f'Light {self.name} is Off')"
   ]
  },
  {
   "cell_type": "code",
   "execution_count": 4,
   "metadata": {},
   "outputs": [],
   "source": [
    "class LightOnCommand(Command):\n",
    "    \n",
    "    light:Light = None\n",
    "    \n",
    "    def __init__(self, light:Light) -> None:\n",
    "        self.light = light\n",
    "    \n",
    "    def execute(self):\n",
    "        self.light.on()\n",
    "        #print(f'Light {light.name} is On')\n",
    "        \n",
    "    def undo(self) -> None:\n",
    "        self.light.off()"
   ]
  },
  {
   "cell_type": "code",
   "execution_count": 5,
   "metadata": {},
   "outputs": [],
   "source": [
    "class LightOffCommand(Command):\n",
    "    \n",
    "    light:Light = None\n",
    "    \n",
    "    def __init__(self, light:Light) -> None:\n",
    "        self.light = light\n",
    "    \n",
    "    def execute(self):\n",
    "        self.light.off()\n",
    "        \n",
    "    def undo(self) -> None:\n",
    "        self.light.on()"
   ]
  },
  {
   "cell_type": "code",
   "execution_count": 6,
   "metadata": {},
   "outputs": [],
   "source": [
    "class SimpleRemoteControl():\n",
    "    slot:Command = None\n",
    "        \n",
    "    def setCommand (self, command:Command) -> None:\n",
    "        self.slot = command\n",
    "        \n",
    "    def buttonWasPressed (self) -> None:\n",
    "        self.slot.execute()"
   ]
  },
  {
   "cell_type": "markdown",
   "metadata": {},
   "source": [
    "### Code test"
   ]
  },
  {
   "cell_type": "code",
   "execution_count": 7,
   "metadata": {},
   "outputs": [
    {
     "name": "stdout",
     "output_type": "stream",
     "text": [
      "Light kitchen is On\n"
     ]
    }
   ],
   "source": [
    "# On cree une telecommande\n",
    "remote = SimpleRemoteControl()\n",
    "# On instancie une lampe à contrôler\n",
    "light = Light(\"kitchen\")\n",
    "# On instancie le contrôleur pour allumer la lampe\n",
    "lightOn = LightOnCommand(light)\n",
    "# On affecte la commande à la télécommande\n",
    "remote.setCommand(lightOn)\n",
    "remote.buttonWasPressed()"
   ]
  },
  {
   "cell_type": "code",
   "execution_count": 8,
   "metadata": {},
   "outputs": [
    {
     "name": "stdout",
     "output_type": "stream",
     "text": [
      "Light kitchen is Off\n"
     ]
    }
   ],
   "source": [
    "# On instancie un contrôleur pour éteindre la lampe\n",
    "lightOff = LightOffCommand(light)\n",
    "# On réaffecte la commande de la télécommande\n",
    "remote.setCommand(lightOff)\n",
    "# On appuie sur le bouton\n",
    "remote.buttonWasPressed()"
   ]
  },
  {
   "cell_type": "markdown",
   "metadata": {},
   "source": [
    "### Autre exemple : lecteur audio"
   ]
  },
  {
   "cell_type": "code",
   "execution_count": 9,
   "metadata": {},
   "outputs": [],
   "source": [
    "class Stereo():\n",
    "    \n",
    "    volume:int = None\n",
    "    \n",
    "    def on(self) -> None:\n",
    "        print('Stereo is On')\n",
    "        \n",
    "    def off(self) -> None:\n",
    "        print('Stereo is Off')\n",
    "        \n",
    "    def setCD(self) -> None:\n",
    "        print('Stereo was set a CD')\n",
    "        \n",
    "    def setDVD(self) -> None:\n",
    "        print('Stereo was set a DVD')\n",
    "        \n",
    "    def setVolume(self, volume:int) -> None:\n",
    "        self.volume = volume\n",
    "        print(f'Stereo Volume was set to {self.volume}')"
   ]
  },
  {
   "cell_type": "code",
   "execution_count": 10,
   "metadata": {},
   "outputs": [],
   "source": [
    "class StereoOnWithCDCommand(Command):\n",
    "    stereo:Stereo\n",
    "        \n",
    "    def __init__(self, stereo:Stereo):\n",
    "        self.stereo = stereo\n",
    "        \n",
    "    def execute(self) -> None:\n",
    "        self.stereo.on()\n",
    "        self.stereo.setCD()\n",
    "        self.stereo.setVolume(11)\n",
    "        \n",
    "    def undo(self) -> None:\n",
    "        self.stereo.off()"
   ]
  },
  {
   "cell_type": "code",
   "execution_count": 11,
   "metadata": {},
   "outputs": [],
   "source": [
    "class StereoOffCommand(Command):\n",
    "    stereo:Stereo\n",
    "        \n",
    "    def __init__(self, stereo:Stereo):\n",
    "        self.stereo = stereo\n",
    "        \n",
    "    def execute(self) -> None:\n",
    "        self.stereo.off()\n",
    "        \n",
    "    def undo(self) -> None:\n",
    "        self.stereo.on()\n",
    "        self.stereo.setCD()\n",
    "        self.stereo.setVolume(11)"
   ]
  },
  {
   "cell_type": "code",
   "execution_count": 12,
   "metadata": {},
   "outputs": [
    {
     "name": "stdout",
     "output_type": "stream",
     "text": [
      "Stereo is On\n",
      "Stereo was set a CD\n",
      "Stereo Volume was set to 11\n"
     ]
    }
   ],
   "source": [
    "# On crée une instance de stereo que l'on va contrôler\n",
    "stereo = Stereo()\n",
    "# On instancie la commande contrôlant la stereo\n",
    "stereoOn = StereoOnWithCDCommand(stereo)\n",
    "# On affecte la commande\n",
    "remote.setCommand(stereoOn)\n",
    "# On appuie sur le bouton\n",
    "remote.buttonWasPressed()"
   ]
  },
  {
   "cell_type": "markdown",
   "metadata": {},
   "source": [
    "### On ajoute d'autres devices à contrôler"
   ]
  },
  {
   "cell_type": "code",
   "execution_count": 13,
   "metadata": {},
   "outputs": [],
   "source": [
    "class GarageDoor():\n",
    "    \n",
    "    def up(self):\n",
    "        print(\"Opening garage door\")\n",
    "        \n",
    "    def down(self):\n",
    "        print(\"Closing garage door\")\n",
    "        \n",
    "    def stop(self):\n",
    "        print(\"Stop moving garage door\")\n",
    "        \n",
    "    def lightOn(self):\n",
    "        print(\"Garage light on\")\n",
    "        \n",
    "    def lightOff(self):\n",
    "        print(\"Garage light off\")"
   ]
  },
  {
   "cell_type": "code",
   "execution_count": 14,
   "metadata": {},
   "outputs": [],
   "source": [
    "class GarageDoorUpCommand(Command):\n",
    "    garageDoor: GarageDoor = None\n",
    "        \n",
    "    def __init__(self, garageDoor:GarageDoor):\n",
    "        self.garageDoor = garageDoor\n",
    "        \n",
    "    def execute(self) -> None:\n",
    "        self.garageDoor.up()\n",
    "        \n",
    "    def undo(self) -> None:\n",
    "        self.garageDoor.down()"
   ]
  },
  {
   "cell_type": "code",
   "execution_count": 15,
   "metadata": {},
   "outputs": [],
   "source": [
    "class GarageDoorDownCommand(Command):\n",
    "    garageDoor: GarageDoor = None\n",
    "        \n",
    "    def __init__(self, garageDoor:GarageDoor):\n",
    "        self.garageDoor = garageDoor\n",
    "        \n",
    "    def execute(self) -> None:\n",
    "        self.garageDoor.down()\n",
    "    \n",
    "    def undo(self) -> None:\n",
    "        self.garageDoor.up()"
   ]
  },
  {
   "cell_type": "code",
   "execution_count": 16,
   "metadata": {},
   "outputs": [],
   "source": [
    "class CeilingFan():\n",
    "    \n",
    "    speed:int = None\n",
    "    \n",
    "    def high(self):\n",
    "        self.speed = 3\n",
    "    \n",
    "    def medium(self):\n",
    "        self.speed = 2\n",
    "        \n",
    "    def low(self):\n",
    "        self.speed = 1\n",
    "        \n",
    "    def off(self):\n",
    "        self.speed = 0\n",
    "        \n",
    "    def getSpeed(self) -> int:\n",
    "        return self.speed"
   ]
  },
  {
   "cell_type": "code",
   "execution_count": 17,
   "metadata": {},
   "outputs": [],
   "source": [
    "class CeilingFanOffCommand(Command):\n",
    "    fan: CeilingFan = None\n",
    "    prevSpeed:int = None\n",
    "        \n",
    "    def __init__(self, fan:CeilingFan):\n",
    "        self.fan = fan\n",
    "        \n",
    "    def execute(self) -> None:\n",
    "        self.prevSpeed = self.fan.getSpeed()\n",
    "        self.fan.off()\n",
    "        print(f\"Vitesse du ventilateur: {self.fan.getSpeed()}\")\n",
    "        \n",
    "    def undo(self) -> None:\n",
    "        self.fan.medium()\n",
    "        print(f\"Vitesse du ventilateur: {self.fan.getSpeed()}\")"
   ]
  },
  {
   "cell_type": "code",
   "execution_count": 18,
   "metadata": {},
   "outputs": [],
   "source": [
    "class CeilingFanHighCommand(Command):\n",
    "    fan: CeilingFan = None\n",
    "    prevSpeed:int = None\n",
    "        \n",
    "    def __init__(self, fan:CeilingFan):\n",
    "        self.fan = fan\n",
    "        \n",
    "    def execute(self) -> None:\n",
    "        self.prevSpeed = self.fan.getSpeed()\n",
    "        self.fan.high()\n",
    "        print(f\"Vitesse du ventilateur: {self.fan.getSpeed()}\")\n",
    "        \n",
    "    def undo(self) -> None:\n",
    "        if self.prevSpeed == 3:\n",
    "            self.fan.high()\n",
    "        elif self.prevSpeed == 2:\n",
    "            self.fan.medium()\n",
    "        elif self.prevSpeed == 1:\n",
    "            self.fan.low()\n",
    "        else:\n",
    "            self.fan.off()\n",
    "        print(f\"Vitesse du ventilateur: {self.fan.getSpeed()}\")"
   ]
  },
  {
   "cell_type": "code",
   "execution_count": 19,
   "metadata": {},
   "outputs": [],
   "source": [
    "class CeilingFanMediumCommand(Command):\n",
    "    fan: CeilingFan = None\n",
    "    prevSpeed:int = None\n",
    "        \n",
    "    def __init__(self, fan:CeilingFan):\n",
    "        self.fan = fan\n",
    "        \n",
    "    def execute(self) -> None:\n",
    "        prevSpeed = self.fan.getSpeed()\n",
    "        self.fan.medium()\n",
    "        print(f\"Vitesse du ventilateur: {self.fan.getSpeed()}\")\n",
    "        \n",
    "    def undo(self) -> None:\n",
    "        if self.prevSpeed == 3:\n",
    "            self.fan.high()\n",
    "        elif self.prevSpeed == 2:\n",
    "            self.fan.medium()\n",
    "        elif self.prevSpeed == 1:\n",
    "            self.fan.low()\n",
    "        else:\n",
    "            self.fan.off()\n",
    "        print(f\"Vitesse du ventilateur: {self.fan.getSpeed()}\")"
   ]
  },
  {
   "cell_type": "code",
   "execution_count": 20,
   "metadata": {},
   "outputs": [
    {
     "name": "stdout",
     "output_type": "stream",
     "text": [
      "Opening garage door\n",
      "Garage light off\n"
     ]
    }
   ],
   "source": [
    "garage = GarageDoor()\n",
    "garage.up()\n",
    "garage.lightOff()"
   ]
  },
  {
   "cell_type": "markdown",
   "metadata": {},
   "source": [
    "## Télécommande complète"
   ]
  },
  {
   "cell_type": "markdown",
   "metadata": {},
   "source": [
    "Pseudo Pattern Null Object : classe qui ne fait rien !"
   ]
  },
  {
   "cell_type": "code",
   "execution_count": 21,
   "metadata": {},
   "outputs": [],
   "source": [
    "class NoCommand(Command):\n",
    "    \n",
    "    def execute(self) -> None:\n",
    "        pass\n",
    "    \n",
    "    def undo(self) -> None:\n",
    "        pass"
   ]
  },
  {
   "cell_type": "code",
   "execution_count": 22,
   "metadata": {},
   "outputs": [],
   "source": [
    "class RemoteControl():\n",
    "    \n",
    "    # Liste de commandes On et Off\n",
    "    onCommands: Command = []\n",
    "    offCommands: Command = []\n",
    "    # Commande Undo\n",
    "    undoCommand: Command = None\n",
    "    \n",
    "    # Constructeur\n",
    "    def __init__(self) -> None:\n",
    "        # Initialisation avec un objet nul\n",
    "        noCommand:Command = NoCommand()\n",
    "        undoCommand = noCommand\n",
    "        for i in range(7):\n",
    "            self.onCommands.append(noCommand)\n",
    "            self.offCommands.append(noCommand)\n",
    "        \n",
    "            \n",
    "    # Affectation des commandes\n",
    "    def setCommand(self, slot:int, onCommand:Command, offCommand:Command):\n",
    "        self.onCommands[slot] = onCommand\n",
    "        self.offCommands[slot] = offCommand\n",
    "        \n",
    "    def onButtonWasPushed(self, slot:int) -> None:\n",
    "        self.onCommands[slot].execute()\n",
    "        self.undoCommand = self.onCommands[slot]\n",
    "        \n",
    "    def offButtonWasPushed(self, slot:int) -> None:\n",
    "        self.offCommands[slot].execute()\n",
    "        self.undoCommand = self.offCommands[slot]\n",
    "        \n",
    "    def undoCommandWasPushed(self) -> None:\n",
    "        self.undoCommand.undo()\n",
    "        \n",
    "    def __str__(self) -> str:\n",
    "        tableConfig: str = []\n",
    "        \n",
    "        for i in range(len(self.onCommands)):\n",
    "            tableConfig.append(f'[Slot {i}] {self.onCommands[i].__class__.__name__}    {self.offCommands[i].__class__.__name__} \\n')\n",
    "        \n",
    "        return ''.join(tableConfig)"
   ]
  },
  {
   "cell_type": "code",
   "execution_count": 23,
   "metadata": {},
   "outputs": [],
   "source": [
    "# Create the remote\n",
    "remoteControl = RemoteControl()\n",
    "# Create the equipments\n",
    "livingRoomLight = Light('Living Room')\n",
    "kitchenLight = Light('Kitchen')\n",
    "fan = CeilingFan()\n",
    "garageDoor = GarageDoor()\n",
    "stereo = Stereo()\n",
    "# Create the commands\n",
    "livingRoomLightOn = LightOnCommand(livingRoomLight)\n",
    "livingRoomLightOff = LightOffCommand(livingRoomLight)\n",
    "kitchenLightOn = LightOnCommand(kitchenLight)\n",
    "kitchenLightOff = LightOffCommand(kitchenLight)\n",
    "ceilingFanMedium = CeilingFanMediumCommand(fan)\n",
    "ceilingFanHigh = CeilingFanHighCommand(fan)\n",
    "ceilingFanOff = CeilingFanOffCommand(fan)\n",
    "garageDoorUp = GarageDoorUpCommand(garageDoor)\n",
    "garageDoorDown = GarageDoorDownCommand(garageDoor)\n",
    "stereoOnWithCD = StereoOnWithCDCommand(stereo)\n",
    "stereoOff = StereoOffCommand(stereo)\n",
    "# Set commands\n",
    "remoteControl.setCommand(0,livingRoomLightOn, livingRoomLightOff)\n",
    "remoteControl.setCommand(1,kitchenLightOn, kitchenLightOff)\n",
    "remoteControl.setCommand(2, garageDoorUp, garageDoorDown)\n",
    "remoteControl.setCommand(3, stereoOnWithCD, stereoOff)\n",
    "remoteControl.setCommand(4, ceilingFanMedium, ceilingFanOff)\n",
    "remoteControl.setCommand(5, ceilingFanHigh, ceilingFanOff)"
   ]
  },
  {
   "cell_type": "code",
   "execution_count": 25,
   "metadata": {},
   "outputs": [
    {
     "name": "stdout",
     "output_type": "stream",
     "text": [
      "[Slot 0] LightOnCommand    LightOffCommand \n",
      "[Slot 1] LightOnCommand    LightOffCommand \n",
      "[Slot 2] GarageDoorUpCommand    GarageDoorDownCommand \n",
      "[Slot 3] StereoOnWithCDCommand    StereoOffCommand \n",
      "[Slot 4] CeilingFanMediumCommand    CeilingFanOffCommand \n",
      "[Slot 5] CeilingFanHighCommand    CeilingFanOffCommand \n",
      "[Slot 6] NoCommand    NoCommand \n",
      "\n"
     ]
    }
   ],
   "source": [
    "print(remoteControl)"
   ]
  },
  {
   "cell_type": "code",
   "execution_count": 26,
   "metadata": {
    "scrolled": false
   },
   "outputs": [
    {
     "name": "stdout",
     "output_type": "stream",
     "text": [
      "Light Living Room is On\n",
      "Light Living Room is Off\n",
      "Light Kitchen is On\n",
      "Light Kitchen is Off\n",
      "Opening garage door\n",
      "Closing garage door\n",
      "Stereo is On\n",
      "Stereo was set a CD\n",
      "Stereo Volume was set to 11\n",
      "Stereo is Off\n",
      "Vitesse du ventilateur: 2\n",
      "Vitesse du ventilateur: 0\n"
     ]
    }
   ],
   "source": [
    "remoteControl.onButtonWasPushed(0)\n",
    "remoteControl.offButtonWasPushed(0)\n",
    "remoteControl.onButtonWasPushed(1)\n",
    "remoteControl.offButtonWasPushed(1)\n",
    "remoteControl.onButtonWasPushed(2)\n",
    "remoteControl.offButtonWasPushed(2)\n",
    "remoteControl.onButtonWasPushed(3)\n",
    "remoteControl.offButtonWasPushed(3)\n",
    "remoteControl.onButtonWasPushed(4)\n",
    "remoteControl.offButtonWasPushed(4)"
   ]
  },
  {
   "cell_type": "markdown",
   "metadata": {},
   "source": [
    "### Test du bouton undo :"
   ]
  },
  {
   "cell_type": "code",
   "execution_count": 27,
   "metadata": {},
   "outputs": [
    {
     "name": "stdout",
     "output_type": "stream",
     "text": [
      "Light Living Room is On\n",
      "Light Living Room is Off\n",
      "Light Living Room is On\n",
      "Light Living Room is Off\n"
     ]
    }
   ],
   "source": [
    "remoteControl.onButtonWasPushed(0)\n",
    "remoteControl.offButtonWasPushed(0)\n",
    "remoteControl.undoCommandWasPushed()\n",
    "remoteControl.offButtonWasPushed(0)"
   ]
  },
  {
   "cell_type": "markdown",
   "metadata": {},
   "source": [
    "### Test du undo pour le ventilateur"
   ]
  },
  {
   "cell_type": "code",
   "execution_count": 28,
   "metadata": {},
   "outputs": [
    {
     "name": "stdout",
     "output_type": "stream",
     "text": [
      "Allume moyen\n",
      "Vitesse du ventilateur: 2\n",
      "Éteins moyen\n",
      "Vitesse du ventilateur: 0\n",
      "Annule\n",
      "Vitesse du ventilateur: 2\n",
      "Allume haut\n",
      "Vitesse du ventilateur: 3\n",
      "Annule\n",
      "Vitesse du ventilateur: 2\n"
     ]
    }
   ],
   "source": [
    "print(\"Allume moyen\")\n",
    "remoteControl.onButtonWasPushed(4)\n",
    "print(\"Éteins moyen\")\n",
    "remoteControl.offButtonWasPushed(4)\n",
    "print(\"Annule\")\n",
    "remoteControl.undoCommandWasPushed()\n",
    "print(\"Allume haut\")\n",
    "remoteControl.onButtonWasPushed(5)\n",
    "print(\"Annule\")\n",
    "remoteControl.undoCommandWasPushed()"
   ]
  },
  {
   "cell_type": "markdown",
   "metadata": {},
   "source": [
    "## Macro command"
   ]
  },
  {
   "cell_type": "markdown",
   "metadata": {},
   "source": [
    "Exécution de plusieurs commandes à la fois!"
   ]
  },
  {
   "cell_type": "code",
   "execution_count": 42,
   "metadata": {},
   "outputs": [],
   "source": [
    "class MacroCommand(Command):\n",
    "    commands: Command = []\n",
    "    \n",
    "    def __init__(self, commands: Command) -> None:\n",
    "        self.commands = commands\n",
    "        \n",
    "    def execute(self) -> None:\n",
    "        for command in self.commands:\n",
    "            command.execute()\n",
    "            \n",
    "    def undo(self) -> None:\n",
    "        for command in self.commands:\n",
    "            command.undo()"
   ]
  },
  {
   "cell_type": "code",
   "execution_count": 43,
   "metadata": {},
   "outputs": [],
   "source": [
    "arrivingHome = [livingRoomLightOn, kitchenLightOn, stereoOnWithCD, ceilingFanMedium, garageDoorUp]\n",
    "leavingHome = [livingRoomLightOff, kitchenLightOff, stereoOff, ceilingFanOff, garageDoorDown]"
   ]
  },
  {
   "cell_type": "code",
   "execution_count": 44,
   "metadata": {},
   "outputs": [],
   "source": [
    "arrivingHomeMacro = MacroCommand(arrivingHome)\n",
    "leavingHomeMacro = MacroCommand(leavingHome)"
   ]
  },
  {
   "cell_type": "code",
   "execution_count": 45,
   "metadata": {},
   "outputs": [],
   "source": [
    "remoteControl.setCommand(6, arrivingHomeMacro, leavingHomeMacro)"
   ]
  },
  {
   "cell_type": "code",
   "execution_count": 46,
   "metadata": {},
   "outputs": [
    {
     "name": "stdout",
     "output_type": "stream",
     "text": [
      "Light Living Room is On\n",
      "Light Kitchen is On\n",
      "Stereo is On\n",
      "Stereo was set a CD\n",
      "Stereo Volume was set to 11\n",
      "Vitesse du ventilateur: 2\n",
      "Opening garage door\n"
     ]
    }
   ],
   "source": [
    "remoteControl.onButtonWasPushed(6)"
   ]
  },
  {
   "cell_type": "code",
   "execution_count": 50,
   "metadata": {},
   "outputs": [
    {
     "name": "stdout",
     "output_type": "stream",
     "text": [
      "Light Living Room is Off\n"
     ]
    }
   ],
   "source": [
    "remoteControl.offButtonWasPushed(0)"
   ]
  },
  {
   "cell_type": "code",
   "execution_count": 51,
   "metadata": {},
   "outputs": [
    {
     "name": "stdout",
     "output_type": "stream",
     "text": [
      "Light Living Room is On\n"
     ]
    }
   ],
   "source": [
    "remoteControl.undoCommandWasPushed()"
   ]
  },
  {
   "cell_type": "code",
   "execution_count": 52,
   "metadata": {},
   "outputs": [
    {
     "name": "stdout",
     "output_type": "stream",
     "text": [
      "Light Living Room is Off\n",
      "Light Kitchen is Off\n",
      "Stereo is Off\n",
      "Vitesse du ventilateur: 0\n",
      "Closing garage door\n"
     ]
    }
   ],
   "source": [
    "remoteControl.offButtonWasPushed(6)"
   ]
  },
  {
   "cell_type": "code",
   "execution_count": 53,
   "metadata": {},
   "outputs": [
    {
     "name": "stdout",
     "output_type": "stream",
     "text": [
      "Light Living Room is On\n",
      "Light Kitchen is On\n",
      "Stereo is On\n",
      "Stereo was set a CD\n",
      "Stereo Volume was set to 11\n",
      "Vitesse du ventilateur: 2\n",
      "Opening garage door\n"
     ]
    }
   ],
   "source": [
    "remoteControl.onButtonWasPushed(6)"
   ]
  },
  {
   "cell_type": "code",
   "execution_count": 54,
   "metadata": {},
   "outputs": [
    {
     "name": "stdout",
     "output_type": "stream",
     "text": [
      "Light Living Room is Off\n",
      "Light Kitchen is Off\n",
      "Stereo is Off\n",
      "Vitesse du ventilateur: 0\n",
      "Closing garage door\n"
     ]
    }
   ],
   "source": [
    "remoteControl.undoCommandWasPushed()"
   ]
  },
  {
   "cell_type": "code",
   "execution_count": null,
   "metadata": {},
   "outputs": [],
   "source": []
  }
 ],
 "metadata": {
  "kernelspec": {
   "display_name": "Python 3",
   "language": "python",
   "name": "python3"
  },
  "language_info": {
   "codemirror_mode": {
    "name": "ipython",
    "version": 3
   },
   "file_extension": ".py",
   "mimetype": "text/x-python",
   "name": "python",
   "nbconvert_exporter": "python",
   "pygments_lexer": "ipython3",
   "version": "3.7.1"
  }
 },
 "nbformat": 4,
 "nbformat_minor": 2
}
