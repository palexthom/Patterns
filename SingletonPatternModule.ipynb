{
 "cells": [
  {
   "cell_type": "markdown",
   "metadata": {},
   "source": [
    "# Singleton Pattern (Module)"
   ]
  },
  {
   "cell_type": "markdown",
   "metadata": {},
   "source": [
    "On utilise ici un module pour créer notre singleton. \n",
    "Adapté et commenté depuis https://realpython.com/python-import/#example-singletons-as-modules  "
   ]
  },
  {
   "cell_type": "markdown",
   "metadata": {},
   "source": [
    "## Module singleton.py"
   ]
  },
  {
   "cell_type": "markdown",
   "metadata": {},
   "source": [
    "```python\n",
    "class _Singleton:\n",
    "    def __init__(self):\n",
    "        print(\"Initialisation du Singleton\")\n",
    "        \n",
    "    def coucou(self):\n",
    "        print(\"Coucou\")\n",
    "        \n",
    "instance = _Singleton()\n",
    "```"
   ]
  },
  {
   "cell_type": "code",
   "execution_count": 21,
   "metadata": {},
   "outputs": [
    {
     "name": "stdout",
     "output_type": "stream",
     "text": [
      "Coucou\n",
      "Coucou\n"
     ]
    }
   ],
   "source": [
    "import singleton\n",
    "\n",
    "singleton.instance.coucou()\n",
    "singleton.instance.coucou()"
   ]
  },
  {
   "cell_type": "code",
   "execution_count": 23,
   "metadata": {},
   "outputs": [
    {
     "name": "stdout",
     "output_type": "stream",
     "text": [
      "We have a winner\n"
     ]
    }
   ],
   "source": [
    "a = singleton.instance\n",
    "b = singleton.instance\n",
    "if a == b :\n",
    "    print('We have a winner')"
   ]
  },
  {
   "cell_type": "markdown",
   "metadata": {},
   "source": [
    "## Notes"
   ]
  },
  {
   "cell_type": "markdown",
   "metadata": {},
   "source": [
    "Attention, ici on n'a pas du tout de code dans notre singleton, mais si il fait des operations lourdes (genre charger des données) alors ces operations vont être faites à l'import de singleton, et pas forcément au moment où on en a besoin. Pour répondre à ce pb, il est possible d'utiliser @property et une méthode chargeant les données. Ainsi celles-ci ne seront chargées que quand la méthode sera appelée (voir lien donné pour les détails)."
   ]
  }
 ],
 "metadata": {
  "kernelspec": {
   "display_name": "Python 3",
   "language": "python",
   "name": "python3"
  },
  "language_info": {
   "codemirror_mode": {
    "name": "ipython",
    "version": 3
   },
   "file_extension": ".py",
   "mimetype": "text/x-python",
   "name": "python",
   "nbconvert_exporter": "python",
   "pygments_lexer": "ipython3",
   "version": "3.7.1"
  }
 },
 "nbformat": 4,
 "nbformat_minor": 2
}
