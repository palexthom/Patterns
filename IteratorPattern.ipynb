{
 "cells": [
  {
   "cell_type": "markdown",
   "metadata": {},
   "source": [
    "# Iterator Pattern"
   ]
  },
  {
   "cell_type": "markdown",
   "metadata": {},
   "source": [
    "Code repris et commenté depuis https://refactoring.guru/design-patterns/iterator/python/example"
   ]
  },
  {
   "cell_type": "markdown",
   "metadata": {},
   "source": [
    "## Structure du Pattern"
   ]
  },
  {
   "cell_type": "markdown",
   "metadata": {},
   "source": [
    "![Image structure du Pattern Iterator](Images/IteratorPattern.PNG)"
   ]
  },
  {
   "cell_type": "markdown",
   "metadata": {},
   "source": [
    "## Diagramme de classe de l'exemple"
   ]
  },
  {
   "cell_type": "markdown",
   "metadata": {},
   "source": [
    "Ici dans notre exemple les classes abstraites Iterator et Iterable que l'on implémente sont déjà définies en Python et les classes codées ici sont les classes concrètes.  \n",
    "On passe en paramètre à l'itérateur une collection de mots, que l'on va ensuite parcourir dans un sens ou dans l'autre."
   ]
  },
  {
   "cell_type": "markdown",
   "metadata": {},
   "source": [
    "![Diagramme de classe de Iterator Pattern](Images/IteratorPatternClass.PNG)"
   ]
  },
  {
   "cell_type": "markdown",
   "metadata": {},
   "source": [
    "## Code"
   ]
  },
  {
   "cell_type": "code",
   "execution_count": 1,
   "metadata": {},
   "outputs": [],
   "source": [
    "from __future__ import annotations\n",
    "from collections.abc import Iterable, Iterator\n",
    "from typing import Any, List"
   ]
  },
  {
   "cell_type": "markdown",
   "metadata": {},
   "source": [
    "### Classe Iterator en ordre alphabétique"
   ]
  },
  {
   "cell_type": "markdown",
   "metadata": {},
   "source": [
    "Classe iterator dispose de 2 attributs : \n",
    "* __\\_position__ : entier représentant la position actuelle de l'item\n",
    "* __\\_reverse__ : booleen indiquant le sens de parcours de la collection\n",
    "\n",
    "Classe iterator implémente les méthodes :\n",
    "* __\\_\\_init\\_\\___ : set la collection dans laquelle itérer, le sens et l'incrément d'itération.\n",
    "* __\\_\\_next\\_\\___ : méthode renvoyant l'item suivant d'une séquence ou lève une erreur si fin de la séquence"
   ]
  },
  {
   "cell_type": "code",
   "execution_count": 2,
   "metadata": {},
   "outputs": [],
   "source": [
    "class AlphabeticalOrderIterator(Iterator):\n",
    "\n",
    "    _position: int = None\n",
    "    _reverse: bool = False\n",
    "\n",
    "    def __init__(self, collection: WordsCollection, reverse: bool = False) -> None:\n",
    "        self._collection = collection\n",
    "        self._reverse = reverse\n",
    "        self._position = -1 if reverse else 0\n",
    "\n",
    "    def __next__(self):\n",
    "        try:\n",
    "            value = self._collection[self._position]\n",
    "            self._position += -1 if self._reverse else 1\n",
    "        except IndexError:\n",
    "            raise StopIteration()\n",
    "\n",
    "        return value"
   ]
  },
  {
   "cell_type": "markdown",
   "metadata": {},
   "source": [
    "### Classe WordsCollection"
   ]
  },
  {
   "cell_type": "markdown",
   "metadata": {},
   "source": [
    "La collection implémente l'interface Iterable. Elle dispose des méthodes suivantes :  \n",
    "* __\\_\\_init\\_\\___ : attribue à \\_collection la liste passée en paramètres \n",
    "* __\\_\\_iter\\_\\___ : méthode qui renvoie la collection dans laquelle iterer. Il s'agit d'une instance de AlphabeticalOrderIterator : crée cette instance, en passant en paramètre sa collection de mots.\n",
    "* __get_reverse_iterator__ : similaire à __\\_\\_iter_\\_\\___ sauf que création d'une instance de AlphabeticalOrderIterator en lui passant en paramètre la collection de mots en ordre inverse.\n",
    "* __add_item__ : permet d'ajouter un élément à la collection."
   ]
  },
  {
   "cell_type": "code",
   "execution_count": 3,
   "metadata": {},
   "outputs": [],
   "source": [
    "class WordsCollection(Iterable):\n",
    "\n",
    "    def __init__(self, collection: List[Any] = []) -> None:\n",
    "        self._collection = collection\n",
    "\n",
    "    def __iter__(self) -> AlphabeticalOrderIterator:\n",
    "        return AlphabeticalOrderIterator(self._collection)\n",
    "\n",
    "    def get_reverse_iterator(self) -> AlphabeticalOrderIterator:\n",
    "        return AlphabeticalOrderIterator(self._collection, True)\n",
    "\n",
    "    def add_item(self, item: Any):\n",
    "        self._collection.append(item)"
   ]
  },
  {
   "cell_type": "markdown",
   "metadata": {},
   "source": [
    "## Code Test"
   ]
  },
  {
   "cell_type": "markdown",
   "metadata": {},
   "source": [
    "Pour tester notre itérator, on crée une instance de WordCollection() à laquelle on ajoute des mots.  \n",
    "Puisqu'elle implémente iterator, et donc __\\_\\_iter\\_\\___, WordCollection est \"itérable\".\n",
    "\n",
    "La méthode _join()_ prend tous les items d'un iterable et les joint dans une chaîne unique avec la syntaxe suivante : \n",
    "separateur.join(iterable).\n",
    "\n",
    "Par exemple : \n",
    "```python\n",
    "liste = [\"Un\", \"Deux\", \"Trois\"]\n",
    "separateur = \" espace \"\n",
    "separateur.join(liste)\n",
    "```\n",
    "\n",
    "A pour résultat : \n",
    "```python\n",
    "'Un espace Deux espace Trois'\n",
    "```\n",
    "\n",
    "Dans l'exemple repris depuis RefactoringGuru, le séparateur est un saut de ligne."
   ]
  },
  {
   "cell_type": "code",
   "execution_count": 4,
   "metadata": {
    "scrolled": true
   },
   "outputs": [
    {
     "name": "stdout",
     "output_type": "stream",
     "text": [
      "Straight traversal:\n",
      "First\n",
      "Second\n",
      "Third\n",
      "\n",
      "Reverse traversal:\n",
      "Third\n",
      "Second\n",
      "First"
     ]
    }
   ],
   "source": [
    "collection = WordsCollection()\n",
    "collection.add_item(\"First\")\n",
    "collection.add_item(\"Second\")\n",
    "collection.add_item(\"Third\")\n",
    "\n",
    "print(\"Straight traversal:\")\n",
    "print(\"\\n\".join(collection))\n",
    "print(\"\")\n",
    "\n",
    "print(\"Reverse traversal:\")\n",
    "print(\"\\n\".join(collection.get_reverse_iterator()), end=\"\")"
   ]
  },
  {
   "cell_type": "markdown",
   "metadata": {},
   "source": [
    "# Code complet"
   ]
  },
  {
   "cell_type": "markdown",
   "metadata": {},
   "source": [
    "```python\n",
    "from __future__ import annotations\n",
    "from collections.abc import Iterable, Iterator\n",
    "from typing import Any, List\n",
    "\n",
    "\n",
    "\"\"\"\n",
    "To create an iterator in Python, there are two abstract classes from the built-\n",
    "in `collections` module - Iterable,Iterator. We need to implement the\n",
    "`__iter__()` method in the iterated object (collection), and the `__next__ ()`\n",
    "method in theiterator.\n",
    "\"\"\"\n",
    "\n",
    "\n",
    "class AlphabeticalOrderIterator(Iterator):\n",
    "    \"\"\"\n",
    "    Concrete Iterators implement various traversal algorithms. These classes\n",
    "    store the current traversal position at all times.\n",
    "    \"\"\"\n",
    "\n",
    "    \"\"\"\n",
    "    `_position` attribute stores the current traversal position. An iterator may\n",
    "    have a lot of other fields for storing iteration state, especially when it\n",
    "    is supposed to work with a particular kind of collection.\n",
    "    \"\"\"\n",
    "    _position: int = None\n",
    "\n",
    "    \"\"\"\n",
    "    This attribute indicates the traversal direction.\n",
    "    \"\"\"\n",
    "    _reverse: bool = False\n",
    "\n",
    "    def __init__(self, collection: WordsCollection, reverse: bool = False) -> None:\n",
    "        self._collection = collection\n",
    "        self._reverse = reverse\n",
    "        self._position = -1 if reverse else 0\n",
    "\n",
    "    def __next__(self):\n",
    "        \"\"\"\n",
    "        The __next__() method must return the next item in the sequence. On\n",
    "        reaching the end, and in subsequent calls, it must raise StopIteration.\n",
    "        \"\"\"\n",
    "        try:\n",
    "            value = self._collection[self._position]\n",
    "            self._position += -1 if self._reverse else 1\n",
    "        except IndexError:\n",
    "            raise StopIteration()\n",
    "\n",
    "        return value\n",
    "\n",
    "\n",
    "class WordsCollection(Iterable):\n",
    "    \"\"\"\n",
    "    Concrete Collections provide one or several methods for retrieving fresh\n",
    "    iterator instances, compatible with the collection class.\n",
    "    \"\"\"\n",
    "\n",
    "    def __init__(self, collection: List[Any] = []) -> None:\n",
    "        self._collection = collection\n",
    "\n",
    "    def __iter__(self) -> AlphabeticalOrderIterator:\n",
    "        \"\"\"\n",
    "        The __iter__() method returns the iterator object itself, by default we\n",
    "        return the iterator in ascending order.\n",
    "        \"\"\"\n",
    "        return AlphabeticalOrderIterator(self._collection)\n",
    "\n",
    "    def get_reverse_iterator(self) -> AlphabeticalOrderIterator:\n",
    "        return AlphabeticalOrderIterator(self._collection, True)\n",
    "\n",
    "    def add_item(self, item: Any):\n",
    "        self._collection.append(item)\n",
    "\n",
    "```"
   ]
  }
 ],
 "metadata": {
  "kernelspec": {
   "display_name": "Python 3",
   "language": "python",
   "name": "python3"
  },
  "language_info": {
   "codemirror_mode": {
    "name": "ipython",
    "version": 3
   },
   "file_extension": ".py",
   "mimetype": "text/x-python",
   "name": "python",
   "nbconvert_exporter": "python",
   "pygments_lexer": "ipython3",
   "version": "3.7.1"
  }
 },
 "nbformat": 4,
 "nbformat_minor": 2
}
