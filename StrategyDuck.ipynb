{
 "cells": [
  {
   "cell_type": "markdown",
   "metadata": {},
   "source": [
    "# Design Pattern : Strategy"
   ]
  },
  {
   "cell_type": "markdown",
   "metadata": {},
   "source": [
    "Reproduction de l'exemple de HeadFirst Design Pattern.\n",
    "\n",
    "Encapsulation de comportements fly et quack."
   ]
  },
  {
   "cell_type": "code",
   "execution_count": null,
   "metadata": {},
   "outputs": [],
   "source": [
    "from __future__ import annotations\n",
    "from abc import ABC, abstractmethod\n",
    "from typing import List"
   ]
  },
  {
   "cell_type": "markdown",
   "metadata": {},
   "source": [
    "## Définition des classes abstraites Quack et Fly"
   ]
  },
  {
   "cell_type": "code",
   "execution_count": null,
   "metadata": {},
   "outputs": [],
   "source": [
    "class FlyBehavior(ABC):\n",
    "    \"\"\"\n",
    "    Interface\n",
    "    \"\"\"\n",
    "    \n",
    "    @abstractmethod\n",
    "    def fly(self):\n",
    "        pass"
   ]
  },
  {
   "cell_type": "code",
   "execution_count": null,
   "metadata": {},
   "outputs": [],
   "source": [
    "class QuackBehavior(ABC):\n",
    "    \"\"\"\n",
    "    Interface\n",
    "    \"\"\"\n",
    "    \n",
    "    @abstractmethod\n",
    "    def quack(self):\n",
    "        pass"
   ]
  },
  {
   "cell_type": "markdown",
   "metadata": {},
   "source": [
    "## Définition de la classe Duck"
   ]
  },
  {
   "cell_type": "code",
   "execution_count": null,
   "metadata": {
    "scrolled": true
   },
   "outputs": [],
   "source": [
    "class Duck():\n",
    "    \"\"\"\n",
    "    Définit l'interface Duck\n",
    "    \"\"\"\n",
    "    \n",
    "    def __init__(self, flyBehavior: FlyBehavior, quackBehavior: QuackBehavior) -> None:\n",
    "        \"\"\"\n",
    "        Accepte des strategie Fly et Quack dans le constructeur\n",
    "        \"\"\"\n",
    "        self._flyBehavior = flyBehavior\n",
    "        self._quackBehavior = quackBehavior\n",
    "        \n",
    "    @property\n",
    "    def flyBehavior(self) -> FlyBehavior:\n",
    "        \"\"\"\n",
    "        Référence à une propriété de type FlyBehavior\n",
    "        Le contexte ne sait pas quelle est la classe concrète\n",
    "        Fonctionne avec n'importe laquelle\n",
    "        \"\"\"\n",
    "        \n",
    "        return self._flyBehavior\n",
    "    \n",
    "    @property\n",
    "    def quackBehavior(self) -> QuackBehavior:\n",
    "        \"\"\"\n",
    "        Référence à une propriété de type QuackBehavior\n",
    "        Le contexte ne sait pas quelle est la classe concrète\n",
    "        Fonctionne avec n'importe laquelle\n",
    "        \"\"\"\n",
    "        \n",
    "        return self._quackBehavior\n",
    "    \n",
    "    @flyBehavior.setter\n",
    "    def setFlyBehavior(self, flyBehavior:FlyBehavior) -> None:\n",
    "        \"\"\"\n",
    "        Setter pour permettre de changer de flyBehavior au runtime\n",
    "        \"\"\"\n",
    "        self._flyBehavior = flyBehavior\n",
    "        \n",
    "    @quackBehavior.setter\n",
    "    def setQuackBehavior(self, quackBehavior: QuackBehavior) -> None:\n",
    "        \"\"\"\n",
    "        Setter pour permettre de changer de quackBehavior au runtime\n",
    "        \"\"\"\n",
    "        self._quackBehavior = quackBehavior\n",
    "        \n",
    "        \n",
    "    def performQuack(self) -> None:\n",
    "        \"\"\"\n",
    "        Délégation de l'action à l'objet Strategy (quackbehavior)\n",
    "        \"\"\"\n",
    "        print(\"Duck: Quacking (not sure how it'll do it).\")\n",
    "        self._quackBehavior.quack(self)\n",
    "        \n",
    "    def performFly(self) -> None:\n",
    "        \"\"\"\n",
    "        Délégation de l'action à l'objet Strategy (flyBehavior)\n",
    "        \"\"\"\n",
    "        print(\"Duck: Flying (not sure how it'll do it).\")\n",
    "        self._flyBehavior.fly(self)\n",
    "        "
   ]
  },
  {
   "cell_type": "markdown",
   "metadata": {},
   "source": [
    "### Définition des classes concrètes"
   ]
  },
  {
   "cell_type": "code",
   "execution_count": 17,
   "metadata": {},
   "outputs": [],
   "source": [
    "class FlyWithWings(FlyBehavior):\n",
    "    def fly(self):\n",
    "        print(\"Je vole avec des ailes.\")"
   ]
  },
  {
   "cell_type": "code",
   "execution_count": 18,
   "metadata": {},
   "outputs": [],
   "source": [
    "class FlyNoWay(FlyBehavior):\n",
    "    def fly(self):\n",
    "        print(\"Je ne sais pas voler.\")"
   ]
  },
  {
   "cell_type": "code",
   "execution_count": 19,
   "metadata": {},
   "outputs": [],
   "source": [
    "class Quack(QuackBehavior):\n",
    "    def quack(self):\n",
    "        print(\"Quack! Quack! Quack!\")"
   ]
  },
  {
   "cell_type": "code",
   "execution_count": 20,
   "metadata": {},
   "outputs": [],
   "source": [
    "class Squeak(QuackBehavior):\n",
    "    def quack(self):\n",
    "        print(\"Squeak! Squeak! Squeak!\")"
   ]
  },
  {
   "cell_type": "code",
   "execution_count": 21,
   "metadata": {},
   "outputs": [],
   "source": [
    "class MuteQuack(QuackBehavior):\n",
    "    def quack(self):\n",
    "        print(\"I can't quack!\")"
   ]
  },
  {
   "cell_type": "markdown",
   "metadata": {},
   "source": [
    "### Création et utilisation d'un canard"
   ]
  },
  {
   "cell_type": "code",
   "execution_count": 22,
   "metadata": {
    "scrolled": true
   },
   "outputs": [
    {
     "name": "stdout",
     "output_type": "stream",
     "text": [
      "Duck: Quacking (not sure how it'll do it).\n",
      "Quack! Quack! Quack!\n",
      "Duck: Flying (not sure how it'll do it).\n",
      "Je vole avec des ailes.\n"
     ]
    }
   ],
   "source": [
    "canard = Duck(FlyWithWings, Quack)\n",
    "canard.performQuack()\n",
    "canard.performFly()"
   ]
  },
  {
   "cell_type": "markdown",
   "metadata": {},
   "source": [
    "### Changement des comportements du canard "
   ]
  },
  {
   "cell_type": "code",
   "execution_count": 14,
   "metadata": {},
   "outputs": [
    {
     "name": "stdout",
     "output_type": "stream",
     "text": [
      "Duck: Flying (not sure how it'll do it).\n",
      "Je ne sais pas voler.\n"
     ]
    }
   ],
   "source": [
    "canard.setFlyBehavior = FlyNoWay\n",
    "canard.performFly()"
   ]
  },
  {
   "cell_type": "code",
   "execution_count": 23,
   "metadata": {},
   "outputs": [
    {
     "name": "stdout",
     "output_type": "stream",
     "text": [
      "Duck: Quacking (not sure how it'll do it).\n",
      "I can't quack!\n"
     ]
    }
   ],
   "source": [
    "canard.setQuackBehavior = MuteQuack\n",
    "canard.performQuack()"
   ]
  }
 ],
 "metadata": {
  "kernelspec": {
   "display_name": "Python 3",
   "language": "python",
   "name": "python3"
  },
  "language_info": {
   "codemirror_mode": {
    "name": "ipython",
    "version": 3
   },
   "file_extension": ".py",
   "mimetype": "text/x-python",
   "name": "python",
   "nbconvert_exporter": "python",
   "pygments_lexer": "ipython3",
   "version": "3.7.1"
  }
 },
 "nbformat": 4,
 "nbformat_minor": 2
}
