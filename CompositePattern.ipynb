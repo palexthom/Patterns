{
 "cells": [
  {
   "cell_type": "markdown",
   "metadata": {},
   "source": [
    "# Composite Pattern"
   ]
  },
  {
   "cell_type": "markdown",
   "metadata": {},
   "source": [
    "Code repris et commenté depuis https://refactoring.guru/design-patterns/composite/python/example"
   ]
  },
  {
   "cell_type": "markdown",
   "metadata": {},
   "source": [
    "## Structure du pattern"
   ]
  },
  {
   "cell_type": "markdown",
   "metadata": {},
   "source": [
    "![Diagramme de fonctionnement du pattern Composite](Images/CompositePattern.PNG)"
   ]
  },
  {
   "cell_type": "markdown",
   "metadata": {},
   "source": [
    "## Diagramme de classe de l'exemple "
   ]
  },
  {
   "cell_type": "markdown",
   "metadata": {},
   "source": [
    "![Diagramme de classe de l'exemple](Images/CompositePatternClass.PNG)"
   ]
  },
  {
   "cell_type": "markdown",
   "metadata": {},
   "source": [
    "Le but est de pouvoir interagir avec un leaf ou un composite (plusieurs leaf) de la même façon.  \n",
    "Pour cela, __Leaf__ et __Composite__ implémentent la même interface __Component__.  \n",
    "\n",
    "Leaf et composite disposent donc d'une même méthode \"operation\", qui sera implémentée différemment pour Leaf et pour Composite (appel des méthodes \"operation\" pour chacune des leaf qui le composent)."
   ]
  },
  {
   "cell_type": "code",
   "execution_count": 2,
   "metadata": {},
   "outputs": [],
   "source": [
    "from __future__ import annotations\n",
    "from abc import ABC, abstractmethod\n",
    "from typing import List"
   ]
  },
  {
   "cell_type": "code",
   "execution_count": 11,
   "metadata": {},
   "outputs": [],
   "source": [
    "class Component(ABC):\n",
    "\n",
    "    # Getter et setter pour définir un parent (de type Component)\n",
    "    @property\n",
    "    def parent(self) -> Component:\n",
    "        return self._parent\n",
    "\n",
    "    @parent.setter\n",
    "    def parent(self, parent: Component):\n",
    "        self._parent = parent\n",
    "\n",
    "    # Dans certains cas peut être utile de définir ici une façon de gérer les enfants\n",
    "    # Serait par contre inutile pour tous les composant Leaf\n",
    "    # Voir notes en anglais dans le code original\n",
    "    \n",
    "    def add(self, component: Component) -> None:\n",
    "        pass\n",
    "\n",
    "    def remove(self, component: Component) -> None:\n",
    "        pass\n",
    "\n",
    "    def is_composite(self) -> bool:\n",
    "        # Pour permettre au code client de savoir si Component peut recevoir des enfants.\n",
    "        return False\n",
    "\n",
    "    @abstractmethod\n",
    "    def operation(self) -> str:\n",
    "        # Peut implémenter un comportement par défaut ou être abstraite\n",
    "        pass\n"
   ]
  },
  {
   "cell_type": "code",
   "execution_count": 12,
   "metadata": {},
   "outputs": [],
   "source": [
    "class Leaf(Component):\n",
    "    # N'a pas d'enfants, est en général celui qui fait le boulot\n",
    "    # (Composite délègue généralement à ses sous-composants)\n",
    "\n",
    "    def operation(self) -> str:\n",
    "        return \"Leaf\""
   ]
  },
  {
   "cell_type": "code",
   "execution_count": 15,
   "metadata": {},
   "outputs": [],
   "source": [
    "class Composite(Component):\n",
    "    # Composant complexe pouvant avoir plusieurs enfants (leaf ou composite)\n",
    "    # Délègue le travail aux enfants, compile et retourne le résultat.\n",
    "\n",
    "    def __init__(self) -> None:\n",
    "        self._children: List[Component] = []\n",
    "\n",
    "    \"\"\"\n",
    "    A composite object can add or remove other components (both simple or\n",
    "    complex) to or from its child list.\n",
    "    \"\"\"\n",
    "    # Peut s'ajouter ou supprimer des components \n",
    "    def add(self, component: Component) -> None:\n",
    "        self._children.append(component)\n",
    "        component.parent = self\n",
    "\n",
    "    def remove(self, component: Component) -> None:\n",
    "        self._children.remove(component)\n",
    "        component.parent = None\n",
    "\n",
    "    # Indique qu'il est composite\n",
    "    def is_composite(self) -> bool:\n",
    "        return True\n",
    "\n",
    "    def operation(self) -> str:\n",
    "        # Appel récursif parmi ses enfants (Composites ou Leaf)\n",
    "        # Collecte, somme et renvoie les résultats\n",
    "\n",
    "        results = []\n",
    "        for child in self._children:\n",
    "            results.append(child.operation())\n",
    "        return f\"Branch({'+'.join(results)})\""
   ]
  },
  {
   "cell_type": "markdown",
   "metadata": {},
   "source": [
    "On définit deux méthodes clientes (pas des classes!) prenant en paramètre un ou plusieurs composants et qui vont appeler \"operation\" sur un composant."
   ]
  },
  {
   "cell_type": "code",
   "execution_count": 17,
   "metadata": {},
   "outputs": [],
   "source": [
    "def client_code(component: Component) -> None:\n",
    "    # Fonctionne avec l'interface de Component\n",
    "    # Appelle \"Operation\" sur le Component passé en paramètres\n",
    "    print(f\"RESULT: {component.operation()}\", end=\"\")"
   ]
  },
  {
   "cell_type": "code",
   "execution_count": 18,
   "metadata": {},
   "outputs": [],
   "source": [
    "def client_code2(component1: Component, component2: Component) -> None:\n",
    "    # On fait le child manafement dans la classe Component (méthodes Add, Remove)\n",
    "    # On ne dépend donc pas des classes concrètes pour construire l'arbre\n",
    "\n",
    "    if component1.is_composite():\n",
    "        component1.add(component2)\n",
    "\n",
    "    print(f\"RESULT: {component1.operation()}\", end=\"\")"
   ]
  },
  {
   "cell_type": "markdown",
   "metadata": {},
   "source": [
    "## Code test"
   ]
  },
  {
   "cell_type": "code",
   "execution_count": 20,
   "metadata": {},
   "outputs": [
    {
     "name": "stdout",
     "output_type": "stream",
     "text": [
      "Client: I've got a simple component:\n",
      "RESULT: Leaf\n",
      "\n",
      "Client: Now I've got a composite tree:\n",
      "RESULT: Branch(Branch(Leaf+Leaf)+Branch(Leaf))\n",
      "\n",
      "Client: I don't need to check the components classes even when managing the tree:\n",
      "RESULT: Branch(Branch(Leaf+Leaf)+Branch(Leaf)+Leaf)"
     ]
    }
   ],
   "source": [
    " # This way the client code can support the simple leaf components...\n",
    "simple = Leaf()\n",
    "print(\"Client: I've got a simple component:\")\n",
    "client_code(simple)\n",
    "print(\"\\n\")\n",
    "\n",
    "# ...as well as the complex composites.\n",
    "tree = Composite()\n",
    "\n",
    "branch1 = Composite()\n",
    "branch1.add(Leaf())\n",
    "branch1.add(Leaf())\n",
    "\n",
    "branch2 = Composite()\n",
    "branch2.add(Leaf())\n",
    "\n",
    "tree.add(branch1)\n",
    "tree.add(branch2)\n",
    "\n",
    "print(\"Client: Now I've got a composite tree:\")\n",
    "client_code(tree)\n",
    "print(\"\\n\")\n",
    "\n",
    "print(\"Client: I don't need to check the components classes even when managing the tree:\")\n",
    "client_code2(tree, simple)"
   ]
  },
  {
   "cell_type": "markdown",
   "metadata": {},
   "source": [
    "## Code complet"
   ]
  },
  {
   "cell_type": "markdown",
   "metadata": {},
   "source": [
    "```Python\n",
    "from __future__ import annotations\n",
    "from abc import ABC, abstractmethod\n",
    "from typing import List\n",
    "\n",
    "\n",
    "class Component(ABC):\n",
    "    \"\"\"\n",
    "    The base Component class declares common operations for both simple and\n",
    "    complex objects of a composition.\n",
    "    \"\"\"\n",
    "\n",
    "    @property\n",
    "    def parent(self) -> Component:\n",
    "        return self._parent\n",
    "\n",
    "    @parent.setter\n",
    "    def parent(self, parent: Component):\n",
    "        \"\"\"\n",
    "        Optionally, the base Component can declare an interface for setting and\n",
    "        accessing a parent of the component in a tree structure. It can also\n",
    "        provide some default implementation for these methods.\n",
    "        \"\"\"\n",
    "\n",
    "        self._parent = parent\n",
    "\n",
    "    \"\"\"\n",
    "    In some cases, it would be beneficial to define the child-management\n",
    "    operations right in the base Component class. This way, you won't need to\n",
    "    expose any concrete component classes to the client code, even during the\n",
    "    object tree assembly. The downside is that these methods will be empty for\n",
    "    the leaf-level components.\n",
    "    \"\"\"\n",
    "\n",
    "    def add(self, component: Component) -> None:\n",
    "        pass\n",
    "\n",
    "    def remove(self, component: Component) -> None:\n",
    "        pass\n",
    "\n",
    "    def is_composite(self) -> bool:\n",
    "        \"\"\"\n",
    "        You can provide a method that lets the client code figure out whether a\n",
    "        component can bear children.\n",
    "        \"\"\"\n",
    "\n",
    "        return False\n",
    "\n",
    "    @abstractmethod\n",
    "    def operation(self) -> str:\n",
    "        \"\"\"\n",
    "        The base Component may implement some default behavior or leave it to\n",
    "        concrete classes (by declaring the method containing the behavior as\n",
    "        \"abstract\").\n",
    "        \"\"\"\n",
    "\n",
    "        pass\n",
    "\n",
    "\n",
    "class Leaf(Component):\n",
    "    \"\"\"\n",
    "    The Leaf class represents the end objects of a composition. A leaf can't\n",
    "    have any children.\n",
    "\n",
    "    Usually, it's the Leaf objects that do the actual work, whereas Composite\n",
    "    objects only delegate to their sub-components.\n",
    "    \"\"\"\n",
    "\n",
    "    def operation(self) -> str:\n",
    "        return \"Leaf\"\n",
    "\n",
    "\n",
    "class Composite(Component):\n",
    "    \"\"\"\n",
    "    The Composite class represents the complex components that may have\n",
    "    children. Usually, the Composite objects delegate the actual work to their\n",
    "    children and then \"sum-up\" the result.\n",
    "    \"\"\"\n",
    "\n",
    "    def __init__(self) -> None:\n",
    "        self._children: List[Component] = []\n",
    "\n",
    "    \"\"\"\n",
    "    A composite object can add or remove other components (both simple or\n",
    "    complex) to or from its child list.\n",
    "    \"\"\"\n",
    "\n",
    "    def add(self, component: Component) -> None:\n",
    "        self._children.append(component)\n",
    "        component.parent = self\n",
    "\n",
    "    def remove(self, component: Component) -> None:\n",
    "        self._children.remove(component)\n",
    "        component.parent = None\n",
    "\n",
    "    def is_composite(self) -> bool:\n",
    "        return True\n",
    "\n",
    "    def operation(self) -> str:\n",
    "        \"\"\"\n",
    "        The Composite executes its primary logic in a particular way. It\n",
    "        traverses recursively through all its children, collecting and summing\n",
    "        their results. Since the composite's children pass these calls to their\n",
    "        children and so forth, the whole object tree is traversed as a result.\n",
    "        \"\"\"\n",
    "\n",
    "        results = []\n",
    "        for child in self._children:\n",
    "            results.append(child.operation())\n",
    "        return f\"Branch({'+'.join(results)})\"\n",
    "\n",
    "\n",
    "def client_code(component: Component) -> None:\n",
    "    \"\"\"\n",
    "    The client code works with all of the components via the base interface.\n",
    "    \"\"\"\n",
    "\n",
    "    print(f\"RESULT: {component.operation()}\", end=\"\")\n",
    "\n",
    "\n",
    "def client_code2(component1: Component, component2: Component) -> None:\n",
    "    \"\"\"\n",
    "    Thanks to the fact that the child-management operations are declared in the\n",
    "    base Component class, the client code can work with any component, simple or\n",
    "    complex, without depending on their concrete classes.\n",
    "    \"\"\"\n",
    "\n",
    "    if component1.is_composite():\n",
    "        component1.add(component2)\n",
    "\n",
    "    print(f\"RESULT: {component1.operation()}\", end=\"\")\n",
    "\n",
    "\n",
    "if __name__ == \"__main__\":\n",
    "    # This way the client code can support the simple leaf components...\n",
    "    simple = Leaf()\n",
    "    print(\"Client: I've got a simple component:\")\n",
    "    client_code(simple)\n",
    "    print(\"\\n\")\n",
    "\n",
    "    # ...as well as the complex composites.\n",
    "    tree = Composite()\n",
    "\n",
    "    branch1 = Composite()\n",
    "    branch1.add(Leaf())\n",
    "    branch1.add(Leaf())\n",
    "\n",
    "    branch2 = Composite()\n",
    "    branch2.add(Leaf())\n",
    "\n",
    "    tree.add(branch1)\n",
    "    tree.add(branch2)\n",
    "\n",
    "    print(\"Client: Now I've got a composite tree:\")\n",
    "    client_code(tree)\n",
    "    print(\"\\n\")\n",
    "\n",
    "    print(\"Client: I don't need to check the components classes even when managing the tree:\")\n",
    "    client_code2(tree, simple)\n",
    "```"
   ]
  },
  {
   "cell_type": "code",
   "execution_count": null,
   "metadata": {},
   "outputs": [],
   "source": []
  }
 ],
 "metadata": {
  "kernelspec": {
   "display_name": "Python 3",
   "language": "python",
   "name": "python3"
  },
  "language_info": {
   "codemirror_mode": {
    "name": "ipython",
    "version": 3
   },
   "file_extension": ".py",
   "mimetype": "text/x-python",
   "name": "python",
   "nbconvert_exporter": "python",
   "pygments_lexer": "ipython3",
   "version": "3.7.6"
  }
 },
 "nbformat": 4,
 "nbformat_minor": 2
}
