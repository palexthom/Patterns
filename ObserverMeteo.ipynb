{
 "cells": [
  {
   "cell_type": "markdown",
   "metadata": {},
   "source": [
    "# Exemple de pattern Observer\n",
    "\n",
    "On met en place une station météo qui ve mesurer température, humidité, pression.\n",
    "Elle notifie différents affichages lorsque les conditions changent."
   ]
  },
  {
   "cell_type": "code",
   "execution_count": 1,
   "metadata": {},
   "outputs": [],
   "source": [
    "from __future__ import annotations\n",
    "from abc import ABC, abstractmethod\n",
    "from random import randrange\n",
    "from typing import List"
   ]
  },
  {
   "cell_type": "markdown",
   "metadata": {},
   "source": [
    "### Classe Sujet"
   ]
  },
  {
   "cell_type": "code",
   "execution_count": 2,
   "metadata": {},
   "outputs": [],
   "source": [
    "class Subject(ABC):\n",
    "    \"\"\"\n",
    "    The Subject interface declares a set of methods for managing subscribers.\n",
    "    \"\"\"\n",
    "\n",
    "    @abstractmethod\n",
    "    def registerObserver(self, observer: Observer) -> None:\n",
    "        \"\"\"\n",
    "        Attach an observer to the subject.\n",
    "        \"\"\"\n",
    "        pass\n",
    "\n",
    "    @abstractmethod\n",
    "    def removeObserver(self, observer: Observer) -> None:\n",
    "        \"\"\"\n",
    "        Detach an observer from the subject.\n",
    "        \"\"\"\n",
    "        pass\n",
    "\n",
    "    @abstractmethod\n",
    "    def notifyObservers(self) -> None:\n",
    "        \"\"\"\n",
    "        Notify all observers about an event.\n",
    "        \"\"\"\n",
    "        pass"
   ]
  },
  {
   "cell_type": "markdown",
   "metadata": {},
   "source": [
    "### Classe sujet concrete"
   ]
  },
  {
   "cell_type": "code",
   "execution_count": 3,
   "metadata": {},
   "outputs": [],
   "source": [
    "class WeatherData(Subject):\n",
    "    \"\"\"\n",
    "    The Subject owns some important state and notifies observers when the state\n",
    "    changes.\n",
    "    \"\"\"\n",
    "\n",
    "    _state: int = None\n",
    "    \"\"\"\n",
    "    For the sake of simplicity, the Subject's state, essential to all\n",
    "    subscribers, is stored in this variable.\n",
    "    \"\"\"\n",
    "\n",
    "    _observers: List[Observer] = []\n",
    "    \"\"\"\n",
    "    List of subscribers. In real life, the list of subscribers can be stored\n",
    "    more comprehensively (categorized by event type, etc.).\n",
    "    \"\"\"\n",
    "    \n",
    "    _temperature: Float = None\n",
    "    _humidity: Float = None\n",
    "    _pressure: FLoat = None\n",
    "    \n",
    "\n",
    "    def registerObserver(self, observer: Observer) -> None:\n",
    "        print(\"Subject: Attached an observer.\")\n",
    "        self._observers.append(observer)\n",
    "\n",
    "    def removeObserver(self, observer: Observer) -> None:\n",
    "        self._observers.remove(observer)\n",
    "\n",
    "    \"\"\"\n",
    "    The subscription management methods.\n",
    "    \"\"\"\n",
    "\n",
    "    def notifyObservers(self) -> None:\n",
    "        \"\"\"\n",
    "        Trigger an update in each subscriber.\n",
    "        \"\"\"\n",
    "        print(\"Subject: Notifying observers...\")\n",
    "        for observer in self._observers:\n",
    "            observer.update(self._temperature, self._humidity, self._pressure)\n",
    "            observer.display()\n",
    "\n",
    "    def measurementsChanged(self) -> None:\n",
    "        self.notifyObservers()\n",
    "    \n",
    "    \n",
    "    def setMeasurements(self, temperature: Float, humidity:Float, pressure:Float) -> None:\n",
    "        self._temperature = temperature\n",
    "        self._humidity = humidity\n",
    "        self._pressure = pressure\n",
    "        print(\"\\nSubject: Changement des conditions météo.\")\n",
    "        print(f\"T= {self._temperature} degrés, h= {self._humidity} %, p={self._pressure} hPa\")\n",
    "        self.measurementsChanged()"
   ]
  },
  {
   "cell_type": "markdown",
   "metadata": {},
   "source": [
    "### Classe Observer"
   ]
  },
  {
   "cell_type": "code",
   "execution_count": 4,
   "metadata": {},
   "outputs": [],
   "source": [
    "class Observer(ABC):\n",
    "    \"\"\"\n",
    "    The Observer interface declares the update method, used by subjects.\n",
    "    \"\"\"\n",
    "\n",
    "    @abstractmethod\n",
    "    def update(self, temperature: Float, humidity: Float, pressure: Float) -> None:\n",
    "        \"\"\"\n",
    "        Receive update from subject.\n",
    "        \"\"\"\n",
    "        pass\n",
    "\n",
    "\n",
    "    \"\"\"\n",
    "    Concrete Observers react to the updates issued by the Subject they had been\n",
    "    attached to.\n",
    "    \"\"\""
   ]
  },
  {
   "cell_type": "markdown",
   "metadata": {},
   "source": [
    "### Classes Observer Concrètes\n",
    "Les différents affichages de notre station météo"
   ]
  },
  {
   "cell_type": "code",
   "execution_count": 5,
   "metadata": {},
   "outputs": [],
   "source": [
    "class CurrentConditionsDisplay(Observer):\n",
    "    _weatherData: Subject = None\n",
    "    _temperature: Float = None\n",
    "    _humidity: FLoat = None\n",
    "    _pressure: Float = None\n",
    "    \n",
    "    def __init__(self, weatherData: Subject) -> None: #Constructeur\n",
    "        self._weatherData = weatherData\n",
    "        self._weatherData.registerObserver(self)\n",
    "    \n",
    "    def update(self, temperature: Float, humidity: Float, pressure: Float) -> None:\n",
    "        self._temperature = temperature\n",
    "        self._humidity = humidity\n",
    "        self._pressure = pressure\n",
    "        \n",
    "    def display(self) -> None:\n",
    "        print (f\"Current conditions display : T= {self._temperature}°C, H= {self._humidity}%, p= {self._pressure}hPa.\")"
   ]
  },
  {
   "cell_type": "code",
   "execution_count": 6,
   "metadata": {},
   "outputs": [],
   "source": [
    "class ForecastDisplay(Observer):\n",
    "    _weatherData: Subject = None\n",
    "    _currentPressure: Float = None\n",
    "    _lastPressure: Float = None\n",
    "\n",
    "    def __init__(self, weatherData: Subject) -> None: #Constructeur\n",
    "        self._weatherData = weatherData\n",
    "        self._weatherData.registerObserver(self)\n",
    "        self._currentPressure = None\n",
    "        self._lastPressure = None\n",
    "    \n",
    "    \n",
    "    def update(self, temperature: Float, humidity: Float, pressure: Float) -> None:\n",
    "        if self._lastPressure == None :\n",
    "            self._lastPressure = pressure\n",
    "        else:\n",
    "             self._lastPressure = self._currentPressure\n",
    "                \n",
    "        self._currentPressure = pressure\n",
    "    \n",
    "    \n",
    "    def display(self) -> None:\n",
    "        print (f\"Forecast Display : last Pressure = {self._lastPressure} hPa.\")\n",
    "        print (f\"Forecast Display : Current Pressure = {self._currentPressure} hPa.\")\n",
    "        if self._currentPressure >= (1.05 * self._lastPressure) :\n",
    "            print (\"ForecastDisplay : It gets better!\")\n",
    "        elif self._currentPressure <= (0.95 * self._lastPressure) :\n",
    "            print (\"ForecastDisplay : It gets worse!\")\n",
    "        else:\n",
    "            print (\"Forecast Display : Pretty much the same!\")"
   ]
  },
  {
   "cell_type": "markdown",
   "metadata": {},
   "source": [
    "## Code test"
   ]
  },
  {
   "cell_type": "code",
   "execution_count": 7,
   "metadata": {},
   "outputs": [],
   "source": [
    "weatherData = WeatherData()"
   ]
  },
  {
   "cell_type": "code",
   "execution_count": 8,
   "metadata": {},
   "outputs": [
    {
     "name": "stdout",
     "output_type": "stream",
     "text": [
      "Subject: Attached an observer.\n"
     ]
    }
   ],
   "source": [
    "currentDisplay = CurrentConditionsDisplay(weatherData)"
   ]
  },
  {
   "cell_type": "code",
   "execution_count": 9,
   "metadata": {},
   "outputs": [
    {
     "name": "stdout",
     "output_type": "stream",
     "text": [
      "\n",
      "Subject: Changement des conditions météo.\n",
      "T= 23 degrés, h= 65 %, p=1015 hPa\n",
      "Subject: Notifying observers...\n",
      "Current conditions display : T= 23°C, H= 65%, p= 1015hPa.\n"
     ]
    }
   ],
   "source": [
    "weatherData.setMeasurements(23,65,1015)"
   ]
  },
  {
   "cell_type": "code",
   "execution_count": 10,
   "metadata": {},
   "outputs": [
    {
     "name": "stdout",
     "output_type": "stream",
     "text": [
      "Current conditions display : T= 23°C, H= 65%, p= 1015hPa.\n"
     ]
    }
   ],
   "source": [
    "currentDisplay.display()"
   ]
  },
  {
   "cell_type": "code",
   "execution_count": 11,
   "metadata": {},
   "outputs": [
    {
     "name": "stdout",
     "output_type": "stream",
     "text": [
      "Subject: Attached an observer.\n"
     ]
    }
   ],
   "source": [
    "forecastDisplay = ForecastDisplay(weatherData)"
   ]
  },
  {
   "cell_type": "code",
   "execution_count": 12,
   "metadata": {},
   "outputs": [
    {
     "name": "stdout",
     "output_type": "stream",
     "text": [
      "\n",
      "Subject: Changement des conditions météo.\n",
      "T= 19 degrés, h= 85 %, p=1005 hPa\n",
      "Subject: Notifying observers...\n",
      "Current conditions display : T= 19°C, H= 85%, p= 1005hPa.\n",
      "Forecast Display : last Pressure = 1005 hPa.\n",
      "Forecast Display : Current Pressure = 1005 hPa.\n",
      "Forecast Display : Pretty much the same!\n"
     ]
    }
   ],
   "source": [
    "weatherData.setMeasurements(19,85,1005)"
   ]
  },
  {
   "cell_type": "code",
   "execution_count": 13,
   "metadata": {},
   "outputs": [
    {
     "name": "stdout",
     "output_type": "stream",
     "text": [
      "\n",
      "Subject: Changement des conditions météo.\n",
      "T= 19 degrés, h= 92 %, p=950 hPa\n",
      "Subject: Notifying observers...\n",
      "Current conditions display : T= 19°C, H= 92%, p= 950hPa.\n",
      "Forecast Display : last Pressure = 1005 hPa.\n",
      "Forecast Display : Current Pressure = 950 hPa.\n",
      "ForecastDisplay : It gets worse!\n"
     ]
    }
   ],
   "source": [
    "weatherData.setMeasurements(19,92,950)"
   ]
  },
  {
   "cell_type": "code",
   "execution_count": 14,
   "metadata": {},
   "outputs": [
    {
     "name": "stdout",
     "output_type": "stream",
     "text": [
      "\n",
      "Subject: Changement des conditions météo.\n",
      "T= 19 degrés, h= 92 %, p=1030 hPa\n",
      "Subject: Notifying observers...\n",
      "Current conditions display : T= 19°C, H= 92%, p= 1030hPa.\n",
      "Forecast Display : last Pressure = 950 hPa.\n",
      "Forecast Display : Current Pressure = 1030 hPa.\n",
      "ForecastDisplay : It gets better!\n"
     ]
    }
   ],
   "source": [
    "weatherData.setMeasurements(19,92,1030)"
   ]
  },
  {
   "cell_type": "code",
   "execution_count": 15,
   "metadata": {},
   "outputs": [],
   "source": [
    "weatherData.removeObserver(currentDisplay)"
   ]
  },
  {
   "cell_type": "code",
   "execution_count": 16,
   "metadata": {},
   "outputs": [
    {
     "name": "stdout",
     "output_type": "stream",
     "text": [
      "\n",
      "Subject: Changement des conditions météo.\n",
      "T= 25 degrés, h= 75 %, p=1020 hPa\n",
      "Subject: Notifying observers...\n",
      "Forecast Display : last Pressure = 1030 hPa.\n",
      "Forecast Display : Current Pressure = 1020 hPa.\n",
      "Forecast Display : Pretty much the same!\n"
     ]
    }
   ],
   "source": [
    "weatherData.setMeasurements(25,75,1020)"
   ]
  },
  {
   "cell_type": "code",
   "execution_count": null,
   "metadata": {},
   "outputs": [],
   "source": []
  }
 ],
 "metadata": {
  "kernelspec": {
   "display_name": "Python 3",
   "language": "python",
   "name": "python3"
  },
  "language_info": {
   "codemirror_mode": {
    "name": "ipython",
    "version": 3
   },
   "file_extension": ".py",
   "mimetype": "text/x-python",
   "name": "python",
   "nbconvert_exporter": "python",
   "pygments_lexer": "ipython3",
   "version": "3.7.6"
  }
 },
 "nbformat": 4,
 "nbformat_minor": 2
}
