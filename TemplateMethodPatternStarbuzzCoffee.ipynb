{
 "cells": [
  {
   "cell_type": "markdown",
   "metadata": {},
   "source": [
    "# Template Method Pattern Example"
   ]
  },
  {
   "cell_type": "markdown",
   "metadata": {},
   "source": [
    "Exemple du pattern \"Template Method\" repris depuis HeadFirstDesignPattern.  \n",
    "Produire une boisson de type thé ou café est très similaire. On va la mettre en oeuvre dans une Template Method, puis on laissera aux subclasses thé et café le soin de définir quelles sont les spécificités qui les concernent."
   ]
  },
  {
   "cell_type": "code",
   "execution_count": 1,
   "metadata": {},
   "outputs": [],
   "source": [
    "from abc import ABC, abstractmethod"
   ]
  },
  {
   "cell_type": "markdown",
   "metadata": {},
   "source": [
    "## Classe Abstraite"
   ]
  },
  {
   "cell_type": "code",
   "execution_count": 2,
   "metadata": {},
   "outputs": [],
   "source": [
    "class CaffeineBeverage(ABC):\n",
    "\n",
    "    # Template Method\n",
    "    def prepareReceipe(self) -> None:\n",
    "        self.boilWater()\n",
    "        self.brew()\n",
    "        self.pourInCup()\n",
    "        if (self.customerWantsCondiments()):\n",
    "            self.addCondiments()\n",
    "\n",
    "            \n",
    "    # Méthodes à implémenter par les subclasses\n",
    "    @abstractmethod\n",
    "    def brew(self) -> None:\n",
    "        pass\n",
    "    \n",
    "    @abstractmethod\n",
    "    def addCondiments(self) -> None:\n",
    "        pass\n",
    "        \n",
    "    # Méthodes partagées par les subclasses\n",
    "    def boilWater(self) -> None:\n",
    "        print(\"CaffeineBeverage : je fais bouillir de l'eau.\")\n",
    "    \n",
    "    def pourInCup(self) -> None:\n",
    "        print(\"CaffeineBeverage : je verse la boisson dans la tasse.\")\n",
    "    \n",
    "    # Ceci est un Hook : on renvoie vrai par défaut\n",
    "    # Classe cliente peut en faire ce qu'elle veut\n",
    "    def customerWantsCondiments(self) -> bool:\n",
    "        return True"
   ]
  },
  {
   "cell_type": "markdown",
   "metadata": {},
   "source": [
    "## Classes concrètes"
   ]
  },
  {
   "cell_type": "markdown",
   "metadata": {},
   "source": [
    "On doit définir dans les classes concrètes les deux méthodes abstraites\n",
    "* brew\n",
    "* addCondiments"
   ]
  },
  {
   "cell_type": "code",
   "execution_count": 3,
   "metadata": {},
   "outputs": [],
   "source": [
    "class Coffee(CaffeineBeverage):\n",
    "    # Définition des méthodes abstraites\n",
    "    def brew(self)-> None:\n",
    "        print(\"Coffee : je fais passer l'eau dans le filtre.\")\n",
    "    \n",
    "    def addCondiments(self)-> None:\n",
    "        print(\"Coffee : j'ajoute du lait et du sucre.\")"
   ]
  },
  {
   "cell_type": "code",
   "execution_count": 4,
   "metadata": {},
   "outputs": [],
   "source": [
    "class Tea(CaffeineBeverage):\n",
    "    # Définition des méthodes abstraites\n",
    "    def brew(self)-> None:\n",
    "        print(\"Thé : je fais infuser le thé.\")\n",
    "    \n",
    "    def addCondiments(self)-> None:\n",
    "        print(\"Coffee : j'ajoute du lait et du citron.\")"
   ]
  },
  {
   "cell_type": "markdown",
   "metadata": {},
   "source": [
    "### Ajout de hooks"
   ]
  },
  {
   "cell_type": "code",
   "execution_count": 5,
   "metadata": {},
   "outputs": [],
   "source": [
    "class CoffeeWithHook(CaffeineBeverage):\n",
    "    # Définition des méthodes abstraites\n",
    "    def brew(self)-> None:\n",
    "        print(\"CoffeeWithHook : je fais passer l'eau dans le filtre.\")\n",
    "    \n",
    "    def addCondiments(self)-> None:\n",
    "        print(\"CoffeeWithHook : j'ajoute du lait et du sucre.\")\n",
    "\n",
    "    # Overwrite de customerWantsCondiments\n",
    "    def customerWantsCondiments(self)-> bool:\n",
    "        reponse = input(\"Voulez-vous du lait et du sucre ? (y/n)\")\n",
    "        if reponse.lower()[0] == \"y\":\n",
    "            return True\n",
    "        else:\n",
    "            return False"
   ]
  },
  {
   "cell_type": "code",
   "execution_count": 6,
   "metadata": {},
   "outputs": [],
   "source": [
    "class TeaWithHook(CaffeineBeverage):\n",
    "    # Définition des méthodes abstraites\n",
    "    def brew(self)-> None:\n",
    "        print(\"Thé : je fais infuser le thé.\")\n",
    "    \n",
    "    def addCondiments(self)-> None:\n",
    "        print(\"Coffee : j'ajoute du citron.\")\n",
    "    \n",
    "    def customerWantsCondiments(self)-> bool:\n",
    "        reponse = input(\"Voulez-vous du citron ? (y/n)\")\n",
    "        \n",
    "        if reponse.lower()[0] == \"y\":\n",
    "            return True\n",
    "        else:\n",
    "            return False"
   ]
  },
  {
   "cell_type": "markdown",
   "metadata": {},
   "source": [
    "## Code Test"
   ]
  },
  {
   "cell_type": "markdown",
   "metadata": {},
   "source": [
    "__Tests de base :__"
   ]
  },
  {
   "cell_type": "code",
   "execution_count": 7,
   "metadata": {},
   "outputs": [
    {
     "name": "stdout",
     "output_type": "stream",
     "text": [
      "Preparation d'un thé...\n",
      "CaffeineBeverage : je fais bouillir de l'eau.\n",
      "Thé : je fais infuser le thé.\n",
      "CaffeineBeverage : je verse la boisson dans la tasse.\n",
      "Coffee : j'ajoute du lait et du citron.\n",
      " \n",
      "Preparation d'un café...\n",
      "CaffeineBeverage : je fais bouillir de l'eau.\n",
      "Coffee : je fais passer l'eau dans le filtre.\n",
      "CaffeineBeverage : je verse la boisson dans la tasse.\n",
      "Coffee : j'ajoute du lait et du sucre.\n"
     ]
    }
   ],
   "source": [
    "myTea = Tea()\n",
    "myCoffee = Coffee()\n",
    "print(\"Preparation d'un thé...\")\n",
    "myTea.prepareReceipe()\n",
    "print(\" \")\n",
    "print(\"Preparation d'un café...\")\n",
    "myCoffee.prepareReceipe()"
   ]
  },
  {
   "cell_type": "markdown",
   "metadata": {},
   "source": [
    "__Tests avec hooks :__"
   ]
  },
  {
   "cell_type": "code",
   "execution_count": 8,
   "metadata": {},
   "outputs": [
    {
     "name": "stdout",
     "output_type": "stream",
     "text": [
      "Preparation d'un thé...\n",
      "CaffeineBeverage : je fais bouillir de l'eau.\n",
      "Thé : je fais infuser le thé.\n",
      "CaffeineBeverage : je verse la boisson dans la tasse.\n",
      "Voulez-vous du citron ? (y/n)y\n",
      "Coffee : j'ajoute du citron.\n"
     ]
    }
   ],
   "source": [
    "myHookedTea = TeaWithHook()\n",
    "print(\"Preparation d'un thé...\")\n",
    "myHookedTea.prepareReceipe()"
   ]
  },
  {
   "cell_type": "code",
   "execution_count": 9,
   "metadata": {},
   "outputs": [
    {
     "name": "stdout",
     "output_type": "stream",
     "text": [
      "Preparation d'un café...\n",
      "CaffeineBeverage : je fais bouillir de l'eau.\n",
      "CoffeeWithHook : je fais passer l'eau dans le filtre.\n",
      "CaffeineBeverage : je verse la boisson dans la tasse.\n",
      "Voulez-vous du lait et du sucre ? (y/n)n\n"
     ]
    }
   ],
   "source": [
    "myHookedCoffee = CoffeeWithHook()\n",
    "print(\"Preparation d'un café...\")\n",
    "myHookedCoffee.prepareReceipe()"
   ]
  }
 ],
 "metadata": {
  "kernelspec": {
   "display_name": "Python 3",
   "language": "python",
   "name": "python3"
  },
  "language_info": {
   "codemirror_mode": {
    "name": "ipython",
    "version": 3
   },
   "file_extension": ".py",
   "mimetype": "text/x-python",
   "name": "python",
   "nbconvert_exporter": "python",
   "pygments_lexer": "ipython3",
   "version": "3.7.1"
  }
 },
 "nbformat": 4,
 "nbformat_minor": 2
}
