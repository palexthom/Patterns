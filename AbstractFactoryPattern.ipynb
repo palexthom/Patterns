{
 "cells": [
  {
   "cell_type": "markdown",
   "metadata": {},
   "source": [
    "# Abstract Factory Pattern"
   ]
  },
  {
   "cell_type": "markdown",
   "metadata": {},
   "source": [
    "Exemple repris et commenté depuis : https://refactoring.guru/design-patterns/abstract-factory  \n",
    "L'exemple est purement théorique avec des produitsA / produitsB..."
   ]
  },
  {
   "cell_type": "markdown",
   "metadata": {},
   "source": [
    "![Image AbstractFactory](Images/AbstractFactory.png)"
   ]
  },
  {
   "cell_type": "markdown",
   "metadata": {},
   "source": [
    "__Notes HAP :__\n",
    "* Une _Abstract Factory_ est capable de créer des produits de type A et des produits de type B\n",
    "* Les produits A et B implémentent une même interface, de sorte qu'ils suivent le même modèle et puissent être utilisés indifféremment par le client, quelle que soit la factory les utilisant."
   ]
  },
  {
   "cell_type": "code",
   "execution_count": 1,
   "metadata": {},
   "outputs": [],
   "source": [
    "from __future__ import annotations\n",
    "from abc import ABC, abstractmethod"
   ]
  },
  {
   "cell_type": "markdown",
   "metadata": {},
   "source": [
    "# Factories"
   ]
  },
  {
   "cell_type": "markdown",
   "metadata": {},
   "source": [
    "### Interface Abstract Factory"
   ]
  },
  {
   "cell_type": "markdown",
   "metadata": {},
   "source": [
    "* Notre interface abstract factory comporte deux méthodes, renvoyant des produits abstraits (construits à partir de _AbstractProductA_ et _AbstractProductB_).\n",
    "* Ces produits forment une famille, dans la mesure où ils sont reliés par un thème ou concept de haut niveau (sont capable de collaborer les uns avec les autres).\n",
    "* Une famille de produits peut avoir des variantes, mais les produits d'une variante sont incompatibles avec ceux d'une autre (HAP : si produits par la même factory, peuvent donctionner ensemble, mais si par des factories différentes, ne marchent pas nécessairement ensemble)"
   ]
  },
  {
   "cell_type": "code",
   "execution_count": 2,
   "metadata": {},
   "outputs": [],
   "source": [
    "class AbstractFactory(ABC):\n",
    "\n",
    "    @abstractmethod\n",
    "    def create_product_a(self) -> AbstractProductA:\n",
    "        pass\n",
    "\n",
    "    @abstractmethod\n",
    "    def create_product_b(self) -> AbstractProductB:\n",
    "        pass"
   ]
  },
  {
   "cell_type": "markdown",
   "metadata": {},
   "source": [
    "### Concrete Factories"
   ]
  },
  {
   "cell_type": "markdown",
   "metadata": {},
   "source": [
    "Les factories concrètes produisent une famille de produit constituant une variante. La factory garantit que les produits sont compatibles (entre eux, cf commentaire plus haut). \n",
    "\n",
    "Important de noter : méthodes renvoient des produits abstraits tandis qu'on instancie des produits concrets."
   ]
  },
  {
   "cell_type": "code",
   "execution_count": 3,
   "metadata": {},
   "outputs": [],
   "source": [
    "class ConcreteFactory1(AbstractFactory):\n",
    "\n",
    "    def create_product_a(self) -> AbstractProductA:\n",
    "        return ConcreteProductA1()\n",
    "\n",
    "    def create_product_b(self) -> AbstractProductB:\n",
    "        return ConcreteProductB1()"
   ]
  },
  {
   "cell_type": "code",
   "execution_count": 4,
   "metadata": {},
   "outputs": [],
   "source": [
    "class ConcreteFactory2(AbstractFactory):\n",
    "\n",
    "    def create_product_a(self) -> AbstractProductA:\n",
    "        return ConcreteProductA2()\n",
    "\n",
    "    def create_product_b(self) -> AbstractProductA:\n",
    "        return ConcreteProductB2()"
   ]
  },
  {
   "cell_type": "markdown",
   "metadata": {},
   "source": [
    "# Products"
   ]
  },
  {
   "cell_type": "markdown",
   "metadata": {},
   "source": [
    "### Abstract Product"
   ]
  },
  {
   "cell_type": "markdown",
   "metadata": {},
   "source": [
    "Chaque produit de la famille de produit a une interface, de sorte que toutes les variantes implémentent la même interface.  \n",
    "NB : on rappelle (encore!) que les interactions entre produits ne sont possibles qu'entre produits issus de la même factory."
   ]
  },
  {
   "cell_type": "code",
   "execution_count": 5,
   "metadata": {},
   "outputs": [],
   "source": [
    "class AbstractProductA(ABC):\n",
    "\n",
    "    @abstractmethod\n",
    "    def useful_function_a(self) -> str:\n",
    "        pass"
   ]
  },
  {
   "cell_type": "markdown",
   "metadata": {},
   "source": [
    "On fait en sorte que le produitB interagisse avec le produit A pour la démonstration, il a donc une méthode pour laquelle il est autonome et une autre pour laquelle il va utiliser le produit A."
   ]
  },
  {
   "cell_type": "code",
   "execution_count": 6,
   "metadata": {},
   "outputs": [],
   "source": [
    "class AbstractProductB(ABC):\n",
    "\n",
    "    @abstractmethod\n",
    "    def useful_function_b(self) -> None:\n",
    "        \"\"\"\n",
    "        Product B is able to do its own thing...\n",
    "        \"\"\"\n",
    "        pass\n",
    "\n",
    "    @abstractmethod\n",
    "    def another_useful_function_b(self, collaborator: AbstractProductA) -> None:\n",
    "        \"\"\"\n",
    "        ...but it also can collaborate with the ProductA.\n",
    "\n",
    "        The Abstract Factory makes sure that all products it creates are of the\n",
    "        same variant and thus, compatible.\n",
    "        \"\"\"\n",
    "        pass"
   ]
  },
  {
   "cell_type": "markdown",
   "metadata": {},
   "source": [
    "### Concrete Product"
   ]
  },
  {
   "cell_type": "code",
   "execution_count": 7,
   "metadata": {},
   "outputs": [],
   "source": [
    "class ConcreteProductA1(AbstractProductA):\n",
    "    def useful_function_a(self) -> str:\n",
    "        return \"The result of the product A1.\""
   ]
  },
  {
   "cell_type": "code",
   "execution_count": 8,
   "metadata": {},
   "outputs": [],
   "source": [
    "class ConcreteProductA2(AbstractProductA):\n",
    "    def useful_function_a(self) -> str:\n",
    "        return \"The result of the product A2.\""
   ]
  },
  {
   "cell_type": "code",
   "execution_count": 9,
   "metadata": {},
   "outputs": [],
   "source": [
    "class ConcreteProductB1(AbstractProductB):\n",
    "    def useful_function_b(self) -> str:\n",
    "        return \"The result of the product B1.\"\n",
    "\n",
    "    \"\"\"\n",
    "    The variant, Product B1, is only able to work correctly with the variant,\n",
    "    Product A1. Nevertheless, it accepts any instance of AbstractProductA as an\n",
    "    argument.\n",
    "    \"\"\"\n",
    "\n",
    "    def another_useful_function_b(self, collaborator: AbstractProductA) -> str:\n",
    "        result = collaborator.useful_function_a()\n",
    "        return f\"The result of the B1 collaborating with the ({result})\""
   ]
  },
  {
   "cell_type": "code",
   "execution_count": 10,
   "metadata": {},
   "outputs": [],
   "source": [
    "class ConcreteProductB2(AbstractProductB):\n",
    "    def useful_function_b(self) -> str:\n",
    "        return \"The result of the product B2.\"\n",
    "\n",
    "    def another_useful_function_b(self, collaborator: AbstractProductA):\n",
    "        \"\"\"\n",
    "        The variant, Product B2, is only able to work correctly with the\n",
    "        variant, Product A2. Nevertheless, it accepts any instance of\n",
    "        AbstractProductA as an argument.\n",
    "        \"\"\"\n",
    "        result = collaborator.useful_function_a()\n",
    "        return f\"The result of the B2 collaborating with the ({result})\"\n"
   ]
  },
  {
   "cell_type": "markdown",
   "metadata": {},
   "source": [
    "## Code client"
   ]
  },
  {
   "cell_type": "markdown",
   "metadata": {},
   "source": [
    "On passe au code client une factory en paramètre et le code est ensuite capable d'utiliser de la même façon les produits via leurs abstractions (quelle que soit la factory)."
   ]
  },
  {
   "cell_type": "code",
   "execution_count": 11,
   "metadata": {},
   "outputs": [],
   "source": [
    "def client_code(factory: AbstractFactory) -> None:\n",
    "    \"\"\"\n",
    "    The client code works with factories and products only through abstract\n",
    "    types: AbstractFactory and AbstractProduct. This lets you pass any factory\n",
    "    or product subclass to the client code without breaking it.\n",
    "    \"\"\"\n",
    "    product_a = factory.create_product_a()\n",
    "    product_b = factory.create_product_b()\n",
    "\n",
    "    print(f\"{product_b.useful_function_b()}\")\n",
    "    print(f\"{product_b.another_useful_function_b(product_a)}\", end=\"\")"
   ]
  },
  {
   "cell_type": "markdown",
   "metadata": {},
   "source": [
    "## Test du code"
   ]
  },
  {
   "cell_type": "code",
   "execution_count": 12,
   "metadata": {},
   "outputs": [
    {
     "name": "stdout",
     "output_type": "stream",
     "text": [
      "Client: Testing client code with the first factory type:\n",
      "The result of the product B1.\n",
      "The result of the B1 collaborating with the (The result of the product A1.)\n",
      "\n",
      "Client: Testing the same client code with the second factory type:\n",
      "The result of the product B2.\n",
      "The result of the B2 collaborating with the (The result of the product A2.)"
     ]
    }
   ],
   "source": [
    "print(\"Client: Testing client code with the first factory type:\")\n",
    "client_code(ConcreteFactory1())\n",
    "\n",
    "print(\"\\n\")\n",
    "\n",
    "print(\"Client: Testing the same client code with the second factory type:\")\n",
    "client_code(ConcreteFactory2())"
   ]
  },
  {
   "cell_type": "markdown",
   "metadata": {},
   "source": [
    "## Code complet"
   ]
  },
  {
   "cell_type": "markdown",
   "metadata": {},
   "source": [
    "```\n",
    "from __future__ import annotations\n",
    "from abc import ABC, abstractmethod\n",
    "\n",
    "\n",
    "class AbstractFactory(ABC):\n",
    "    \"\"\"\n",
    "    The Abstract Factory interface declares a set of methods that return\n",
    "    different abstract products. These products are called a family and are\n",
    "    related by a high-level theme or concept. Products of one family are usually\n",
    "    able to collaborate among themselves. A family of products may have several\n",
    "    variants, but the products of one variant are incompatible with products of\n",
    "    another.\n",
    "    \"\"\"\n",
    "    @abstractmethod\n",
    "    def create_product_a(self) -> AbstractProductA:\n",
    "        pass\n",
    "\n",
    "    @abstractmethod\n",
    "    def create_product_b(self) -> AbstractProductB:\n",
    "        pass\n",
    "\n",
    "\n",
    "class ConcreteFactory1(AbstractFactory):\n",
    "    \"\"\"\n",
    "    Concrete Factories produce a family of products that belong to a single\n",
    "    variant. The factory guarantees that resulting products are compatible. Note\n",
    "    that signatures of the Concrete Factory's methods return an abstract\n",
    "    product, while inside the method a concrete product is instantiated.\n",
    "    \"\"\"\n",
    "\n",
    "    def create_product_a(self) -> ConcreteProductA1:\n",
    "        return ConcreteProductA1()\n",
    "\n",
    "    def create_product_b(self) -> ConcreteProductB1:\n",
    "        return ConcreteProductB1()\n",
    "\n",
    "\n",
    "class ConcreteFactory2(AbstractFactory):\n",
    "    \"\"\"\n",
    "    Each Concrete Factory has a corresponding product variant.\n",
    "    \"\"\"\n",
    "\n",
    "    def create_product_a(self) -> ConcreteProductA2:\n",
    "        return ConcreteProductA2()\n",
    "\n",
    "    def create_product_b(self) -> ConcreteProductB2:\n",
    "        return ConcreteProductB2()\n",
    "\n",
    "\n",
    "class AbstractProductA(ABC):\n",
    "    \"\"\"\n",
    "    Each distinct product of a product family should have a base interface. All\n",
    "    variants of the product must implement this interface.\n",
    "    \"\"\"\n",
    "\n",
    "    @abstractmethod\n",
    "    def useful_function_a(self) -> str:\n",
    "        pass\n",
    "\n",
    "\n",
    "\"\"\"\n",
    "Concrete Products are created by corresponding Concrete Factories.\n",
    "\"\"\"\n",
    "\n",
    "\n",
    "class ConcreteProductA1(AbstractProductA):\n",
    "    def useful_function_a(self) -> str:\n",
    "        return \"The result of the product A1.\"\n",
    "\n",
    "\n",
    "class ConcreteProductA2(AbstractProductA):\n",
    "    def useful_function_a(self) -> str:\n",
    "        return \"The result of the product A2.\"\n",
    "\n",
    "\n",
    "class AbstractProductB(ABC):\n",
    "    \"\"\"\n",
    "    Here's the the base interface of another product. All products can interact\n",
    "    with each other, but proper interaction is possible only between products of\n",
    "    the same concrete variant.\n",
    "    \"\"\"\n",
    "    @abstractmethod\n",
    "    def useful_function_b(self) -> None:\n",
    "        \"\"\"\n",
    "        Product B is able to do its own thing...\n",
    "        \"\"\"\n",
    "        pass\n",
    "\n",
    "    @abstractmethod\n",
    "    def another_useful_function_b(self, collaborator: AbstractProductA) -> None:\n",
    "        \"\"\"\n",
    "        ...but it also can collaborate with the ProductA.\n",
    "\n",
    "        The Abstract Factory makes sure that all products it creates are of the\n",
    "        same variant and thus, compatible.\n",
    "        \"\"\"\n",
    "        pass\n",
    "\n",
    "\n",
    "\"\"\"\n",
    "Concrete Products are created by corresponding Concrete Factories.\n",
    "\"\"\"\n",
    "\n",
    "\n",
    "class ConcreteProductB1(AbstractProductB):\n",
    "    def useful_function_b(self) -> str:\n",
    "        return \"The result of the product B1.\"\n",
    "\n",
    "    \"\"\"\n",
    "    The variant, Product B1, is only able to work correctly with the variant,\n",
    "    Product A1. Nevertheless, it accepts any instance of AbstractProductA as an\n",
    "    argument.\n",
    "    \"\"\"\n",
    "\n",
    "    def another_useful_function_b(self, collaborator: AbstractProductA) -> str:\n",
    "        result = collaborator.useful_function_a()\n",
    "        return f\"The result of the B1 collaborating with the ({result})\"\n",
    "\n",
    "\n",
    "class ConcreteProductB2(AbstractProductB):\n",
    "    def useful_function_b(self) -> str:\n",
    "        return \"The result of the product B2.\"\n",
    "\n",
    "    def another_useful_function_b(self, collaborator: AbstractProductA):\n",
    "        \"\"\"\n",
    "        The variant, Product B2, is only able to work correctly with the\n",
    "        variant, Product A2. Nevertheless, it accepts any instance of\n",
    "        AbstractProductA as an argument.\n",
    "        \"\"\"\n",
    "        result = collaborator.useful_function_a()\n",
    "        return f\"The result of the B2 collaborating with the ({result})\"\n",
    "\n",
    "\n",
    "def client_code(factory: AbstractFactory) -> None:\n",
    "    \"\"\"\n",
    "    The client code works with factories and products only through abstract\n",
    "    types: AbstractFactory and AbstractProduct. This lets you pass any factory\n",
    "    or product subclass to the client code without breaking it.\n",
    "    \"\"\"\n",
    "    product_a = factory.create_product_a()\n",
    "    product_b = factory.create_product_b()\n",
    "\n",
    "    print(f\"{product_b.useful_function_b()}\")\n",
    "    print(f\"{product_b.another_useful_function_b(product_a)}\", end=\"\")\n",
    "\n",
    "\n",
    "if __name__ == \"__main__\":\n",
    "    \"\"\"\n",
    "    The client code can work with any concrete factory class.\n",
    "    \"\"\"\n",
    "    print(\"Client: Testing client code with the first factory type:\")\n",
    "    client_code(ConcreteFactory1())\n",
    "\n",
    "    print(\"\\n\")\n",
    "\n",
    "    print(\"Client: Testing the same client code with the second factory type:\")\n",
    "    client_code(ConcreteFactory2())```"
   ]
  }
 ],
 "metadata": {
  "kernelspec": {
   "display_name": "Python 3",
   "language": "python",
   "name": "python3"
  },
  "language_info": {
   "codemirror_mode": {
    "name": "ipython",
    "version": 3
   },
   "file_extension": ".py",
   "mimetype": "text/x-python",
   "name": "python",
   "nbconvert_exporter": "python",
   "pygments_lexer": "ipython3",
   "version": "3.7.6"
  }
 },
 "nbformat": 4,
 "nbformat_minor": 2
}
