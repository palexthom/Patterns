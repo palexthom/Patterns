{
 "cells": [
  {
   "cell_type": "markdown",
   "metadata": {},
   "source": [
    "# Exemple Iterator Pattern : Restaurant Menus"
   ]
  },
  {
   "cell_type": "markdown",
   "metadata": {},
   "source": [
    "Exemple repris depuis HeadFirst Design Pattern (en JAVA) : deux restaurant se réunissent pour n'en faire qu'un. L'un a implémenté un menu en ArrayMist et le second en Array.  \n",
    "La serveuse doit être capable de donner au client tous les items de la carte, seulement ceux du petit dès ou du déjeuner, ou seulement les options végé. Comment faire puisque les implémentations des restaurants sont différentes ? "
   ]
  },
  {
   "cell_type": "markdown",
   "metadata": {},
   "source": [
    "__Le but est que la serveuse puiss itérer dans les menus sans être dépendante de la façon dont les menus sont implémentés.__"
   ]
  },
  {
   "cell_type": "markdown",
   "metadata": {},
   "source": [
    "# Menus et Serveuse 1.0"
   ]
  },
  {
   "cell_type": "markdown",
   "metadata": {},
   "source": [
    "Les MenuItem sont identiques dans les deux restaurants."
   ]
  },
  {
   "cell_type": "markdown",
   "metadata": {},
   "source": [
    "## MenuItem"
   ]
  },
  {
   "cell_type": "code",
   "execution_count": 9,
   "metadata": {},
   "outputs": [],
   "source": [
    "class MenuItem:\n",
    "\n",
    "    name: str\n",
    "    description: str\n",
    "    vegetarian: bool\n",
    "    price: float\n",
    "\n",
    "    def __init__(self, name: str, description: str, vegetarian: bool, price: float):\n",
    "        self.name = name\n",
    "        self.description = description\n",
    "        self.vegetarian = vegetarian\n",
    "        self.price = float"
   ]
  },
  {
   "cell_type": "markdown",
   "metadata": {},
   "source": [
    "## Définition des menus "
   ]
  },
  {
   "cell_type": "code",
   "execution_count": null,
   "metadata": {},
   "outputs": [],
   "source": [
    "class PancakeHouseMenu:\n",
    "    \n",
    "    def __init__(self) -> None:\n",
    "        self.menuItems=[]\n",
    "        self.addItem(\"K&B's Pancake Breakfast\", \"Pancakes with scrambled eggs, and toast\", True, 2.99)\n",
    "        self.addItem(\"Regular Pancake Breakfast\", \"Pancakes with fried eggs, sausage\", False, 2.99)\n",
    "        self.addItem(\"Blueberry Pancake\", \"Pancakes made with fresh blueberries\", True, 3.49)\n",
    "        self.addItem(\"Waffles\", \"Waffles, with your choice of blueberries or strawberries\", True, 3.59)\n",
    "        \n",
    "    def addItem(self, name:str, description:str, vegetarian:bool, price:float) -> None:\n",
    "        self.menuItem = MenuItem(name, description, vegetarian, price)\n",
    "        self.menuItems.append(self.menuItem)\n",
    "        \n",
    "    def getMenuItems(self):\n",
    "        return self.menuItems"
   ]
  },
  {
   "cell_type": "code",
   "execution_count": null,
   "metadata": {},
   "outputs": [],
   "source": [
    "class DinerMenu:\n",
    "    MAX_ITEMS: int = 6\n",
    "    numberOfItems: int = 0\n",
    "    \n",
    "    def __init__(self):\n",
    "        self.menuItems=[None]*self.MAX_ITEMS\n",
    "        self.addItem(\"Vegetarian BLT\",\"(Fakin') Bacon with Lettuce & tomato on whole wheat\", True, 2.99)\n",
    "        self.addItem(\"BLT\",\"Bacon with Lettuce & tomato on whole wheat\", False, 2.99)\n",
    "        self.addItem(\"Soup of the day\",\"Soup of the day with a side of potato salad\", False, 3.29)\n",
    "        self.addItem(\"Hotdog\",\"Soup of the day with a side of potato salad\", False, 3.29)\n",
    "        \n",
    "    def addItem(self, name:str, description:str, vegetarian:bool, price:float) -> None:\n",
    "        self.menuItem = MenuItem(name, description, vegetarian, price)\n",
    "        if self.numberOfItems >= self.MAX_ITEMS:\n",
    "            print(\"Sorry, menu is full! Can't add item to menu.\")\n",
    "        else:\n",
    "            self.menuItems[self.numberOfItems] = self.menuItem;\n",
    "            self.numberOfItems += 1\n",
    "        \n",
    "    def getMenuItems(self):\n",
    "        return self.menuItems\n",
    "    "
   ]
  },
  {
   "cell_type": "markdown",
   "metadata": {},
   "source": [
    "Tests des méthodes"
   ]
  },
  {
   "cell_type": "code",
   "execution_count": null,
   "metadata": {},
   "outputs": [],
   "source": [
    "pHM = PancakeHouseMenu()\n",
    "petitDej = pHM.getMenuItems()\n",
    "for item in petitDej:\n",
    "    print(item.name)"
   ]
  },
  {
   "cell_type": "code",
   "execution_count": null,
   "metadata": {},
   "outputs": [],
   "source": [
    "dM = DinerMenu()\n",
    "lunch = dM.getMenuItems()\n",
    "for item in lunch:\n",
    "    try:\n",
    "        print(item.name)\n",
    "    except:\n",
    "        pass"
   ]
  },
  {
   "cell_type": "markdown",
   "metadata": {},
   "source": [
    "## Serveuse"
   ]
  },
  {
   "cell_type": "markdown",
   "metadata": {},
   "source": [
    "La serveuse (Alice) doit savoir imprimer les menus suivants : \n",
    "* printMenu() : tous les items\n",
    "* printBreakfastMenu : seulement le petit dèj\n",
    "* printLunchMenu : prints just lunch items\n",
    "* printVegetarianMenu : prints all vegetarian menu items\n",
    "* isItemVegetarian(name) : sait dire si l'item passé en paramètre est végé ou non"
   ]
  },
  {
   "cell_type": "code",
   "execution_count": null,
   "metadata": {},
   "outputs": [],
   "source": [
    "class Waitress:\n",
    "    pHM = PancakeHouseMenu()\n",
    "    breakfastItems = pHM.getMenuItems()\n",
    "    dM = DinerMenu()\n",
    "    lunchItems = dM.getMenuItems()\n",
    "    \n",
    "    def printMenu(self):\n",
    "        for menuItem in self.breakfastItems:\n",
    "            try:\n",
    "                print(menuItem.name)\n",
    "            except:\n",
    "                pass\n",
    "        for menuItem in self.lunchItems:\n",
    "            try:\n",
    "                print(menuItem.name)\n",
    "            except:\n",
    "                pass\n",
    "            \n",
    "    def printBreakfastMenu(self):\n",
    "        for menuItem in self.breakfastItems:\n",
    "            try:\n",
    "                print(menuItem.name)\n",
    "            except:\n",
    "                pass\n",
    "            \n",
    "    def printVegetarianMenu(self):\n",
    "        for menuItem in self.breakfastItems:\n",
    "            try:\n",
    "                if menuItem.vegetarian :print(menuItem.name)\n",
    "            except:\n",
    "                pass\n",
    "            \n",
    "        for menuItem in self.lunchItems:\n",
    "            try:\n",
    "                if menuItem.vegetarian: print(menuItem.name)\n",
    "            except:\n",
    "                pass"
   ]
  },
  {
   "cell_type": "code",
   "execution_count": null,
   "metadata": {},
   "outputs": [],
   "source": [
    "Alice = Waitress()\n",
    "Alice.printMenu()"
   ]
  },
  {
   "cell_type": "code",
   "execution_count": null,
   "metadata": {},
   "outputs": [],
   "source": [
    "Alice.printBreakfastMenu()"
   ]
  },
  {
   "cell_type": "code",
   "execution_count": null,
   "metadata": {},
   "outputs": [],
   "source": [
    "Alice.printVegetarianMenu()"
   ]
  },
  {
   "cell_type": "markdown",
   "metadata": {},
   "source": [
    "# Menus et serveuse 2.0"
   ]
  },
  {
   "cell_type": "markdown",
   "metadata": {},
   "source": [
    "Maintenant on veut une nouvelle Waitress qui ne repose pas autant sur les implémentations des menus de chacun des restaurants.  Pour cela on va créer des itérateurs pour chacun des menus, et on va modifier la serveuse pour qu'elle soit capable d'utiliser ces itérateurs."
   ]
  },
  {
   "cell_type": "markdown",
   "metadata": {},
   "source": [
    "## Iterator\n",
    "On utilise l'interface iterator de Python, que les menus vont implémenter. Cette classe dispose de :\n",
    "\n",
    "* 2 attributs :  \n",
    "    * ___position__ : entier représentant la position actuelle de l'item (HAP : utile dans notre cas ?!)\n",
    "    * ___reverse__ : booleen indiquant le sens de parcours de la collection\n",
    "    \n",
    "    \n",
    "* 2 méthodes :\n",
    "    * __\\_\\_init\\_\\___ : set la collection dans laquelle itérer, le sens et l'incrément d'itération.\n",
    "    * __\\_\\_next\\_\\___ : méthode renvoyant l'item suivant d'une séquence ou lève une erreur si fin de la séquence"
   ]
  },
  {
   "cell_type": "code",
   "execution_count": 5,
   "metadata": {},
   "outputs": [],
   "source": [
    "from __future__ import annotations\n",
    "from collections.abc import Iterable, Iterator"
   ]
  },
  {
   "cell_type": "code",
   "execution_count": 6,
   "metadata": {},
   "outputs": [],
   "source": [
    "class DinerMenuIterator(Iterator):\n",
    "    _position: int = None\n",
    "    _reverse: bool = False\n",
    "        \n",
    "    def __init__(self, collection:[], reverse: bool = False) -> None:\n",
    "        self._collection = collection\n",
    "        self._reverse = reverse\n",
    "        self._position = -1 if reverse else 0\n",
    "\n",
    "    def __next__(self):\n",
    "        try:\n",
    "            value = self._collection[self._position]\n",
    "            self._position += -1 if self._reverse else 1\n",
    "        except IndexError:\n",
    "            raise StopIteration()\n",
    "            \n",
    "        return value"
   ]
  },
  {
   "cell_type": "code",
   "execution_count": 35,
   "metadata": {},
   "outputs": [],
   "source": [
    "class PancackeHouseMenuIterator(Iterator):\n",
    "    _position: int = None\n",
    "    _reverse: bool = False\n",
    "        \n",
    "    def __init__(self, collection:[], reverse: bool = False) -> None:\n",
    "        self._collection = collection\n",
    "        self._reverse = reverse\n",
    "        self._position = -1 if reverse else 0\n",
    "\n",
    "    def __next__(self):\n",
    "        for value in self._collection:\n",
    "            elf._position += -1 if self._reverse else 1\n",
    "            return value"
   ]
  },
  {
   "cell_type": "code",
   "execution_count": 7,
   "metadata": {},
   "outputs": [],
   "source": [
    "class DinerMenu():\n",
    "    MAX_ITEMS: int = 6\n",
    "    numberOfItems: int = 0\n",
    "    \n",
    "    def __init__(self):\n",
    "        self.menuItems=[None]*self.MAX_ITEMS\n",
    "        self.addItem(\"Vegetarian BLT\",\"(Fakin') Bacon with Lettuce & tomato on whole wheat\", True, 2.99)\n",
    "        self.addItem(\"BLT\",\"Bacon with Lettuce & tomato on whole wheat\", False, 2.99)\n",
    "        self.addItem(\"Soup of the day\",\"Soup of the day with a side of potato salad\", False, 3.29)\n",
    "        self.addItem(\"Hotdog\",\"Soup of the day with a side of potato salad\", False, 3.29)\n",
    "        \n",
    "    def addItem(self, name:str, description:str, vegetarian:bool, price:float) -> None:\n",
    "        self.menuItem = MenuItem(name, description, vegetarian, price)\n",
    "        if self.numberOfItems >= self.MAX_ITEMS:\n",
    "            print(\"Sorry, menu is full! Can't add item to menu.\")\n",
    "        else:\n",
    "            self.menuItems[self.numberOfItems] = self.menuItem;\n",
    "            self.numberOfItems += 1\n",
    "        \n",
    "    def createIterator(self):\n",
    "        return DinerMenuIterator(self.menuItems)"
   ]
  },
  {
   "cell_type": "code",
   "execution_count": null,
   "metadata": {},
   "outputs": [],
   "source": [
    "class PancakeHouseMenu:\n",
    "    \n",
    "    def __init__(self) -> None:\n",
    "        self.menuItems=[]\n",
    "        self.addItem(\"K&B's Pancake Breakfast\", \"Pancakes with scrambled eggs, and toast\", True, 2.99)\n",
    "        self.addItem(\"Regular Pancake Breakfast\", \"Pancakes with fried eggs, sausage\", False, 2.99)\n",
    "        self.addItem(\"Blueberry Pancake\", \"Pancakes made with fresh blueberries\", True, 3.49)\n",
    "        self.addItem(\"Waffles\", \"Waffles, with your choice of blueberries or strawberries\", True, 3.59)\n",
    "        \n",
    "    def addItem(self, name:str, description:str, vegetarian:bool, price:float) -> None:\n",
    "        self.menuItem = MenuItem(name, description, vegetarian, price)\n",
    "        self.menuItems.append(self.menuItem)\n",
    "        \n",
    "    def getMenuItems(self):\n",
    "        return self.menuItems"
   ]
  },
  {
   "cell_type": "code",
   "execution_count": 31,
   "metadata": {},
   "outputs": [],
   "source": [
    "class Waitress2:\n",
    "    #pHM = PancakeHouseMenu()\n",
    "    dM = DinerMenu()\n",
    "    bM\n",
    "    \n",
    "    def printMenu(self):\n",
    "        dinerIterator = self.dM.createIterator()\n",
    "        print(\"Impression du menu du diner via iterateur :\")\n",
    "        self.printingMenu(dinerIterator)\n",
    "        \n",
    "    def printBreakfastMenu(self):\n",
    "        \n",
    "    def printVegetarianMenu(self):\n",
    "    \n",
    "    def printingMenu(self, iterator:DinerMenuIterator):\n",
    "        for menuItem in iterator:\n",
    "            try:\n",
    "                print(menuItem.name)\n",
    "            except:\n",
    "                pass"
   ]
  },
  {
   "cell_type": "code",
   "execution_count": 32,
   "metadata": {},
   "outputs": [],
   "source": [
    "Mary = Waitress2()"
   ]
  },
  {
   "cell_type": "code",
   "execution_count": 33,
   "metadata": {},
   "outputs": [
    {
     "name": "stdout",
     "output_type": "stream",
     "text": [
      "Impression du menu du diner via iterateur :\n",
      "Vegetarian BLT\n",
      "BLT\n",
      "Soup of the day\n",
      "Hotdog\n"
     ]
    }
   ],
   "source": [
    "Mary.printMenu()"
   ]
  },
  {
   "cell_type": "code",
   "execution_count": null,
   "metadata": {},
   "outputs": [],
   "source": []
  },
  {
   "cell_type": "code",
   "execution_count": null,
   "metadata": {},
   "outputs": [],
   "source": [
    "class AlphabeticalOrderIterator(Iterator):\n",
    "\n",
    "    _position: int = None\n",
    "    _reverse: bool = False\n",
    "\n",
    "    def __init__(self, collection: WordsCollection, reverse: bool = False) -> None:\n",
    "        self._collection = collection\n",
    "        self._reverse = reverse\n",
    "        self._position = -1 if reverse else 0\n",
    "\n",
    "    def __next__(self):\n",
    "        try:\n",
    "            value = self._collection[self._position]\n",
    "            self._position += -1 if self._reverse else 1\n",
    "        except IndexError:\n",
    "            raise StopIteration()\n",
    "\n",
    "        return value"
   ]
  },
  {
   "cell_type": "code",
   "execution_count": null,
   "metadata": {},
   "outputs": [],
   "source": [
    "class DinerMenu(Iterator):\n",
    "    MAX_ITEMS: int = 6\n",
    "    numberOfItems: int = 0\n",
    "    \n",
    "    def __init__(self):\n",
    "        self.menuItems=[None]*self.MAX_ITEMS\n",
    "        self.addItem(\"Vegetarian BLT\",\"(Fakin') Bacon with Lettuce & tomato on whole wheat\", True, 2.99)\n",
    "        self.addItem(\"BLT\",\"Bacon with Lettuce & tomato on whole wheat\", False, 2.99)\n",
    "        self.addItem(\"Soup of the day\",\"Soup of the day with a side of potato salad\", False, 3.29)\n",
    "        self.addItem(\"Hotdog\",\"Soup of the day with a side of potato salad\", False, 3.29)\n",
    "        \n",
    "    def addItem(self, name:str, description:str, vegetarian:bool, price:float) -> None:\n",
    "        self.menuItem = MenuItem(name, description, vegetarian, price)\n",
    "        if self.numberOfItems >= self.MAX_ITEMS:\n",
    "            print(\"Sorry, menu is full! Can't add item to menu.\")\n",
    "        else:\n",
    "            self.menuItems[self.numberOfItems] = self.menuItem;\n",
    "            self.numberOfItems += 1\n",
    "        \n",
    "    def getMenuItems(self):\n",
    "        return self.menuItems\n",
    "    "
   ]
  },
  {
   "cell_type": "code",
   "execution_count": null,
   "metadata": {},
   "outputs": [],
   "source": []
  },
  {
   "cell_type": "markdown",
   "metadata": {},
   "source": [
    "## Structure du Pattern"
   ]
  },
  {
   "cell_type": "markdown",
   "metadata": {},
   "source": [
    "![Image structure du Pattern Iterator](Images/IteratorPattern.PNG)"
   ]
  },
  {
   "cell_type": "markdown",
   "metadata": {},
   "source": [
    "## Diagramme de classe de l'exemple"
   ]
  },
  {
   "cell_type": "markdown",
   "metadata": {},
   "source": [
    "Ici dans notre exemple les classes abstraites Iterator et Iterable que l'on implémente sont déjà définies en Python et les classes codées ici sont les classes concrètes.  \n",
    "On passe en paramètre à l'itérateur une collection de mots, que l'on va ensuite parcourir dans un sens ou dans l'autre."
   ]
  },
  {
   "cell_type": "markdown",
   "metadata": {},
   "source": [
    "![Diagramme de classe de Iterator Pattern](Images/IteratorPatternClass.PNG)"
   ]
  },
  {
   "cell_type": "markdown",
   "metadata": {},
   "source": [
    "## Code"
   ]
  },
  {
   "cell_type": "code",
   "execution_count": null,
   "metadata": {},
   "outputs": [],
   "source": [
    "from __future__ import annotations\n",
    "from collections.abc import Iterable, Iterator\n",
    "from typing import Any, List"
   ]
  },
  {
   "cell_type": "markdown",
   "metadata": {},
   "source": [
    "### Classe Iterator en ordre alphabétique"
   ]
  },
  {
   "cell_type": "markdown",
   "metadata": {},
   "source": [
    "Classe iterator dispose de 2 attributs : \n",
    "* __\\_position__ : entier représentant la position actuelle de l'item\n",
    "* __\\_reverse__ : booleen indiquant le sens de parcours de la collection\n",
    "\n",
    "Classe iterator implémente les méthodes :\n",
    "* __\\_\\_init\\_\\___ : set la collection dans laquelle itérer, le sens et l'incrément d'itération.\n",
    "* __\\_\\_next\\_\\___ : méthode renvoyant l'item suivant d'une séquence ou lève une erreur si fin de la séquence"
   ]
  },
  {
   "cell_type": "markdown",
   "metadata": {},
   "source": [
    "### Classe WordsCollection"
   ]
  },
  {
   "cell_type": "markdown",
   "metadata": {},
   "source": [
    "La collection implémente l'interface Iterable. Elle dispose des méthodes suivantes :  \n",
    "* __\\_\\_init\\_\\___ : attribue à \\_collection la liste passée en paramètres \n",
    "* __\\_\\_iter\\_\\___ : méthode qui renvoie la collection dans laquelle iterer. Il s'agit d'une instance de AlphabeticalOrderIterator : crée cette instance, en passant en paramètre sa collection de mots.\n",
    "* __get_reverse_iterator__ : similaire à __\\_\\_iter_\\_\\___ sauf que création d'une instance de AlphabeticalOrderIterator en lui passant en paramètre la collection de mots en ordre inverse.\n",
    "* __add_item__ : permet d'ajouter un élément à la collection."
   ]
  },
  {
   "cell_type": "code",
   "execution_count": null,
   "metadata": {},
   "outputs": [],
   "source": [
    "class WordsCollection(Iterable):\n",
    "\n",
    "    def __init__(self, collection: List[Any] = []) -> None:\n",
    "        self._collection = collection\n",
    "\n",
    "    def __iter__(self) -> AlphabeticalOrderIterator:\n",
    "        return AlphabeticalOrderIterator(self._collection)\n",
    "\n",
    "    def get_reverse_iterator(self) -> AlphabeticalOrderIterator:\n",
    "        return AlphabeticalOrderIterator(self._collection, True)\n",
    "\n",
    "    def add_item(self, item: Any):\n",
    "        self._collection.append(item)"
   ]
  },
  {
   "cell_type": "markdown",
   "metadata": {},
   "source": [
    "## Code Test"
   ]
  },
  {
   "cell_type": "markdown",
   "metadata": {},
   "source": [
    "Pour tester notre itérator, on crée une instance de WordCollection() à laquelle on ajoute des mots.  \n",
    "Puisqu'elle implémente iterator, et donc __\\_\\_iter\\_\\___, WordCollection est \"itérable\".\n",
    "\n",
    "La méthode _join()_ prend tous les items d'un iterable et les joint dans une chaîne unique avec la syntaxe suivante : \n",
    "separateur.join(iterable).\n",
    "\n",
    "Par exemple : \n",
    "```python\n",
    "liste = [\"Un\", \"Deux\", \"Trois\"]\n",
    "separateur = \" espace \"\n",
    "separateur.join(liste)\n",
    "```\n",
    "\n",
    "A pour résultat : \n",
    "```python\n",
    "'Un espace Deux espace Trois'\n",
    "```\n",
    "\n",
    "Dans l'exemple repris depuis RefactoringGuru, le séparateur est un saut de ligne."
   ]
  },
  {
   "cell_type": "code",
   "execution_count": null,
   "metadata": {
    "scrolled": true
   },
   "outputs": [],
   "source": [
    "collection = WordsCollection()\n",
    "collection.add_item(\"First\")\n",
    "collection.add_item(\"Second\")\n",
    "collection.add_item(\"Third\")\n",
    "\n",
    "print(\"Straight traversal:\")\n",
    "print(\"\\n\".join(collection))\n",
    "print(\"\")\n",
    "\n",
    "print(\"Reverse traversal:\")\n",
    "print(\"\\n\".join(collection.get_reverse_iterator()), end=\"\")"
   ]
  }
 ],
 "metadata": {
  "kernelspec": {
   "display_name": "Python 3",
   "language": "python",
   "name": "python3"
  },
  "language_info": {
   "codemirror_mode": {
    "name": "ipython",
    "version": 3
   },
   "file_extension": ".py",
   "mimetype": "text/x-python",
   "name": "python",
   "nbconvert_exporter": "python",
   "pygments_lexer": "ipython3",
   "version": "3.7.1"
  }
 },
 "nbformat": 4,
 "nbformat_minor": 2
}
