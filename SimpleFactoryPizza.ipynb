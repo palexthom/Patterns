{
 "cells": [
  {
   "cell_type": "markdown",
   "metadata": {},
   "source": [
    "# Simple Factory : Exemple des Pizzas"
   ]
  },
  {
   "cell_type": "markdown",
   "metadata": {},
   "source": [
    "Exemple Head First Design Pattern de la délégation à une factory la creation d'objets."
   ]
  },
  {
   "cell_type": "code",
   "execution_count": 1,
   "metadata": {},
   "outputs": [],
   "source": [
    "# Import de annotation des méthodes abstraites\n",
    "from __future__ import annotations\n",
    "from abc import ABC, abstractmethod"
   ]
  },
  {
   "cell_type": "markdown",
   "metadata": {},
   "source": [
    "### Définition de la classe pizza et de quelques exemples de Pizza"
   ]
  },
  {
   "cell_type": "code",
   "execution_count": 2,
   "metadata": {},
   "outputs": [],
   "source": [
    "class Pizza(ABC):\n",
    "\n",
    "    name:str = None\n",
    "    \n",
    "    def prepare(self) -> str:\n",
    "        print (f\"Classe Pizza : Prépare une pizza {self.name}.\")\n",
    "        print(\"Classe Pizza : Tossing dough...\")\n",
    "        print(\"Classe Pizza : Adding sauce...\")\n",
    "        print(\"Classe Pizza : Adding toppings...\")\n",
    "        \n",
    "    def bake(self) -> str:\n",
    "        print (\"Classe Pizza : Cuisson de la pizza\")\n",
    "    \n",
    "    def cut(self) -> str:\n",
    "        print (\"Classe Pizza : Découpe de la pizza\")\n",
    "    \n",
    "    def box(self) -> str:\n",
    "        print (\"Classe Pizza : Emballage de la pizza\")\n",
    "    \n",
    "    def getName(self) -> str:\n",
    "        return self.name\n",
    "    \n"
   ]
  },
  {
   "cell_type": "code",
   "execution_count": 3,
   "metadata": {},
   "outputs": [],
   "source": [
    "class CheesePizza(Pizza):\n",
    "    name = \"Cheese\""
   ]
  },
  {
   "cell_type": "code",
   "execution_count": 4,
   "metadata": {},
   "outputs": [],
   "source": [
    "class ClamPizza(Pizza):\n",
    "    name = \"Clam\""
   ]
  },
  {
   "cell_type": "code",
   "execution_count": 5,
   "metadata": {},
   "outputs": [],
   "source": [
    "class PepperoniPizza(Pizza):\n",
    "    name = \"Pepperoni\""
   ]
  },
  {
   "cell_type": "code",
   "execution_count": 6,
   "metadata": {},
   "outputs": [],
   "source": [
    "class VeggiePizza(Pizza):\n",
    "    name = \"Veggie\""
   ]
  },
  {
   "cell_type": "markdown",
   "metadata": {},
   "source": [
    "### Définition de la Factory"
   ]
  },
  {
   "cell_type": "code",
   "execution_count": 7,
   "metadata": {},
   "outputs": [],
   "source": [
    "class SimplePizzaFactory(ABC):\n",
    "    \n",
    "    Pizza:pizza = None\n",
    "    \n",
    "    def createPizza(self,typePizza: str) -> Pizza:\n",
    "        print(f\"Factory : c'est moi qui crée la pizza.\")\n",
    "        if typePizza == \"cheese\" :\n",
    "            pizza = CheesePizza()\n",
    "        elif typePizza == 'pepperoni' :\n",
    "            pizza = PepperoniPizza()\n",
    "        elif typePizza == 'clam' :\n",
    "            pizza = ClamPizza()\n",
    "        elif typePizza == 'veggie' :\n",
    "            pizza = VeggiePizza()\n",
    "        \n",
    "        return pizza"
   ]
  },
  {
   "cell_type": "markdown",
   "metadata": {},
   "source": [
    "### Définition de la classe cliente"
   ]
  },
  {
   "cell_type": "code",
   "execution_count": 16,
   "metadata": {},
   "outputs": [],
   "source": [
    "class PizzaStore(ABC):\n",
    "    \n",
    "    simpleFactory: SimplePizzaFactory = None\n",
    "    \n",
    "    def __init__ (self, factory:SimplePizzaFactory) -> None:\n",
    "            self.simpleFactory = factory\n",
    "    \n",
    "    def orderPizza(self,typePizza:str) :\n",
    "        print(f\"PizzaStore : on m'a commandé une pizza {typePizza}.\")\n",
    "        print(f\"PizzaStore : je ne sais pas créer de pizza, je délègue!\")\n",
    "        pizza = self.simpleFactory.createPizza(typePizza)\n",
    "        print(f\"PizzaStore : quelque soit la pizza, je sais la manipuler en faisant appel à ses méthodes.\")\n",
    "        pizza.prepare()\n",
    "        pizza.bake()\n",
    "        pizza.cut()\n",
    "        pizza.box()\n",
    "        return pizza\n",
    "    \n",
    "    "
   ]
  },
  {
   "cell_type": "markdown",
   "metadata": {},
   "source": [
    "### Code Test"
   ]
  },
  {
   "cell_type": "code",
   "execution_count": 17,
   "metadata": {},
   "outputs": [],
   "source": [
    "magasin = PizzaStore(SimplePizzaFactory())"
   ]
  },
  {
   "cell_type": "code",
   "execution_count": 18,
   "metadata": {},
   "outputs": [
    {
     "name": "stdout",
     "output_type": "stream",
     "text": [
      "PizzaStore : on m'a commandé une pizza cheese.\n",
      "PizzaStore : je ne sais pas créer de pizza, je délègue!\n",
      "Factory : c'est moi qui crée la pizza.\n",
      "PizzaStore : quelque soit la pizza, je sais la manipuler en faisant appel à ses méthodes.\n",
      "Classe Pizza : Prépare une pizza Cheese.\n",
      "Classe Pizza : Tossing dough...\n",
      "Classe Pizza : Adding sauce...\n",
      "Classe Pizza : Adding toppings...\n",
      "Objet Pizza : Cuisson de la pizza\n",
      "Objet Pizza : Découpe de la pizza\n",
      "Objet Pizza : Emballage de la pizza\n"
     ]
    },
    {
     "data": {
      "text/plain": [
       "<__main__.CheesePizza at 0x24b5819ce48>"
      ]
     },
     "execution_count": 18,
     "metadata": {},
     "output_type": "execute_result"
    }
   ],
   "source": [
    "magasin.orderPizza('cheese')"
   ]
  },
  {
   "cell_type": "code",
   "execution_count": 19,
   "metadata": {},
   "outputs": [
    {
     "name": "stdout",
     "output_type": "stream",
     "text": [
      "PizzaStore : on m'a commandé une pizza clam.\n",
      "PizzaStore : je ne sais pas créer de pizza, je délègue!\n",
      "Factory : c'est moi qui crée la pizza.\n",
      "PizzaStore : quelque soit la pizza, je sais la manipuler en faisant appel à ses méthodes.\n",
      "Classe Pizza : Prépare une pizza Clam.\n",
      "Classe Pizza : Tossing dough...\n",
      "Classe Pizza : Adding sauce...\n",
      "Classe Pizza : Adding toppings...\n",
      "Objet Pizza : Cuisson de la pizza\n",
      "Objet Pizza : Découpe de la pizza\n",
      "Objet Pizza : Emballage de la pizza\n"
     ]
    },
    {
     "data": {
      "text/plain": [
       "<__main__.ClamPizza at 0x24b58192fc8>"
      ]
     },
     "execution_count": 19,
     "metadata": {},
     "output_type": "execute_result"
    }
   ],
   "source": [
    "magasin.orderPizza('clam')"
   ]
  }
 ],
 "metadata": {
  "kernelspec": {
   "display_name": "Python 3",
   "language": "python",
   "name": "python3"
  },
  "language_info": {
   "codemirror_mode": {
    "name": "ipython",
    "version": 3
   },
   "file_extension": ".py",
   "mimetype": "text/x-python",
   "name": "python",
   "nbconvert_exporter": "python",
   "pygments_lexer": "ipython3",
   "version": "3.7.6"
  }
 },
 "nbformat": 4,
 "nbformat_minor": 4
}
