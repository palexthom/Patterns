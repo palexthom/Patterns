{
 "cells": [
  {
   "cell_type": "markdown",
   "metadata": {},
   "source": [
    "# Abstract Factory Pizza HFDP"
   ]
  },
  {
   "cell_type": "markdown",
   "metadata": {},
   "source": [
    "Mise en place l'exemple d'Abstract Factory proposé dans HFDP (proche de implémentation en Java du le livre)."
   ]
  },
  {
   "cell_type": "markdown",
   "metadata": {},
   "source": [
    "### Structure du projet :  \n",
    "* On a des interfaces pour les différents ingrédients : __*Dough*__, __*Sauce*__, __*Cheese*__, __*Clams*__\n",
    "* Une factory crée une \"famille\" d'objets (ici des ingrédients). L'interface __*PizzaIngredientFactory*__ définit les méthodes abstraites qui créent ces ingrédients.\n",
    "* Les deux factories __NYPizzaIngredientFactory__ et __ChicagoPizzaIngredientFactory__ implémentent l'interface donc vont définir comment sont fabriqués chacun des produits."
   ]
  },
  {
   "cell_type": "markdown",
   "metadata": {},
   "source": [
    "![Diagramme de classe PizzaStore](Images/AbstractFactoryPizza.PNG)"
   ]
  },
  {
   "cell_type": "code",
   "execution_count": 1,
   "metadata": {},
   "outputs": [],
   "source": [
    "# Import de annotation des méthodes abstraites\n",
    "from __future__ import annotations\n",
    "from abc import ABC, abstractmethod"
   ]
  },
  {
   "cell_type": "markdown",
   "metadata": {},
   "source": [
    "## Ingrédients"
   ]
  },
  {
   "cell_type": "markdown",
   "metadata": {},
   "source": [
    "### Interfaces Ingrédients"
   ]
  },
  {
   "cell_type": "code",
   "execution_count": 2,
   "metadata": {},
   "outputs": [],
   "source": [
    "class Dough(ABC):\n",
    "    pass"
   ]
  },
  {
   "cell_type": "code",
   "execution_count": 3,
   "metadata": {},
   "outputs": [],
   "source": [
    "class Sauce(ABC):\n",
    "    pass"
   ]
  },
  {
   "cell_type": "code",
   "execution_count": 4,
   "metadata": {},
   "outputs": [],
   "source": [
    "class Clams(ABC):\n",
    "    pass"
   ]
  },
  {
   "cell_type": "code",
   "execution_count": 5,
   "metadata": {},
   "outputs": [],
   "source": [
    "class Cheese(ABC):\n",
    "    pass"
   ]
  },
  {
   "cell_type": "markdown",
   "metadata": {},
   "source": [
    "### Ingrédients concrets"
   ]
  },
  {
   "cell_type": "code",
   "execution_count": 6,
   "metadata": {},
   "outputs": [],
   "source": [
    "class ThinCrustDough(Dough):\n",
    "    \n",
    "    def __str__(self):\n",
    "        return \"ThinCrustDough\""
   ]
  },
  {
   "cell_type": "code",
   "execution_count": 7,
   "metadata": {},
   "outputs": [],
   "source": [
    "class ThickCrustDough(Dough):\n",
    "    def __str__(self):\n",
    "        return \"ThickCrustDough\""
   ]
  },
  {
   "cell_type": "code",
   "execution_count": 8,
   "metadata": {},
   "outputs": [],
   "source": [
    "class MarinaraSauce(Sauce):\n",
    "    def __str__(self):\n",
    "        return \"MarinaraSauce\""
   ]
  },
  {
   "cell_type": "code",
   "execution_count": 9,
   "metadata": {},
   "outputs": [],
   "source": [
    "class PlumTomatoSauce(Sauce):\n",
    "    def __str__(self):\n",
    "        return \"PlumTomatoSauce\""
   ]
  },
  {
   "cell_type": "code",
   "execution_count": 10,
   "metadata": {},
   "outputs": [],
   "source": [
    "class FreshClams(Clams):\n",
    "    def __str__(self):\n",
    "        return \"FreshClams\""
   ]
  },
  {
   "cell_type": "code",
   "execution_count": 11,
   "metadata": {},
   "outputs": [],
   "source": [
    "class FrozenClams(Clams):\n",
    "    def __str__(self):\n",
    "        return \"FrozenClams\""
   ]
  },
  {
   "cell_type": "code",
   "execution_count": 12,
   "metadata": {},
   "outputs": [],
   "source": [
    "class RegianoCheese(Cheese):\n",
    "    def __str__(self):\n",
    "        return \"RegianoCheese\""
   ]
  },
  {
   "cell_type": "code",
   "execution_count": 13,
   "metadata": {},
   "outputs": [],
   "source": [
    "class MozzarellaCheese(Cheese):\n",
    "    def __str__(self):\n",
    "        return \"MozarellaCheese\""
   ]
  },
  {
   "cell_type": "markdown",
   "metadata": {},
   "source": [
    "## Ingredient Factories"
   ]
  },
  {
   "cell_type": "markdown",
   "metadata": {},
   "source": [
    "### Abstract Factory"
   ]
  },
  {
   "cell_type": "code",
   "execution_count": 14,
   "metadata": {},
   "outputs": [],
   "source": [
    "class PizzaIngredientFactory(ABC):\n",
    "    \n",
    "    @abstractmethod\n",
    "    def createDough(self):\n",
    "        pass\n",
    "    \n",
    "    @abstractmethod\n",
    "    def createSauce(self):\n",
    "        pass\n",
    "    \n",
    "    @abstractmethod\n",
    "    def createCheese(self):\n",
    "        pass\n",
    "    \n",
    "    @abstractmethod\n",
    "    def createClam(self):\n",
    "        pass"
   ]
  },
  {
   "cell_type": "markdown",
   "metadata": {},
   "source": [
    "### Concrete Factories"
   ]
  },
  {
   "cell_type": "code",
   "execution_count": 15,
   "metadata": {},
   "outputs": [],
   "source": [
    "class NYPizzaIngredientFactory(ABC):\n",
    "\n",
    "    def createDough(self):\n",
    "        return ThinCrustDough()\n",
    "\n",
    "    def createSauce(self):\n",
    "        return MarinaraSauce()\n",
    "        \n",
    "    def createCheese(self):\n",
    "        return RegianoCheese()\n",
    "    \n",
    "    def createClams(self):\n",
    "        return FreshClams()"
   ]
  },
  {
   "cell_type": "code",
   "execution_count": 16,
   "metadata": {},
   "outputs": [],
   "source": [
    "class ChicagoPizzaIngredientFactory(ABC):\n",
    "\n",
    "    def createDough(self):\n",
    "        return ThickCrustDough()\n",
    "\n",
    "    def createSauce(self):\n",
    "        return PlumTomatoSauce()\n",
    "        \n",
    "    def createCheese(self):\n",
    "        return MozzarellaCheese()\n",
    "    \n",
    "    def createClams(self):\n",
    "        return FrozenClams()"
   ]
  },
  {
   "cell_type": "markdown",
   "metadata": {},
   "source": [
    "# Classe Pizza"
   ]
  },
  {
   "cell_type": "markdown",
   "metadata": {},
   "source": [
    "* La classe __*Pizza*__  est l'interface qui sera implémentée par les différentes Pizzas (produits concrets).\n",
    "* La classe Pizza a des attributs et des méthodes permettant de se fabriquer, partagés par toutes les pizzas.  \n",
    "* Les pizzas au fromage newyorkaises et de chicago ne sont pas exactement les mêmes, mais ont les mêmes attributs et méthodes. (La méthode getName est la même pour les deux pizza mais c'est pour le plaisir d'avoir une méthode abstraite).  "
   ]
  },
  {
   "cell_type": "code",
   "execution_count": 17,
   "metadata": {},
   "outputs": [],
   "source": [
    "class Pizza(ABC):\n",
    "\n",
    "    name:str = None\n",
    "    dough:str = None\n",
    "    sauce:str = None\n",
    "    toppings:[str] = None\n",
    "    \n",
    "    @abstractmethod\n",
    "    def prepare(self):\n",
    "        pass\n",
    "     \n",
    "    def bake(self) -> str:\n",
    "        print (\"Objet Pizza : Cuisson de la pizza 15min à 180°\")\n",
    "    \n",
    "    def cut(self) -> str:\n",
    "        print (\"Objet Pizza : Découpe de la pizza\")\n",
    "    \n",
    "    def box(self) -> str:\n",
    "        print (\"Objet Pizza : Emballage de la pizza\")\n",
    "    \n",
    "    def getName(self) -> str:\n",
    "        return self.name\n",
    "    \n",
    "    def setName(self,name:str) -> None:\n",
    "        self.name = name"
   ]
  },
  {
   "cell_type": "markdown",
   "metadata": {},
   "source": [
    "### Définition de pizzas concrètes"
   ]
  },
  {
   "cell_type": "code",
   "execution_count": 18,
   "metadata": {},
   "outputs": [],
   "source": [
    "class CheesePizza(Pizza):\n",
    "    \n",
    "    ingredientFactory:PizzaIngredientFactory = None\n",
    "    name = \"CheesePizza\"    \n",
    "    \n",
    "    def __init__ (self, ingredientFactory:PizzaInfredientFactory) -> None:\n",
    "        self.ingredientFactory = ingredientFactory\n",
    "        \n",
    "    def prepare(self):\n",
    "        print(f\"Préparation d'une pizza {self.name}\")\n",
    "        self.dough = self.ingredientFactory.createDough()\n",
    "        self.sauce = self.ingredientFactory.createSauce()\n",
    "        self.cheese = self.ingredientFactory.createCheese()"
   ]
  },
  {
   "cell_type": "code",
   "execution_count": 19,
   "metadata": {},
   "outputs": [],
   "source": [
    "class ClamPizza(Pizza):\n",
    "    \n",
    "    ingredientFactory:PizzaIngredientFactory = None\n",
    "    name = \"ClamPizza\"\n",
    "    \n",
    "    def __init__ (self, ingredientFactory:PizzaInfredientFactory) -> None:\n",
    "        self.ingredientFactory = ingredientFactory\n",
    "        \n",
    "    def prepare(self):\n",
    "        print(f\"Préparation d'une pizza {self.name}\")\n",
    "        self.dough = self.ingredientFactory.createDough()\n",
    "        self.sauce = self.ingredientFactory.createSauce()\n",
    "        self.cheese = self.ingredientFactory.createCheese()\n",
    "        self.clams = self.ingredientFactory.createClams()"
   ]
  },
  {
   "cell_type": "markdown",
   "metadata": {},
   "source": [
    "### Tests des classes"
   ]
  },
  {
   "cell_type": "markdown",
   "metadata": {},
   "source": [
    "Pas à pas : "
   ]
  },
  {
   "cell_type": "code",
   "execution_count": 20,
   "metadata": {},
   "outputs": [
    {
     "name": "stdout",
     "output_type": "stream",
     "text": [
      "Préparation d'une pizza ClamPizza\n"
     ]
    }
   ],
   "source": [
    "factory = NYPizzaIngredientFactory()\n",
    "pizza = ClamPizza(factory)\n",
    "pizza.prepare()"
   ]
  },
  {
   "cell_type": "markdown",
   "metadata": {},
   "source": [
    "En plus rapide, fonctionnement similaire quelle que soit la factory utilisée :"
   ]
  },
  {
   "cell_type": "code",
   "execution_count": 21,
   "metadata": {},
   "outputs": [
    {
     "name": "stdout",
     "output_type": "stream",
     "text": [
      "Préparation d'une pizza CheesePizza\n",
      "Préparation d'une pizza CheesePizza\n"
     ]
    }
   ],
   "source": [
    "CheesePizza(ChicagoPizzaIngredientFactory()).prepare()\n",
    "CheesePizza(NYPizzaIngredientFactory()).prepare()"
   ]
  },
  {
   "cell_type": "markdown",
   "metadata": {},
   "source": [
    "# Pizza Stores"
   ]
  },
  {
   "cell_type": "code",
   "execution_count": 22,
   "metadata": {},
   "outputs": [],
   "source": [
    "class PizzaStore(ABC):\n",
    "\n",
    "    @abstractmethod\n",
    "    def createPizza(self):\n",
    "        pass\n",
    "\n",
    "    def orderPizza(self, typePizza: str) -> Pizza:\n",
    "        print(\"PizzaStore : on m'a demandé un objet Pizza, je le crée via ma methode createPizza()\")\n",
    "        # Appelle createPizza (factory method) pour créer un objet Pizza (produit)\n",
    "        pizza = self.createPizza(typePizza)\n",
    "        # Utilise les méthodes de Pizza\n",
    "        pizza.prepare()\n",
    "        pizza.bake()\n",
    "        pizza.cut()\n",
    "        pizza.box()\n",
    "        # Renvoie la pizza\n",
    "        return pizza"
   ]
  },
  {
   "cell_type": "markdown",
   "metadata": {},
   "source": [
    "### Classes Pizza Stores concrètes"
   ]
  },
  {
   "cell_type": "markdown",
   "metadata": {},
   "source": [
    "Classes concrètes, qui vont créer des pizzas au style newYorkais ou de Chicago. Pour cela on va leur attribuer une factory qui va bien pour que les pizzas créées utilisent des factory différentes en fonction que l'on soit à Chicago ou à NYC.  \n",
    "\n",
    "La façon de commander une pizza est identique quelle que soit la ville, cependant une pizza au fromage ne sera pas exactement la même chose à NYC ou Chicago.  \n",
    "\n",
    "La méthode orderPizza() appelle :\n",
    "* La creation d'une Pizza, qui sera différente en fonction de la factory en paramètre. \n",
    "* ensuite les différentes méthodes de Pizza (NB : on pourrait définir dans PizzaStore des méthodes manipulant la pizza et uniquement faire appel aux méthodes de Pizza)"
   ]
  },
  {
   "cell_type": "code",
   "execution_count": 23,
   "metadata": {},
   "outputs": [],
   "source": [
    "class NYPizzaStore(PizzaStore):\n",
    "\n",
    "    ingredientFactory:PizzaIngredientFactory = None\n",
    "    \n",
    "    def __init__(self) -> None:\n",
    "        self.ingredientFactory = NYPizzaIngredientFactory()\n",
    "    \n",
    "    def createPizza(self, typePizza: str) -> Pizza:\n",
    "        pizza:Pizza = None\n",
    "        \n",
    "        print(\"NYPizzaStore : c'est MOI qui crée l\\'objet Pizza!\")\n",
    "        if typePizza == \"Cheese\":\n",
    "            pizza = CheesePizza(self.ingredientFactory)\n",
    "            pizza.setName(\"NY Style Cheese Pizza\")\n",
    "        elif typePizza ==\"Clam\":\n",
    "            pizza = ClamPizza(self.ingredientFactory)\n",
    "            pizza.setName(\"NY Style Clam Pizza\")\n",
    "        \n",
    "        return pizza"
   ]
  },
  {
   "cell_type": "code",
   "execution_count": 24,
   "metadata": {},
   "outputs": [],
   "source": [
    "class ChicagoPizzaStore(PizzaStore):\n",
    "    \n",
    "    ingredientFactory:PizzaIngredientFactory = None\n",
    "    \n",
    "    def __init__(self) -> None:\n",
    "        self.ingredientFactory = ChicagoPizzaIngredientFactory()\n",
    "    \n",
    "    def createPizza(self, typePizza: str) -> Pizza:\n",
    "        pizza:Pizza = None\n",
    "       \n",
    "        print(\"ChicagoPizzaStore : c'est MOI qui crée l\\'objet Pizza!\")\n",
    "        if typePizza == \"Cheese\":\n",
    "            pizza = CheesePizza(self.ingredientFactory)\n",
    "            pizza.setName(\"Chicago Style Cheese Pizza\")\n",
    "        elif typePizza ==\"Clam\":\n",
    "            pizza = ClamPizza(self.ingredientFactory)\n",
    "            pizza.setName(\"Chicago Style Clam Pizza\")\n",
    "        \n",
    "        return pizza    "
   ]
  },
  {
   "cell_type": "markdown",
   "metadata": {},
   "source": [
    "### Test de nos PizzaStores"
   ]
  },
  {
   "cell_type": "code",
   "execution_count": 25,
   "metadata": {},
   "outputs": [],
   "source": [
    "# Création des magasins de Pizzas\n",
    "nyStore = NYPizzaStore()\n",
    "chicagoStore = ChicagoPizzaStore()"
   ]
  },
  {
   "cell_type": "code",
   "execution_count": 26,
   "metadata": {},
   "outputs": [
    {
     "name": "stdout",
     "output_type": "stream",
     "text": [
      "PizzaStore : on m'a demandé un objet Pizza, je le crée via ma methode createPizza()\n",
      "NYPizzaStore : c'est MOI qui crée l'objet Pizza!\n",
      "Préparation d'une pizza NY Style Cheese Pizza\n",
      "Objet Pizza : Cuisson de la pizza 15min à 180°\n",
      "Objet Pizza : Découpe de la pizza\n",
      "Objet Pizza : Emballage de la pizza\n",
      "Ethan a commandé une pizza NY Style Cheese Pizza\n",
      "\n",
      "PizzaStore : on m'a demandé un objet Pizza, je le crée via ma methode createPizza()\n",
      "ChicagoPizzaStore : c'est MOI qui crée l'objet Pizza!\n",
      "Préparation d'une pizza Chicago Style Clam Pizza\n",
      "Objet Pizza : Cuisson de la pizza 15min à 180°\n",
      "Objet Pizza : Découpe de la pizza\n",
      "Objet Pizza : Emballage de la pizza\n",
      "Joel a commandé une pizza Chicago Style Clam Pizza\n",
      "\n"
     ]
    }
   ],
   "source": [
    "# Commande de pizzas\n",
    "pizza1 = nyStore.orderPizza(\"Cheese\")\n",
    "print(f\"Ethan a commandé une pizza {pizza1.getName()}\\n\")\n",
    "pizza2 = chicagoStore.orderPizza(\"Clam\")\n",
    "print(f\"Joel a commandé une pizza {pizza2.getName()}\\n\")"
   ]
  },
  {
   "cell_type": "markdown",
   "metadata": {},
   "source": [
    "Les pizzas ont en principe des pâtes et des sauces différentes car fabriquées depuis des stores différents :"
   ]
  },
  {
   "cell_type": "code",
   "execution_count": 27,
   "metadata": {},
   "outputs": [
    {
     "name": "stdout",
     "output_type": "stream",
     "text": [
      "MarinaraSauce\n",
      "PlumTomatoSauce\n"
     ]
    }
   ],
   "source": [
    "print(pizza1.sauce)\n",
    "print(pizza2.sauce)"
   ]
  },
  {
   "cell_type": "markdown",
   "metadata": {},
   "source": [
    "### Remarques HAP\n",
    "Cet exemple est très \"complet\" parce qu'il utilise tout ce qu'on a fait avant et illustre la progression de l'usage des factories, mais j'ai l'impression qu'il est possible de faire \"mieux\" en terme d'exemple pur de Abstract Factory, et qu'il est possible de faire \"Mieux\" en terme de magasin de Pizza. Il serait intéressant de faire un diagramme de classes propres, de revoir les concepts de factories et d'être capable de les expliquer avec mes propres exemples ou de les mettre en pratique pour un truc utile à FG, pour ne plus être \"purement\" dans le pattern, mais dans l'utilisation concrète. (Et réviser également les avantages/inconvénients et cas d'usage du pattern)."
   ]
  }
 ],
 "metadata": {
  "kernelspec": {
   "display_name": "Python 3",
   "language": "python",
   "name": "python3"
  },
  "language_info": {
   "codemirror_mode": {
    "name": "ipython",
    "version": 3
   },
   "file_extension": ".py",
   "mimetype": "text/x-python",
   "name": "python",
   "nbconvert_exporter": "python",
   "pygments_lexer": "ipython3",
   "version": "3.7.1"
  }
 },
 "nbformat": 4,
 "nbformat_minor": 2
}
