{
 "cells": [
  {
   "cell_type": "markdown",
   "metadata": {},
   "source": [
    "# State Pattern Example : Bubblegum Machine"
   ]
  },
  {
   "cell_type": "markdown",
   "metadata": {},
   "source": [
    "Exemple repris depuis HFDP --> Machine à chewing gum."
   ]
  },
  {
   "cell_type": "markdown",
   "metadata": {},
   "source": [
    "## Méthodologie\n",
    "\n",
    "* Lister les états (No quarter/Has quarter/Out of gumball/Gumball sold)\n",
    "* Lister les actions possibles dans le système (Insert quarter / Turn crank / Ejects Quarter / Dispense)\n",
    "* Définir une interface reprenant toutes les actions possibles, puis définir une classe concrète par état.\n"
   ]
  },
  {
   "cell_type": "markdown",
   "metadata": {},
   "source": [
    "Ressemble à Stratégie, car on définit les actions possibles dans une interface, et ces actions sont ensuite implémentées différemment en fonction de l'état du système. On va donc avoir une variable \"state\" représentant l'état actuel du système, et sur laquelle on appelle les différentes actions réalisées.  \n",
    "La grande différence avec Stratégie est que les actions réalisées ont le pouvoir de changer State et donc de faire en sorte qu'ensuite l'action appelée puisse avoir un sens différent, car l'état du système aura changé."
   ]
  },
  {
   "cell_type": "markdown",
   "metadata": {},
   "source": [
    "GumballlMachine : \n",
    "* Initialisation une instance de chacun des état\n",
    "* A une propriété \"State\" initialisée à l'un de ces états\n",
    "* A un setter pour State permettant de modifier l'état\n",
    "* A des getters pour chacun des états\n",
    "\n",
    "Chaque état :\n",
    "* A une référence à gumballMachine\n",
    "* De façon à pouvoir utiliser les getters des différents états pour modifier la valeur de State.\n",
    "\n",
    "C'est cette gynmastique qui explique des lignes comme la suivante dans les états concrets : \n",
    "```python\n",
    "self._gumballMachine.setState(self._gumballMachine.getHasQuarterState())\n",
    "```"
   ]
  },
  {
   "cell_type": "code",
   "execution_count": 1,
   "metadata": {},
   "outputs": [],
   "source": [
    "import random"
   ]
  },
  {
   "cell_type": "markdown",
   "metadata": {},
   "source": [
    "## State Class"
   ]
  },
  {
   "cell_type": "code",
   "execution_count": 2,
   "metadata": {},
   "outputs": [],
   "source": [
    "class State:\n",
    "    \n",
    "    def insertQuarter():\n",
    "        pass\n",
    "    \n",
    "    def ejectQuarter():\n",
    "        pass\n",
    "    \n",
    "    def turnCrank():\n",
    "        pass\n",
    "    \n",
    "    def dispense():\n",
    "        pass"
   ]
  },
  {
   "cell_type": "markdown",
   "metadata": {},
   "source": [
    "## Gumball Machine"
   ]
  },
  {
   "cell_type": "code",
   "execution_count": 3,
   "metadata": {},
   "outputs": [],
   "source": [
    "class GumballMachine:\n",
    "    \n",
    "    soldOutState : State = None\n",
    "    noQuarterState : State = None\n",
    "    hasQuarterState : State = None\n",
    "    soldState : State = None\n",
    "    winnerState : State = None\n",
    "    \n",
    "    state : State = soldOutState\n",
    "    count: int = 0\n",
    "        \n",
    "    def __init__(self, numberGumballs: int):\n",
    "        self.soldOutState = SoldOutState(self)\n",
    "        self.noQuarterState = NoQuarterState(self)\n",
    "        self.hasQuarterState = HasQuarterState(self)\n",
    "        self.soldState = SoldState(self)\n",
    "        self.winnerState = WinnerState(self)\n",
    "        self.count = numberGumballs\n",
    "        \n",
    "        if self.count > 0 :\n",
    "            self.state = self.noQuarterState\n",
    "    \n",
    "    def getSoldOutState(self)->State:\n",
    "        return self.soldOutState\n",
    "    \n",
    "    def getNoQuarterState(self)->State:\n",
    "        return self.noQuarterState\n",
    "    \n",
    "    def getHasQuarterState(self)->State:\n",
    "        return self.hasQuarterState\n",
    "    \n",
    "    def getSoldState(self)->State:\n",
    "        return self.soldState\n",
    "    \n",
    "    def getWinnerState(self)->State:\n",
    "        return self.winnerState\n",
    "    \n",
    "    def getCount(self) -> int:\n",
    "        return self.count\n",
    "    \n",
    "    def insertQuarter(self) -> None:\n",
    "        self.state.insertQuarter()\n",
    "        \n",
    "    def ejectQuarter(self) -> None:\n",
    "        self.state.ejectQuarter()\n",
    "        \n",
    "    def turnCrank(self) -> None:\n",
    "        self.state.turnCrank()\n",
    "        self.state.dispense()\n",
    "    \n",
    "    def setState(self, state: State):\n",
    "        self.state = state\n",
    "        \n",
    "    def releaseBall(self) -> None:\n",
    "        print('A gumball comes rolling out the slot...')\n",
    "        if self.count != 0 :\n",
    "            self.count = self.count - 1\n",
    "    \n",
    "        \n",
    "    "
   ]
  },
  {
   "cell_type": "markdown",
   "metadata": {},
   "source": [
    "## Concrete States"
   ]
  },
  {
   "cell_type": "code",
   "execution_count": 4,
   "metadata": {},
   "outputs": [],
   "source": [
    "class SoldState(State):\n",
    "    \n",
    "    _gumballMachine: GumballMachine = None\n",
    "    \n",
    "    def __init__(self, gumballMachine: GumballMachine):\n",
    "        self._gumballMachine = gumballMachine\n",
    "    \n",
    "    def insertQuarter(self):\n",
    "        print(\"You inserted a quarter\")\n",
    "        self._gumballMachine.setState(self._gumballMachine.getHasQuarterState())\n",
    "    \n",
    "    def ejectQuarter(self):\n",
    "        print(\"Sorry, you already turned the crank\")\n",
    "    \n",
    "    def turnCrank(self):\n",
    "        print(\"Sorry, turning twice doesn't get you another gumball\")\n",
    "    \n",
    "    def dispense(self):\n",
    "        self._gumballMachine.releaseBall()\n",
    "        if self._gumballMachine.getCount() >0 :\n",
    "            self._gumballMachine.setState(self._gumballMachine.getNoQuarterState())\n",
    "        else:\n",
    "            print(\"Ooops out of gumballs!\")\n",
    "            self._gumballMachine.setState(self._gumballMachine.getSoldOutState())"
   ]
  },
  {
   "cell_type": "code",
   "execution_count": 5,
   "metadata": {},
   "outputs": [],
   "source": [
    "class WinnerState(State):\n",
    "    \n",
    "    _gumballMachine: GumballMachine = None\n",
    "        \n",
    "    def __init__(self, gumballMachine: GumballMachine):\n",
    "        self._gumballMachine = gumballMachine\n",
    "    \n",
    "    def insertQuarter(self):\n",
    "        print(\"You inserted a quarter\")\n",
    "        self._gumballMachine.setState(self._gumballMachine.getHasQuarterState())\n",
    "    \n",
    "    def ejectQuarter(self):\n",
    "        print(\"Sorry, you already turned the crank\")\n",
    "    \n",
    "    def turnCrank(self):\n",
    "        print(\"Sorry, turning twice doesn't get you another gumball\")\n",
    "    \n",
    "    def dispense(self):\n",
    "        print(\"YOU'RE A WINNER!! You get two gumballs for your quarter\")\n",
    "        self._gumballMachine.releaseBall()\n",
    "        if self._gumballMachine.getCount() == 0 :\n",
    "            self._gumballMachine.setState(self._gumballMachine.getSoldOutState())\n",
    "        else:\n",
    "            self._gumballMachine.releaseBall()\n",
    "            if self._gumballMachine.getCount() > 0 :\n",
    "                self._gumballMachine.setState(self._gumballMachine.getNoQuarterState())\n",
    "            else:\n",
    "                print(\"Ooops, out of gumballs\")\n",
    "                self._gumballMachine.setState(self._gumballMachine.getSoldOutState())"
   ]
  },
  {
   "cell_type": "code",
   "execution_count": 6,
   "metadata": {},
   "outputs": [],
   "source": [
    "class HasQuarterState(State):\n",
    "    \n",
    "    _gumballMachine: GumballMachine = None\n",
    "        \n",
    "    def __init__(self, gumballMachine: GumballMachine):\n",
    "        self._gumballMachine = gumballMachine\n",
    "    \n",
    "    def insertQuarter(self):\n",
    "        print(\"You can't insert another quarter\")\n",
    "    \n",
    "    def ejectQuarter(self):\n",
    "        print(\"Quarter returned\")\n",
    "        self._gumballMachine.setState(self._gumballMachine.getNoQuarterState())\n",
    "    \n",
    "    def turnCrank(self):\n",
    "        print(\"You turned...\")\n",
    "        winner = random.randrange(10)\n",
    "        if (winner == 0) and (self._gumballMachine.getCount() > 1):\n",
    "            self._gumballMachine.setState(self._gumballMachine.getWinnerState())\n",
    "        else:\n",
    "            self._gumballMachine.setState(self._gumballMachine.getSoldState())\n",
    "        \n",
    "    def dispense(self):\n",
    "        print(\"No gumball dispensed\")"
   ]
  },
  {
   "cell_type": "code",
   "execution_count": 7,
   "metadata": {},
   "outputs": [],
   "source": [
    "class SoldOutState(State):\n",
    "    \n",
    "    _gumballMachine: GumballMachine = None\n",
    "        \n",
    "    def __init__(self, gumballMachine: GumballMachine):\n",
    "        self._gumballMachine = gumballMachine\n",
    "    \n",
    "    def insertQuarter(self):\n",
    "        print(\"You can't insert a quarter, the machine is sold out\")\n",
    "    \n",
    "    def ejectQuarter(self):\n",
    "        print(\"You can't eject a quarter, you haven't inserted a quarter yet\")\n",
    "    \n",
    "    def turnCrank(self):\n",
    "        print(\"You turned, but there is no gumball\")\n",
    "    \n",
    "    def dispense(self):\n",
    "        print(\"No gumball dispensed\")"
   ]
  },
  {
   "cell_type": "code",
   "execution_count": 8,
   "metadata": {},
   "outputs": [],
   "source": [
    "class NoQuarterState(State):\n",
    "    \n",
    "    _gumballMachine: GumballMachine = None\n",
    "        \n",
    "    def __init__(self, gumballMachine: GumballMachine):\n",
    "        self._gumballMachine = gumballMachine\n",
    "    \n",
    "    def insertQuarter(self):\n",
    "        print(\"A quarter was inserted\")\n",
    "        self._gumballMachine.setState(self._gumballMachine.getHasQuarterState())\n",
    "    \n",
    "    def ejectQuarter(self):\n",
    "        print(\"You haven't inserted a quarter\")\n",
    "    \n",
    "    def turnCrank(self):\n",
    "        print(\"You turned but there is no quarter\")\n",
    "    \n",
    "    def dispense(self):\n",
    "        print(\"You need to pay first\")"
   ]
  },
  {
   "cell_type": "markdown",
   "metadata": {},
   "source": [
    "## Classe cliente"
   ]
  },
  {
   "cell_type": "code",
   "execution_count": 13,
   "metadata": {},
   "outputs": [
    {
     "name": "stdout",
     "output_type": "stream",
     "text": [
      "A quarter was inserted\n",
      "You turned...\n",
      "YOU'RE A WINNER!! You get two gumballs for your quarter\n",
      "A gumball comes rolling out the slot...\n",
      "A gumball comes rolling out the slot...\n",
      "A quarter was inserted\n",
      "Quarter returned\n",
      "You haven't inserted a quarter\n",
      "A quarter was inserted\n",
      "You can't insert another quarter\n",
      "You turned...\n",
      "A gumball comes rolling out the slot...\n",
      "You turned but there is no quarter\n",
      "You need to pay first\n",
      "You turned but there is no quarter\n",
      "You need to pay first\n",
      "A quarter was inserted\n",
      "You turned...\n",
      "A gumball comes rolling out the slot...\n",
      "A quarter was inserted\n",
      "You turned...\n",
      "A gumball comes rolling out the slot...\n",
      "Ooops out of gumballs!\n",
      "You can't insert a quarter, the machine is sold out\n",
      "You turned, but there is no gumball\n",
      "No gumball dispensed\n",
      "You can't insert a quarter, the machine is sold out\n",
      "You turned, but there is no gumball\n",
      "No gumball dispensed\n",
      "You can't insert a quarter, the machine is sold out\n",
      "You turned, but there is no gumball\n",
      "No gumball dispensed\n",
      "You can't insert a quarter, the machine is sold out\n",
      "You turned, but there is no gumball\n",
      "No gumball dispensed\n"
     ]
    }
   ],
   "source": [
    "class GumballMachineTestDrive:\n",
    "    \n",
    "    if __name__ == \"__main__\" :\n",
    "        \n",
    "        gM = GumballMachine(5)\n",
    "        gM.insertQuarter()\n",
    "        gM.turnCrank()\n",
    "        \n",
    "        gM.insertQuarter()\n",
    "        gM.ejectQuarter()\n",
    "        gM.ejectQuarter()\n",
    "        \n",
    "        gM.insertQuarter()\n",
    "        gM.insertQuarter()\n",
    "        gM.turnCrank()\n",
    "        gM.turnCrank()\n",
    "        \n",
    "        gM.turnCrank()\n",
    "        gM.insertQuarter()\n",
    "        gM.turnCrank()\n",
    "        \n",
    "        gM.insertQuarter()\n",
    "        gM.turnCrank()\n",
    "        gM.insertQuarter()\n",
    "        gM.turnCrank()\n",
    "        gM.insertQuarter()\n",
    "        gM.turnCrank()\n",
    "        gM.insertQuarter()\n",
    "        gM.turnCrank()\n",
    "        gM.insertQuarter()\n",
    "        gM.turnCrank()\n",
    "        "
   ]
  }
 ],
 "metadata": {
  "kernelspec": {
   "display_name": "Python 3",
   "language": "python",
   "name": "python3"
  },
  "language_info": {
   "codemirror_mode": {
    "name": "ipython",
    "version": 3
   },
   "file_extension": ".py",
   "mimetype": "text/x-python",
   "name": "python",
   "nbconvert_exporter": "python",
   "pygments_lexer": "ipython3",
   "version": "3.7.1"
  }
 },
 "nbformat": 4,
 "nbformat_minor": 2
}
