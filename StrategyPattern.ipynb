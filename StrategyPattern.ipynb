{
 "cells": [
  {
   "cell_type": "markdown",
   "metadata": {},
   "source": [
    "# Pattern Strategy"
   ]
  },
  {
   "cell_type": "markdown",
   "metadata": {},
   "source": [
    "Code repris depuis https://refactoring.guru/design-patterns/strategy"
   ]
  },
  {
   "cell_type": "markdown",
   "metadata": {},
   "source": [
    "![Structure Pattern Strategy](Images/Strategy.png)"
   ]
  },
  {
   "cell_type": "code",
   "execution_count": 11,
   "metadata": {},
   "outputs": [],
   "source": [
    "from __future__ import annotations\n",
    "from abc import ABC, abstractmethod\n",
    "from typing import List"
   ]
  },
  {
   "cell_type": "code",
   "execution_count": 12,
   "metadata": {},
   "outputs": [],
   "source": [
    "class Context():\n",
    "    \"\"\"\n",
    "    Définit l'interface\n",
    "    \"\"\"\n",
    "    \n",
    "    def __init__(self, strategy: Strategy) -> None:\n",
    "        \"\"\"\n",
    "        Accepte une stratégie dans le constructeur\n",
    "        Propose en général un setter pour en changer au runtime\n",
    "        \"\"\"\n",
    "        \n",
    "        self._strategy = strategy\n",
    "        \n",
    "    @property\n",
    "    def strategy(self) -> Strategy:\n",
    "        \"\"\"\n",
    "        Référence à une propriété de type Strategy\n",
    "        Le contexte ne sait pas quelle est la classe concrète\n",
    "        Fonctionne avec n'importe laquelle\n",
    "        \"\"\"\n",
    "        \n",
    "        return self._strategy\n",
    "    \n",
    "    @strategy.setter\n",
    "    def strategy(self, strategy:Strategy) -> None:\n",
    "        \"\"\"\n",
    "        Setter pour permettre de changer de stratégie au runtime\n",
    "        \"\"\"\n",
    "        self._strategy = strategy\n",
    "        \n",
    "    def do_some_business_logic(self) -> None:\n",
    "        \"\"\"\n",
    "        Délégation de l'action à l'objet Strategy\n",
    "        \"\"\"\n",
    "        print(\"Context: Sorting data using the strategy (not sure how it'll do it)\")\n",
    "        result = self._strategy.do_algorithm([\"a\", \"b\", \"c\", \"d\", \"e\"])\n",
    "        print(\",\".join(result))\n",
    "        "
   ]
  },
  {
   "cell_type": "code",
   "execution_count": 13,
   "metadata": {},
   "outputs": [],
   "source": [
    "class Strategy(ABC):\n",
    "    \"\"\"\n",
    "    Interface\n",
    "    \"\"\"\n",
    "    \n",
    "    @abstractmethod\n",
    "    def do_algorithm(self, data:List):\n",
    "        pass"
   ]
  },
  {
   "cell_type": "code",
   "execution_count": 14,
   "metadata": {},
   "outputs": [],
   "source": [
    "class ConcreteStrategyA(Strategy):\n",
    "    def do_algorithm(self, data: List) -> List:\n",
    "        return sorted(data)"
   ]
  },
  {
   "cell_type": "code",
   "execution_count": 19,
   "metadata": {},
   "outputs": [],
   "source": [
    "class ConcreteStrategyB(Strategy):\n",
    "    def do_algorithm(self, data: List) -> List:\n",
    "        return reversed(sorted(data))"
   ]
  },
  {
   "cell_type": "code",
   "execution_count": 16,
   "metadata": {},
   "outputs": [],
   "source": [
    "context = Context(ConcreteStrategyA())"
   ]
  },
  {
   "cell_type": "code",
   "execution_count": 17,
   "metadata": {},
   "outputs": [
    {
     "name": "stdout",
     "output_type": "stream",
     "text": [
      "Context: Sorting data using the strategy (not sure how it'll do it)\n",
      "a,b,c,d,e\n"
     ]
    }
   ],
   "source": [
    "context.do_some_business_logic()"
   ]
  },
  {
   "cell_type": "code",
   "execution_count": 20,
   "metadata": {},
   "outputs": [
    {
     "name": "stdout",
     "output_type": "stream",
     "text": [
      "Context: Sorting data using the strategy (not sure how it'll do it)\n",
      "e,d,c,b,a\n"
     ]
    }
   ],
   "source": [
    "context.strategy = ConcreteStrategyB()\n",
    "context.do_some_business_logic()"
   ]
  }
 ],
 "metadata": {
  "kernelspec": {
   "display_name": "Python 3",
   "language": "python",
   "name": "python3"
  },
  "language_info": {
   "codemirror_mode": {
    "name": "ipython",
    "version": 3
   },
   "file_extension": ".py",
   "mimetype": "text/x-python",
   "name": "python",
   "nbconvert_exporter": "python",
   "pygments_lexer": "ipython3",
   "version": "3.7.6"
  }
 },
 "nbformat": 4,
 "nbformat_minor": 2
}
